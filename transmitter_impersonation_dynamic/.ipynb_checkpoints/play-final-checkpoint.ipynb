{
 "cells": [
  {
   "cell_type": "code",
   "execution_count": 1,
   "metadata": {},
   "outputs": [],
   "source": [
    "from WirelessSystem.system import *"
   ]
  },
  {
   "cell_type": "code",
   "execution_count": 2,
   "metadata": {},
   "outputs": [],
   "source": [
    "%load_ext autoreload\n",
    "%autoreload 2"
   ]
  },
  {
   "cell_type": "code",
   "execution_count": 3,
   "metadata": {},
   "outputs": [
    {
     "name": "stderr",
     "output_type": "stream",
     "text": [
      "Using TensorFlow backend.\n"
     ]
    }
   ],
   "source": [
    "import keras"
   ]
  },
  {
   "cell_type": "code",
   "execution_count": 4,
   "metadata": {},
   "outputs": [
    {
     "name": "stdout",
     "output_type": "stream",
     "text": [
      "WARNING:tensorflow:From C:\\Users\\samur\\Anaconda3\\envs\\tf_gpu\\lib\\site-packages\\keras\\backend\\tensorflow_backend.py:174: The name tf.get_default_session is deprecated. Please use tf.compat.v1.get_default_session instead.\n",
      "\n",
      "WARNING:tensorflow:From C:\\Users\\samur\\Anaconda3\\envs\\tf_gpu\\lib\\site-packages\\keras\\backend\\tensorflow_backend.py:181: The name tf.ConfigProto is deprecated. Please use tf.compat.v1.ConfigProto instead.\n",
      "\n",
      "WARNING:tensorflow:From C:\\Users\\samur\\Anaconda3\\envs\\tf_gpu\\lib\\site-packages\\keras\\backend\\tensorflow_backend.py:186: The name tf.Session is deprecated. Please use tf.compat.v1.Session instead.\n",
      "\n",
      "WARNING:tensorflow:From C:\\Users\\samur\\Anaconda3\\envs\\tf_gpu\\lib\\site-packages\\keras\\backend\\tensorflow_backend.py:190: The name tf.global_variables is deprecated. Please use tf.compat.v1.global_variables instead.\n",
      "\n"
     ]
    }
   ],
   "source": [
    "import os\n",
    "import numpy as np\n",
    "from SigGAN.train import Trainer"
   ]
  },
  {
   "cell_type": "code",
   "execution_count": 5,
   "metadata": {},
   "outputs": [],
   "source": [
    "import tensorflow as tf"
   ]
  },
  {
   "cell_type": "code",
   "execution_count": 6,
   "metadata": {},
   "outputs": [],
   "source": [
    "def norm(sig_u):\n",
    "    pwr = np.sqrt(np.mean(np.sum(sig_u**2,axis = -1),axis = -1))\n",
    "    sig_u = sig_u/pwr[:,None,None]\n",
    "    print(sig_u.shape)\n",
    "    return sig_u"
   ]
  },
  {
   "cell_type": "code",
   "execution_count": 7,
   "metadata": {},
   "outputs": [],
   "source": [
    "def shuffle(vec1,vec2,seed = 0):\n",
    "    np.random.seed(0)\n",
    "    shfl_indx = np.arange(vec1.shape[0])\n",
    "    np.random.shuffle(shfl_indx)\n",
    "    shfl_indx = shfl_indx.astype('int')\n",
    "    vec1 = vec1[shfl_indx]\n",
    "    vec2 = np.copy(vec2[shfl_indx])\n",
    "    return vec1,vec2"
   ]
  },
  {
   "cell_type": "code",
   "execution_count": 8,
   "metadata": {},
   "outputs": [],
   "source": [
    "def split(vec,n_train,n_valid,n_test):\n",
    "    vec_train = vec[0:n_train]\n",
    "    vec_valid = vec[n_train:n_train+n_valid]\n",
    "    vec_test = vec[n_train+n_valid:]\n",
    "    return vec_train,vec_valid,vec_test"
   ]
  },
  {
   "cell_type": "code",
   "execution_count": 9,
   "metadata": {},
   "outputs": [],
   "source": [
    "n_symbols = 256 // 2\n",
    "n_authorized = 5\n",
    "n_unauthorized = 5"
   ]
  },
  {
   "cell_type": "code",
   "execution_count": 10,
   "metadata": {},
   "outputs": [],
   "source": [
    "rf_system = RFSystem(n_authorized = n_authorized, n_unauthorized = n_unauthorized)"
   ]
  },
  {
   "cell_type": "code",
   "execution_count": 11,
   "metadata": {},
   "outputs": [],
   "source": [
    "sig_auth_, txid_auth = rf_system.get_n_received_symbol_blocks(1000, n_symbols, authorized = 0)\n",
    "sig_unauth_, txid_unauth = rf_system.get_n_received_symbol_blocks(1000, n_symbols, authorized = 1)\n",
    "sig_impersonate_, _ = rf_system.get_n_received_symbol_blocks(10, n_symbols, authorized = 2)"
   ]
  },
  {
   "cell_type": "code",
   "execution_count": 12,
   "metadata": {},
   "outputs": [],
   "source": [
    "sig_auth=sig_auth_\n",
    "sig_unauth=sig_unauth_"
   ]
  },
  {
   "cell_type": "code",
   "execution_count": 13,
   "metadata": {},
   "outputs": [],
   "source": [
    "sig_impersonate_ad_, _ = rf_system.get_n_received_symbol_blocks(1000, n_symbols, authorized = 2)\n",
    "sig_impersonate_ad=sig_impersonate_ad_"
   ]
  },
  {
   "cell_type": "code",
   "execution_count": 14,
   "metadata": {},
   "outputs": [],
   "source": [
    "sig_impersonate=sig_impersonate_.reshape((-1,2))"
   ]
  },
  {
   "cell_type": "code",
   "execution_count": 15,
   "metadata": {},
   "outputs": [
    {
     "data": {
      "text/plain": [
       "(2560, 2)"
      ]
     },
     "execution_count": 15,
     "metadata": {},
     "output_type": "execute_result"
    }
   ],
   "source": [
    "sig_impersonate.shape"
   ]
  },
  {
   "cell_type": "code",
   "execution_count": 16,
   "metadata": {},
   "outputs": [
    {
     "data": {
      "text/plain": [
       "(1000, 256, 2)"
      ]
     },
     "execution_count": 16,
     "metadata": {},
     "output_type": "execute_result"
    }
   ],
   "source": [
    "np.shape(sig_auth)"
   ]
  },
  {
   "cell_type": "code",
   "execution_count": 17,
   "metadata": {},
   "outputs": [],
   "source": [
    "# hyper parameters\n",
    "B = 64 # batch size\n",
    "T = 256 # Max length of sentence\n",
    "g_H = 100 # Generator LSTM hidden size\n",
    "g_lr = 1e-3\n",
    "d_dropout = 0.5 # dropout ratio\n",
    "d_lr = 1e-3\n",
    "\n",
    "n_sample=1 # Number of Monte Calro Search\n",
    "generate_samples = 2000 # Number of generated sentences\n",
    "\n",
    "# Pretraining parameters\n",
    "g_pre_lr = 1e-3\n",
    "d_pre_lr = 1e-3\n",
    "g_pre_epochs= 60\n",
    "d_pre_epochs = 1"
   ]
  },
  {
   "cell_type": "code",
   "execution_count": 37,
   "metadata": {},
   "outputs": [],
   "source": [
    "trainer = Trainer(rf_system, B, T, n_authorized, g_H, d_dropout, g_lr=g_lr, d_lr=d_lr, n_sample=n_sample, generate_samples=generate_samples)"
   ]
  },
  {
   "cell_type": "code",
   "execution_count": 19,
   "metadata": {},
   "outputs": [],
   "source": [
    "sig_rd = np.concatenate([sig_auth,sig_impersonate_ad])\n",
    "txid_rd = np.concatenate([txid_auth,np.ones((sig_impersonate_ad.shape[0],))*n_authorized])"
   ]
  },
  {
   "cell_type": "code",
   "execution_count": 20,
   "metadata": {},
   "outputs": [],
   "source": [
    "sig_rd, txid_rd = shuffle(sig_rd, txid_rd)"
   ]
  },
  {
   "cell_type": "code",
   "execution_count": 21,
   "metadata": {},
   "outputs": [],
   "source": [
    "txid_disc = txid_rd == n_authorized\n",
    "txid_disc = np.invert(txid_disc)\n",
    "txid_disc = txid_disc.astype(int)"
   ]
  },
  {
   "cell_type": "code",
   "execution_count": 22,
   "metadata": {},
   "outputs": [
    {
     "name": "stdout",
     "output_type": "stream",
     "text": [
      "[0 1]\n",
      "[0. 1. 2. 3. 4. 5.]\n"
     ]
    }
   ],
   "source": [
    "print(np.unique(txid_disc))\n",
    "print(np.unique(txid_rd))"
   ]
  },
  {
   "cell_type": "code",
   "execution_count": 23,
   "metadata": {},
   "outputs": [],
   "source": [
    "test_frac = 0.1\n",
    "valid_frac  = 0.2\n",
    "\n",
    "n_samples  = sig_rd.shape[0]\n",
    "\n",
    "n_test = int(test_frac*n_samples)\n",
    "n_valid = int(valid_frac*n_samples)\n",
    "n_train = n_samples - n_test - n_valid"
   ]
  },
  {
   "cell_type": "code",
   "execution_count": 24,
   "metadata": {},
   "outputs": [],
   "source": [
    "sig_rd_train,sig_rd_valid,sig_rd_test=split(sig_rd,n_train,n_valid,n_test)"
   ]
  },
  {
   "cell_type": "code",
   "execution_count": 25,
   "metadata": {},
   "outputs": [],
   "source": [
    "out_train,out_valid,out_test=split(txid_disc,n_train,n_valid,n_test)"
   ]
  },
  {
   "cell_type": "code",
   "execution_count": 38,
   "metadata": {},
   "outputs": [
    {
     "name": "stdout",
     "output_type": "stream",
     "text": [
      "__________________________________________________________________________________________________\n",
      "Layer (type)                    Output Shape         Param #     Connected to                     \n",
      "==================================================================================================\n",
      "input_2 (InputLayer)            (None, 256, 2)       0                                            \n",
      "__________________________________________________________________________________________________\n",
      "reshape_2 (Reshape)             (None, 256, 2, 1)    0           input_2[0][0]                    \n",
      "__________________________________________________________________________________________________\n",
      "1_conv1 (Conv2D)                (None, 256, 2, 16)   32          reshape_2[0][0]                  \n",
      "__________________________________________________________________________________________________\n",
      "1_conv2 (Conv2D)                (None, 256, 2, 16)   1552        1_conv1[0][0]                    \n",
      "__________________________________________________________________________________________________\n",
      "1_bn (BatchNormalization)       (None, 256, 2, 16)   64          1_conv2[0][0]                    \n",
      "__________________________________________________________________________________________________\n",
      "1_act1 (Activation)             (None, 256, 2, 16)   0           1_bn[0][0]                       \n",
      "__________________________________________________________________________________________________\n",
      "1_conv3 (Conv2D)                (None, 256, 2, 16)   1552        1_act1[0][0]                     \n",
      "__________________________________________________________________________________________________\n",
      "1_bn2 (BatchNormalization)      (None, 256, 2, 16)   64          1_conv3[0][0]                    \n",
      "__________________________________________________________________________________________________\n",
      "1_add (Add)                     (None, 256, 2, 16)   0           1_bn2[0][0]                      \n",
      "                                                                 1_conv1[0][0]                    \n",
      "__________________________________________________________________________________________________\n",
      "1_act2 (Activation)             (None, 256, 2, 16)   0           1_add[0][0]                      \n",
      "__________________________________________________________________________________________________\n",
      "3_0_conv1 (Conv2D)              (None, 256, 2, 32)   544         1_act2[0][0]                     \n",
      "__________________________________________________________________________________________________\n",
      "3_0_conv2 (Conv2D)              (None, 256, 2, 32)   6176        3_0_conv1[0][0]                  \n",
      "__________________________________________________________________________________________________\n",
      "3_0_bn (BatchNormalization)     (None, 256, 2, 32)   128         3_0_conv2[0][0]                  \n",
      "__________________________________________________________________________________________________\n",
      "3_0_act1 (Activation)           (None, 256, 2, 32)   0           3_0_bn[0][0]                     \n",
      "__________________________________________________________________________________________________\n",
      "3_0_conv3 (Conv2D)              (None, 256, 2, 32)   6176        3_0_act1[0][0]                   \n",
      "__________________________________________________________________________________________________\n",
      "3_0_bn2 (BatchNormalization)    (None, 256, 2, 32)   128         3_0_conv3[0][0]                  \n",
      "__________________________________________________________________________________________________\n",
      "3_0_add (Add)                   (None, 256, 2, 32)   0           3_0_bn2[0][0]                    \n",
      "                                                                 3_0_conv1[0][0]                  \n",
      "__________________________________________________________________________________________________\n",
      "3_0_act2 (Activation)           (None, 256, 2, 32)   0           3_0_add[0][0]                    \n",
      "__________________________________________________________________________________________________\n",
      "max_pooling2d_2 (MaxPooling2D)  (None, 128, 2, 32)   0           3_0_act2[0][0]                   \n",
      "__________________________________________________________________________________________________\n",
      "conv2d_2 (Conv2D)               (None, 128, 2, 16)   528         max_pooling2d_2[0][0]            \n",
      "__________________________________________________________________________________________________\n",
      "flatten_2 (Flatten)             (None, 4096)         0           conv2d_2[0][0]                   \n",
      "__________________________________________________________________________________________________\n",
      "dense_2 (Dense)                 (None, 10)           40970       flatten_2[0][0]                  \n",
      "__________________________________________________________________________________________________\n",
      "dropout_2 (Dropout)             (None, 10)           0           dense_2[0][0]                    \n",
      "__________________________________________________________________________________________________\n",
      "sftmx_0 (Dense)                 (None, 1)            11          dropout_2[0][0]                  \n",
      "==================================================================================================\n",
      "Total params: 57,925\n",
      "Trainable params: 57,733\n",
      "Non-trainable params: 192\n",
      "__________________________________________________________________________________________________\n",
      "Discriminator pre-training\n",
      "Train on 1400 samples, validate on 400 samples\n",
      "Epoch 1/200\n",
      "1400/1400 [==============================] - 2s 1ms/step - loss: 1.0623 - val_loss: 0.9126\n",
      "Epoch 2/200\n",
      "1400/1400 [==============================] - 0s 186us/step - loss: 0.9233 - val_loss: 0.9093\n",
      "Epoch 3/200\n",
      "1400/1400 [==============================] - 0s 175us/step - loss: 0.9153 - val_loss: 0.9093\n",
      "Epoch 4/200\n",
      "1400/1400 [==============================] - 0s 164us/step - loss: 0.9124 - val_loss: 0.9076\n",
      "Epoch 5/200\n",
      "1400/1400 [==============================] - 0s 162us/step - loss: 0.9117 - val_loss: 0.9072\n",
      "Epoch 6/200\n",
      "1400/1400 [==============================] - 0s 166us/step - loss: 0.9075 - val_loss: 0.9061\n",
      "Epoch 7/200\n",
      "1400/1400 [==============================] - 0s 164us/step - loss: 0.9001 - val_loss: 0.9034\n",
      "Epoch 8/200\n",
      "1400/1400 [==============================] - 0s 160us/step - loss: 0.9019 - val_loss: 0.9003\n",
      "Epoch 9/200\n",
      "1400/1400 [==============================] - 0s 195us/step - loss: 0.8967 - val_loss: 0.8993\n",
      "Epoch 10/200\n",
      "1400/1400 [==============================] - 0s 165us/step - loss: 0.8892 - val_loss: 0.8978\n",
      "Epoch 11/200\n",
      "1400/1400 [==============================] - 0s 165us/step - loss: 0.8905 - val_loss: 0.8971\n",
      "Epoch 12/200\n",
      "1400/1400 [==============================] - 0s 165us/step - loss: 0.8871 - val_loss: 0.8955\n",
      "Epoch 13/200\n",
      "1400/1400 [==============================] - 0s 164us/step - loss: 0.8815 - val_loss: 0.8955\n",
      "Epoch 14/200\n",
      "1400/1400 [==============================] - 0s 165us/step - loss: 0.8737 - val_loss: 0.8931\n",
      "Epoch 15/200\n",
      "1400/1400 [==============================] - 0s 169us/step - loss: 0.8719 - val_loss: 0.8924\n",
      "Epoch 16/200\n",
      "1400/1400 [==============================] - 0s 164us/step - loss: 0.8625 - val_loss: 0.8891\n",
      "Epoch 17/200\n",
      "1400/1400 [==============================] - 0s 166us/step - loss: 0.8545 - val_loss: 0.8894\n",
      "Epoch 18/200\n",
      "1400/1400 [==============================] - 0s 165us/step - loss: 0.8536 - val_loss: 0.8859\n",
      "Epoch 19/200\n",
      "1400/1400 [==============================] - 0s 165us/step - loss: 0.8473 - val_loss: 0.8862\n",
      "Epoch 20/200\n",
      "1400/1400 [==============================] - 0s 162us/step - loss: 0.8393 - val_loss: 0.8810\n",
      "Epoch 21/200\n",
      "1400/1400 [==============================] - 0s 155us/step - loss: 0.8322 - val_loss: 0.8782\n",
      "Epoch 22/200\n",
      "1400/1400 [==============================] - 0s 160us/step - loss: 0.8216 - val_loss: 0.8726\n",
      "Epoch 23/200\n",
      "1400/1400 [==============================] - 0s 162us/step - loss: 0.8136 - val_loss: 0.8763\n",
      "Epoch 24/200\n",
      "1400/1400 [==============================] - 0s 162us/step - loss: 0.7980 - val_loss: 0.8650\n",
      "Epoch 25/200\n",
      "1400/1400 [==============================] - 0s 157us/step - loss: 0.7931 - val_loss: 0.8659\n",
      "Epoch 26/200\n",
      "1400/1400 [==============================] - 0s 162us/step - loss: 0.7815 - val_loss: 0.8573\n",
      "Epoch 27/200\n",
      "1400/1400 [==============================] - 0s 164us/step - loss: 0.7659 - val_loss: 0.8519\n",
      "Epoch 28/200\n",
      "1400/1400 [==============================] - 0s 160us/step - loss: 0.7552 - val_loss: 0.8473\n",
      "Epoch 29/200\n",
      "1400/1400 [==============================] - 0s 162us/step - loss: 0.7459 - val_loss: 0.8280\n",
      "Epoch 30/200\n",
      "1400/1400 [==============================] - 0s 161us/step - loss: 0.7371 - val_loss: 0.8545\n",
      "Epoch 31/200\n",
      "1400/1400 [==============================] - 0s 164us/step - loss: 0.7071 - val_loss: 0.8812\n",
      "Epoch 32/200\n",
      "1400/1400 [==============================] - 0s 162us/step - loss: 0.6962 - val_loss: 0.8170\n",
      "Epoch 33/200\n",
      "1400/1400 [==============================] - 0s 161us/step - loss: 0.6951 - val_loss: 0.8413\n",
      "Epoch 34/200\n",
      "1400/1400 [==============================] - 0s 191us/step - loss: 0.6847 - val_loss: 0.8486\n",
      "Epoch 35/200\n",
      "1400/1400 [==============================] - 0s 167us/step - loss: 0.6722 - val_loss: 0.8690\n",
      "Epoch 36/200\n",
      "1400/1400 [==============================] - 0s 162us/step - loss: 0.6274 - val_loss: 0.9139\n",
      "Epoch 37/200\n",
      "1400/1400 [==============================] - 0s 158us/step - loss: 0.6238 - val_loss: 0.9972\n",
      "Epoch 38/200\n",
      "1400/1400 [==============================] - 0s 162us/step - loss: 0.6096 - val_loss: 0.9121\n",
      "Epoch 39/200\n",
      "1400/1400 [==============================] - 0s 159us/step - loss: 0.5953 - val_loss: 0.9050\n",
      "Epoch 40/200\n",
      "1400/1400 [==============================] - 0s 162us/step - loss: 0.5939 - val_loss: 0.8935\n",
      "Epoch 41/200\n",
      "1400/1400 [==============================] - 0s 164us/step - loss: 0.5888 - val_loss: 0.8214\n",
      "Epoch 42/200\n",
      "1400/1400 [==============================] - 0s 164us/step - loss: 0.5759 - val_loss: 0.8873\n",
      "Epoch 43/200\n",
      "1400/1400 [==============================] - 0s 165us/step - loss: 0.5756 - val_loss: 0.7965\n",
      "Epoch 44/200\n",
      "1400/1400 [==============================] - 0s 170us/step - loss: 0.5677 - val_loss: 0.7431\n",
      "Epoch 45/200\n",
      "1400/1400 [==============================] - 0s 155us/step - loss: 0.5576 - val_loss: 0.6660\n",
      "Epoch 46/200\n",
      "1400/1400 [==============================] - 0s 166us/step - loss: 0.5725 - val_loss: 0.7151\n",
      "Epoch 47/200\n",
      "1400/1400 [==============================] - 0s 170us/step - loss: 0.5363 - val_loss: 0.7757\n",
      "Epoch 48/200\n",
      "1400/1400 [==============================] - 0s 162us/step - loss: 0.5459 - val_loss: 0.6505\n",
      "Epoch 49/200\n",
      "1400/1400 [==============================] - 0s 167us/step - loss: 0.5378 - val_loss: 0.8069\n",
      "Epoch 50/200\n",
      "1400/1400 [==============================] - 0s 167us/step - loss: 0.5179 - val_loss: 0.8276\n",
      "Epoch 51/200\n",
      "1400/1400 [==============================] - 0s 160us/step - loss: 0.5134 - val_loss: 0.7108\n",
      "Epoch 52/200\n",
      "1400/1400 [==============================] - 0s 162us/step - loss: 0.5231 - val_loss: 0.6801\n",
      "Epoch 53/200\n",
      "1400/1400 [==============================] - 0s 162us/step - loss: 0.5109 - val_loss: 0.5910\n",
      "Epoch 54/200\n",
      "1400/1400 [==============================] - 0s 160us/step - loss: 0.5047 - val_loss: 0.5890\n",
      "Epoch 55/200\n",
      "1400/1400 [==============================] - 0s 161us/step - loss: 0.5059 - val_loss: 0.6541\n",
      "Epoch 56/200\n",
      "1400/1400 [==============================] - 0s 161us/step - loss: 0.5141 - val_loss: 0.5929\n",
      "Epoch 57/200\n",
      "1400/1400 [==============================] - 0s 160us/step - loss: 0.4957 - val_loss: 0.6917\n",
      "Epoch 58/200\n",
      "1400/1400 [==============================] - 0s 158us/step - loss: 0.5090 - val_loss: 0.5985\n",
      "Epoch 59/200\n",
      "1400/1400 [==============================] - 0s 156us/step - loss: 0.4730 - val_loss: 0.6074\n",
      "Epoch 60/200\n",
      "1400/1400 [==============================] - 0s 157us/step - loss: 0.4900 - val_loss: 0.5939\n",
      "Epoch 61/200\n",
      "1400/1400 [==============================] - 0s 157us/step - loss: 0.4714 - val_loss: 0.6192\n",
      "Epoch 62/200\n",
      "1400/1400 [==============================] - 0s 160us/step - loss: 0.4818 - val_loss: 0.5836\n",
      "Epoch 63/200\n",
      "1400/1400 [==============================] - 0s 157us/step - loss: 0.4804 - val_loss: 0.5818\n",
      "Epoch 64/200\n",
      "1400/1400 [==============================] - 0s 161us/step - loss: 0.4714 - val_loss: 0.5803\n",
      "Epoch 65/200\n",
      "1400/1400 [==============================] - 0s 161us/step - loss: 0.4463 - val_loss: 0.5812\n",
      "Epoch 66/200\n",
      "1400/1400 [==============================] - 0s 161us/step - loss: 0.4543 - val_loss: 0.6066\n",
      "Epoch 67/200\n",
      "1400/1400 [==============================] - 0s 159us/step - loss: 0.4682 - val_loss: 0.5779\n",
      "Epoch 68/200\n",
      "1400/1400 [==============================] - 0s 160us/step - loss: 0.4541 - val_loss: 0.5732\n",
      "Epoch 69/200\n",
      "1400/1400 [==============================] - 0s 168us/step - loss: 0.4489 - val_loss: 0.6083\n",
      "Epoch 70/200\n",
      "1400/1400 [==============================] - 0s 160us/step - loss: 0.4546 - val_loss: 0.5768\n",
      "Epoch 71/200\n",
      "1400/1400 [==============================] - 0s 158us/step - loss: 0.4566 - val_loss: 0.5763\n",
      "Epoch 72/200\n",
      "1400/1400 [==============================] - 0s 155us/step - loss: 0.4452 - val_loss: 0.5764\n",
      "Epoch 73/200\n",
      "1400/1400 [==============================] - 0s 166us/step - loss: 0.4433 - val_loss: 0.5737\n",
      "Epoch 74/200\n",
      "1400/1400 [==============================] - 0s 159us/step - loss: 0.4207 - val_loss: 0.5976\n",
      "Epoch 75/200\n",
      "1400/1400 [==============================] - 0s 163us/step - loss: 0.4342 - val_loss: 0.5797\n",
      "Epoch 76/200\n",
      "1400/1400 [==============================] - 0s 158us/step - loss: 0.4428 - val_loss: 0.6138\n",
      "Epoch 77/200\n",
      "1400/1400 [==============================] - 0s 158us/step - loss: 0.4311 - val_loss: 0.6031\n",
      "Epoch 78/200\n",
      "1400/1400 [==============================] - 0s 166us/step - loss: 0.4132 - val_loss: 0.5808\n",
      "Epoch 79/200\n",
      "1400/1400 [==============================] - 0s 158us/step - loss: 0.4307 - val_loss: 0.5734\n",
      "Epoch 80/200\n",
      "1400/1400 [==============================] - 0s 162us/step - loss: 0.4321 - val_loss: 0.6099\n",
      "Epoch 81/200\n",
      "1400/1400 [==============================] - 0s 166us/step - loss: 0.4221 - val_loss: 0.5746\n",
      "Epoch 82/200\n",
      "1400/1400 [==============================] - 0s 159us/step - loss: 0.4233 - val_loss: 0.5933\n",
      "Epoch 83/200\n",
      "1400/1400 [==============================] - 0s 161us/step - loss: 0.4149 - val_loss: 0.5775\n",
      "Epoch 84/200\n",
      "1400/1400 [==============================] - 0s 192us/step - loss: 0.4158 - val_loss: 0.6647\n",
      "Epoch 85/200\n",
      "1400/1400 [==============================] - 0s 168us/step - loss: 0.4392 - val_loss: 0.5779\n",
      "Epoch 86/200\n",
      "1400/1400 [==============================] - 0s 160us/step - loss: 0.3994 - val_loss: 0.5795\n",
      "Epoch 87/200\n",
      "1400/1400 [==============================] - 0s 159us/step - loss: 0.4218 - val_loss: 0.5903\n",
      "Epoch 88/200\n",
      "1400/1400 [==============================] - 0s 161us/step - loss: 0.4062 - val_loss: 0.5944\n",
      "Epoch 89/200\n",
      "1400/1400 [==============================] - 0s 165us/step - loss: 0.4156 - val_loss: 0.5889\n",
      "Epoch 90/200\n",
      "1400/1400 [==============================] - 0s 161us/step - loss: 0.4206 - val_loss: 0.6066\n",
      "Epoch 91/200\n",
      "1400/1400 [==============================] - 0s 157us/step - loss: 0.4028 - val_loss: 0.6389\n",
      "Epoch 92/200\n",
      "1400/1400 [==============================] - 0s 157us/step - loss: 0.4195 - val_loss: 0.5832\n",
      "Epoch 93/200\n",
      "1400/1400 [==============================] - 0s 159us/step - loss: 0.4028 - val_loss: 0.5959\n",
      "Epoch 94/200\n",
      "1400/1400 [==============================] - 0s 160us/step - loss: 0.4104 - val_loss: 0.5915\n",
      "Epoch 95/200\n",
      "1400/1400 [==============================] - 0s 159us/step - loss: 0.3960 - val_loss: 0.5870\n",
      "Epoch 96/200\n",
      "1400/1400 [==============================] - 0s 157us/step - loss: 0.3999 - val_loss: 0.5840\n",
      "Epoch 97/200\n",
      "1400/1400 [==============================] - 0s 159us/step - loss: 0.3909 - val_loss: 0.5948\n",
      "Epoch 98/200\n",
      "1400/1400 [==============================] - 0s 160us/step - loss: 0.3854 - val_loss: 0.5893\n",
      "Epoch 99/200\n",
      "1400/1400 [==============================] - 0s 167us/step - loss: 0.3764 - val_loss: 0.6419\n",
      "Epoch 100/200\n",
      "1400/1400 [==============================] - 0s 162us/step - loss: 0.3966 - val_loss: 0.6008\n",
      "Epoch 101/200\n",
      "1400/1400 [==============================] - 0s 157us/step - loss: 0.3786 - val_loss: 0.6001\n",
      "Epoch 102/200\n",
      "1400/1400 [==============================] - 0s 157us/step - loss: 0.3760 - val_loss: 0.6091\n",
      "Epoch 103/200\n",
      "1400/1400 [==============================] - 0s 159us/step - loss: 0.3822 - val_loss: 0.6128\n",
      "Epoch 104/200\n",
      "1400/1400 [==============================] - 0s 153us/step - loss: 0.3866 - val_loss: 0.5988\n",
      "Epoch 105/200\n",
      "1400/1400 [==============================] - 0s 160us/step - loss: 0.3858 - val_loss: 0.6487\n",
      "Epoch 106/200\n",
      "1400/1400 [==============================] - 0s 167us/step - loss: 0.3758 - val_loss: 0.5975\n",
      "Epoch 107/200\n",
      "1400/1400 [==============================] - 0s 159us/step - loss: 0.3758 - val_loss: 0.6219\n",
      "Epoch 108/200\n",
      "1400/1400 [==============================] - 0s 160us/step - loss: 0.3591 - val_loss: 0.5957\n",
      "Epoch 109/200\n",
      "1400/1400 [==============================] - 0s 163us/step - loss: 0.3945 - val_loss: 0.5896\n",
      "Epoch 110/200\n",
      "1400/1400 [==============================] - 0s 165us/step - loss: 0.3592 - val_loss: 0.5882\n",
      "Epoch 111/200\n",
      "1400/1400 [==============================] - 0s 168us/step - loss: 0.3709 - val_loss: 0.5965\n",
      "Epoch 112/200\n",
      "1400/1400 [==============================] - 0s 165us/step - loss: 0.3697 - val_loss: 0.5883\n",
      "Epoch 113/200\n",
      "1400/1400 [==============================] - 0s 166us/step - loss: 0.3778 - val_loss: 0.6589\n",
      "Epoch 114/200\n",
      "1400/1400 [==============================] - 0s 169us/step - loss: 0.3525 - val_loss: 0.6928\n",
      "Epoch 115/200\n",
      "1400/1400 [==============================] - 0s 160us/step - loss: 0.3671 - val_loss: 0.6073\n",
      "Epoch 116/200\n",
      "1400/1400 [==============================] - 0s 160us/step - loss: 0.3711 - val_loss: 0.6311\n",
      "Epoch 117/200\n",
      "1400/1400 [==============================] - 0s 163us/step - loss: 0.3513 - val_loss: 0.6029\n",
      "Epoch 118/200\n",
      "1400/1400 [==============================] - 0s 158us/step - loss: 0.3629 - val_loss: 0.5905\n",
      "Epoch 119/200\n",
      "1400/1400 [==============================] - 0s 167us/step - loss: 0.3552 - val_loss: 0.5913\n",
      "Epoch 120/200\n",
      "1400/1400 [==============================] - 0s 157us/step - loss: 0.3663 - val_loss: 0.6143\n",
      "Epoch 121/200\n",
      "1400/1400 [==============================] - 0s 164us/step - loss: 0.3528 - val_loss: 0.6189\n",
      "Epoch 122/200\n",
      "1400/1400 [==============================] - 0s 165us/step - loss: 0.3504 - val_loss: 0.6658\n",
      "Epoch 123/200\n",
      "1400/1400 [==============================] - 0s 170us/step - loss: 0.3717 - val_loss: 0.5917\n",
      "Epoch 124/200\n",
      "1400/1400 [==============================] - 0s 162us/step - loss: 0.3811 - val_loss: 0.5901\n",
      "Epoch 125/200\n",
      "1400/1400 [==============================] - 0s 161us/step - loss: 0.3737 - val_loss: 0.6032\n",
      "Epoch 126/200\n",
      "1400/1400 [==============================] - 0s 165us/step - loss: 0.3486 - val_loss: 0.6031\n",
      "Epoch 127/200\n",
      "1400/1400 [==============================] - 0s 162us/step - loss: 0.3467 - val_loss: 0.6396\n",
      "Epoch 128/200\n",
      "1400/1400 [==============================] - 0s 160us/step - loss: 0.3441 - val_loss: 0.6157\n",
      "Epoch 129/200\n",
      "1400/1400 [==============================] - 0s 165us/step - loss: 0.3454 - val_loss: 0.6109\n",
      "Epoch 130/200\n",
      "1400/1400 [==============================] - 0s 157us/step - loss: 0.3510 - val_loss: 0.6091\n",
      "Epoch 131/200\n",
      "1400/1400 [==============================] - 0s 162us/step - loss: 0.3713 - val_loss: 0.6568\n",
      "Epoch 132/200\n",
      "1400/1400 [==============================] - 0s 164us/step - loss: 0.3515 - val_loss: 0.6288\n",
      "Epoch 133/200\n",
      "1400/1400 [==============================] - 0s 156us/step - loss: 0.3413 - val_loss: 0.6921\n",
      "Epoch 134/200\n",
      "1400/1400 [==============================] - 0s 201us/step - loss: 0.3442 - val_loss: 0.6647\n",
      "Epoch 135/200\n",
      "1400/1400 [==============================] - 0s 163us/step - loss: 0.3516 - val_loss: 0.6779\n",
      "Epoch 136/200\n",
      "1400/1400 [==============================] - 0s 165us/step - loss: 0.3475 - val_loss: 0.6056\n",
      "Epoch 137/200\n",
      "1400/1400 [==============================] - 0s 162us/step - loss: 0.3397 - val_loss: 0.7806\n",
      "Epoch 138/200\n",
      "1400/1400 [==============================] - 0s 167us/step - loss: 0.3550 - val_loss: 0.6617\n",
      "Epoch 139/200\n",
      "1400/1400 [==============================] - 0s 159us/step - loss: 0.3441 - val_loss: 0.6102\n",
      "Epoch 140/200\n",
      "1400/1400 [==============================] - 0s 156us/step - loss: 0.3412 - val_loss: 0.6348\n",
      "Epoch 141/200\n",
      "1400/1400 [==============================] - 0s 160us/step - loss: 0.3470 - val_loss: 0.6298\n",
      "Epoch 142/200\n",
      "1400/1400 [==============================] - 0s 163us/step - loss: 0.3470 - val_loss: 0.6333\n",
      "Epoch 143/200\n",
      "1400/1400 [==============================] - 0s 166us/step - loss: 0.3349 - val_loss: 0.6048\n",
      "Epoch 144/200\n",
      "1400/1400 [==============================] - 0s 158us/step - loss: 0.3630 - val_loss: 0.6094\n",
      "Epoch 145/200\n",
      "1400/1400 [==============================] - 0s 163us/step - loss: 0.3458 - val_loss: 0.6149\n",
      "Epoch 146/200\n",
      "1400/1400 [==============================] - 0s 161us/step - loss: 0.3436 - val_loss: 0.6343\n",
      "Epoch 147/200\n",
      "1400/1400 [==============================] - 0s 162us/step - loss: 0.3434 - val_loss: 0.6526\n",
      "Epoch 148/200\n",
      "1400/1400 [==============================] - 0s 161us/step - loss: 0.3408 - val_loss: 0.6261\n",
      "Epoch 149/200\n",
      "1400/1400 [==============================] - 0s 157us/step - loss: 0.3326 - val_loss: 0.6282\n",
      "Epoch 150/200\n",
      "1400/1400 [==============================] - 0s 158us/step - loss: 0.3402 - val_loss: 0.6178\n",
      "Epoch 151/200\n",
      "1400/1400 [==============================] - 0s 157us/step - loss: 0.3426 - val_loss: 0.6473\n",
      "Epoch 152/200\n",
      "1400/1400 [==============================] - 0s 160us/step - loss: 0.3375 - val_loss: 0.7294\n",
      "Epoch 153/200\n",
      "1400/1400 [==============================] - 0s 161us/step - loss: 0.3385 - val_loss: 0.6901\n",
      "Epoch 154/200\n",
      "1400/1400 [==============================] - 0s 156us/step - loss: 0.3350 - val_loss: 0.6229\n",
      "Epoch 155/200\n",
      "1400/1400 [==============================] - 0s 160us/step - loss: 0.3273 - val_loss: 0.6264\n",
      "Epoch 156/200\n",
      "1400/1400 [==============================] - 0s 155us/step - loss: 0.3377 - val_loss: 0.6436\n",
      "Epoch 157/200\n",
      "1400/1400 [==============================] - 0s 161us/step - loss: 0.3374 - val_loss: 0.6987\n",
      "Epoch 158/200\n",
      "1400/1400 [==============================] - 0s 160us/step - loss: 0.3465 - val_loss: 0.6206\n",
      "Epoch 159/200\n",
      "1400/1400 [==============================] - 0s 157us/step - loss: 0.3374 - val_loss: 0.6561\n",
      "Epoch 160/200\n",
      "1400/1400 [==============================] - 0s 158us/step - loss: 0.3047 - val_loss: 0.7082\n",
      "Epoch 161/200\n",
      "1400/1400 [==============================] - 0s 159us/step - loss: 0.3123 - val_loss: 0.6643\n",
      "Epoch 162/200\n",
      "1400/1400 [==============================] - 0s 158us/step - loss: 0.3424 - val_loss: 0.6943\n",
      "Epoch 163/200\n",
      "1400/1400 [==============================] - 0s 162us/step - loss: 0.3283 - val_loss: 0.7194\n",
      "Epoch 164/200\n",
      "1400/1400 [==============================] - 0s 154us/step - loss: 0.3295 - val_loss: 0.7932\n",
      "Epoch 165/200\n",
      "1400/1400 [==============================] - 0s 156us/step - loss: 0.3118 - val_loss: 0.7071\n",
      "Epoch 166/200\n",
      "1400/1400 [==============================] - 0s 161us/step - loss: 0.3121 - val_loss: 0.7567\n",
      "Epoch 167/200\n",
      "1400/1400 [==============================] - 0s 156us/step - loss: 0.3387 - val_loss: 0.7281\n",
      "Epoch 168/200\n",
      "1400/1400 [==============================] - 0s 160us/step - loss: 0.3215 - val_loss: 0.7532\n",
      "Epoch 169/200\n",
      "1400/1400 [==============================] - 0s 159us/step - loss: 0.3174 - val_loss: 0.6858\n",
      "Epoch 170/200\n",
      "1400/1400 [==============================] - 0s 161us/step - loss: 0.3200 - val_loss: 0.6720\n",
      "Epoch 171/200\n",
      "1400/1400 [==============================] - 0s 160us/step - loss: 0.3370 - val_loss: 0.7346\n",
      "Epoch 172/200\n",
      "1400/1400 [==============================] - 0s 169us/step - loss: 0.3520 - val_loss: 0.6196\n",
      "Epoch 173/200\n",
      "1400/1400 [==============================] - 0s 162us/step - loss: 0.3277 - val_loss: 0.6783\n",
      "Epoch 174/200\n",
      "1400/1400 [==============================] - 0s 157us/step - loss: 0.3012 - val_loss: 0.6539\n",
      "Epoch 175/200\n",
      "1400/1400 [==============================] - 0s 155us/step - loss: 0.3064 - val_loss: 0.7603\n",
      "Epoch 176/200\n",
      "1400/1400 [==============================] - 0s 162us/step - loss: 0.3086 - val_loss: 0.7272\n",
      "Epoch 177/200\n",
      "1400/1400 [==============================] - 0s 162us/step - loss: 0.3151 - val_loss: 0.7235\n",
      "Epoch 178/200\n",
      "1400/1400 [==============================] - 0s 162us/step - loss: 0.3173 - val_loss: 0.6632\n",
      "Epoch 179/200\n",
      "1400/1400 [==============================] - 0s 152us/step - loss: 0.3033 - val_loss: 0.8183\n",
      "Epoch 180/200\n",
      "1400/1400 [==============================] - 0s 160us/step - loss: 0.3163 - val_loss: 0.6574\n",
      "Epoch 181/200\n",
      "1400/1400 [==============================] - 0s 162us/step - loss: 0.3218 - val_loss: 0.9119\n",
      "Epoch 182/200\n",
      "1400/1400 [==============================] - 0s 164us/step - loss: 0.2987 - val_loss: 0.6464\n",
      "Epoch 183/200\n",
      "1400/1400 [==============================] - 0s 162us/step - loss: 0.3207 - val_loss: 0.6980\n",
      "Epoch 184/200\n",
      "1400/1400 [==============================] - 0s 157us/step - loss: 0.3064 - val_loss: 0.6722\n",
      "Epoch 185/200\n",
      "1400/1400 [==============================] - 0s 159us/step - loss: 0.3198 - val_loss: 0.7087\n",
      "Epoch 186/200\n",
      "1400/1400 [==============================] - 0s 162us/step - loss: 0.3183 - val_loss: 0.7321\n",
      "Epoch 187/200\n",
      "1400/1400 [==============================] - 0s 160us/step - loss: 0.3054 - val_loss: 0.6774\n",
      "Epoch 188/200\n",
      "1400/1400 [==============================] - 0s 158us/step - loss: 0.3173 - val_loss: 0.6482\n",
      "Epoch 189/200\n",
      "1400/1400 [==============================] - 0s 161us/step - loss: 0.3135 - val_loss: 0.6575\n",
      "Epoch 190/200\n",
      "1400/1400 [==============================] - 0s 160us/step - loss: 0.3050 - val_loss: 0.6943\n",
      "Epoch 191/200\n",
      "1400/1400 [==============================] - 0s 170us/step - loss: 0.3190 - val_loss: 0.8415\n",
      "Epoch 192/200\n",
      "1400/1400 [==============================] - 0s 157us/step - loss: 0.3109 - val_loss: 0.6434\n",
      "Epoch 193/200\n",
      "1400/1400 [==============================] - 0s 155us/step - loss: 0.3074 - val_loss: 0.6813\n",
      "Epoch 194/200\n",
      "1400/1400 [==============================] - 0s 159us/step - loss: 0.3069 - val_loss: 0.6750\n",
      "Epoch 195/200\n",
      "1400/1400 [==============================] - 0s 160us/step - loss: 0.3024 - val_loss: 0.7072\n",
      "Epoch 196/200\n",
      "1400/1400 [==============================] - 0s 158us/step - loss: 0.3032 - val_loss: 0.6713\n",
      "Epoch 197/200\n",
      "1400/1400 [==============================] - 0s 161us/step - loss: 0.3098 - val_loss: 0.7084\n",
      "Epoch 198/200\n",
      "1400/1400 [==============================] - 0s 157us/step - loss: 0.3127 - val_loss: 0.7062\n",
      "Epoch 199/200\n",
      "1400/1400 [==============================] - 0s 159us/step - loss: 0.2990 - val_loss: 0.7917\n",
      "Epoch 200/200\n",
      "1400/1400 [==============================] - 0s 159us/step - loss: 0.3042 - val_loss: 0.7880\n"
     ]
    },
    {
     "data": {
      "image/png": "[encoded data removed]",
      "text/plain": [
       "<Figure size 432x288 with 1 Axes>"
      ]
     },
     "metadata": {
      "needs_background": "light"
     },
     "output_type": "display_data"
    }
   ],
   "source": [
    "trainer.pre_train_discriminator(d_epochs=200, d_pre_sig_train=sig_rd_train, d_pre_out_train=out_train, d_pre_sig_valid=sig_rd_valid, d_pre_out_valid=out_valid, lr=5e-5)"
   ]
  },
  {
   "cell_type": "code",
   "execution_count": 122,
   "metadata": {},
   "outputs": [
    {
     "name": "stdout",
     "output_type": "stream",
     "text": [
      "0.805\n"
     ]
    }
   ],
   "source": [
    "print(trainer.test_discriminator(sig_rd_test, out_test))"
   ]
  },
  {
   "cell_type": "code",
   "execution_count": 40,
   "metadata": {},
   "outputs": [
    {
     "name": "stdout",
     "output_type": "stream",
     "text": [
      "0.955\n"
     ]
    }
   ],
   "source": [
    "print(trainer.test_discriminator(sig_impersonate_ad, np.zeros((sig_impersonate_ad.shape[0],))))"
   ]
  },
  {
   "cell_type": "code",
   "execution_count": 41,
   "metadata": {},
   "outputs": [
    {
     "data": {
      "text/plain": [
       "0.8531423"
      ]
     },
     "execution_count": 41,
     "metadata": {},
     "output_type": "execute_result"
    }
   ],
   "source": [
    "np.mean(trainer.predict_discriminator(sig_auth))"
   ]
  },
  {
   "cell_type": "code",
   "execution_count": 33,
   "metadata": {},
   "outputs": [
    {
     "data": {
      "text/plain": [
       "0.7397305"
      ]
     },
     "execution_count": 33,
     "metadata": {},
     "output_type": "execute_result"
    }
   ],
   "source": [
    "np.mean(trainer.predict_discriminator(sig_unauth))"
   ]
  },
  {
   "cell_type": "code",
   "execution_count": 42,
   "metadata": {},
   "outputs": [
    {
     "data": {
      "text/plain": [
       "0.16275488"
      ]
     },
     "execution_count": 42,
     "metadata": {},
     "output_type": "execute_result"
    }
   ],
   "source": [
    "np.mean(trainer.predict_discriminator(sig_impersonate_ad))"
   ]
  },
  {
   "cell_type": "code",
   "execution_count": 143,
   "metadata": {},
   "outputs": [
    {
     "data": {
      "text/plain": [
       "(2560, 2)"
      ]
     },
     "execution_count": 143,
     "metadata": {},
     "output_type": "execute_result"
    }
   ],
   "source": [
    "sig_impersonate.shape"
   ]
  },
  {
   "cell_type": "code",
   "execution_count": 43,
   "metadata": {},
   "outputs": [],
   "source": [
    "n_samples_im  = sig_impersonate.shape[0]\n",
    "\n",
    "n_test_im = int(test_frac*n_samples_im)\n",
    "n_valid_im = int(valid_frac*n_samples_im)\n",
    "n_train_im = n_samples_im - n_test_im - n_valid_im"
   ]
  },
  {
   "cell_type": "code",
   "execution_count": 44,
   "metadata": {},
   "outputs": [],
   "source": [
    "sig_im_train,sig_im_valid,sig_im_test=split(sig_impersonate,n_train_im,n_valid_im,n_test)"
   ]
  },
  {
   "cell_type": "code",
   "execution_count": 45,
   "metadata": {},
   "outputs": [],
   "source": [
    "sig_im_train_re = sig_im_train.reshape((-1, 1, 2))\n",
    "sig_im_train_re_t = sig_im_train.reshape((-1, 2))"
   ]
  },
  {
   "cell_type": "code",
   "execution_count": 46,
   "metadata": {},
   "outputs": [],
   "source": [
    "sig_im_valid_re = sig_im_valid.reshape((-1, 1, 2))\n",
    "sig_im_valid_re_t = sig_im_valid.reshape((-1, 2))"
   ]
  },
  {
   "cell_type": "code",
   "execution_count": 47,
   "metadata": {},
   "outputs": [],
   "source": [
    "sig_im_test_re = sig_im_test.reshape((-1, 1,  2))"
   ]
  },
  {
   "cell_type": "code",
   "execution_count": 48,
   "metadata": {},
   "outputs": [],
   "source": [
    "# def GeneratorPretraining():\n",
    "#     def sampling(args):\n",
    "#         mean_mu, log_var = args\n",
    "#         epsilon = K.random_normal(shape=K.shape(mean_mu), mean=0., stddev=1.) \n",
    "#         return mean_mu + K.exp(log_var/2)*epsilon\n",
    "#     def sampling_alt(args):\n",
    "#         mean_mu, log_var = args\n",
    "#         normal_dist = tf.distributions.Normal(mean_mu, tf.exp(log_var/2))\n",
    "#         return normal_dist.sample()\n",
    "    \n",
    "#     input=Input(shape=(None,2), dtype='float32', name='Input')\n",
    "#     out = LSTM(100, activation='relu', name='LSTM')(input)\n",
    "# #     denseMean = Dense(2, name='DenseMean')(out)\n",
    "# #     denseVariance = Dense(2, name='DenseVariance')(out)\n",
    "    \n",
    "#     #sampled_output = Lambda(sampling, name='sampling_layer')([denseMean, denseVariance])\n",
    "    \n",
    "#     #sampled_output = Lambda(sampling_alt, name='sampling_layer')([denseMean, denseVariance])\n",
    "    \n",
    "#     sampled_output = Dense(2, name='DummyDense')(out)\n",
    "    \n",
    "#     generator_pretraining = Model(input, sampled_output)\n",
    "#     return generator_pretraining"
   ]
  },
  {
   "cell_type": "code",
   "execution_count": 87,
   "metadata": {},
   "outputs": [
    {
     "name": "stdout",
     "output_type": "stream",
     "text": [
      "Generator pre-training\n",
      "__________________________________________________________________________________________________\n",
      "Layer (type)                    Output Shape         Param #     Connected to                     \n",
      "==================================================================================================\n",
      "Input (InputLayer)              (None, None, 2)      0                                            \n",
      "__________________________________________________________________________________________________\n",
      "LSTM (LSTM)                     (None, 100)          41200       Input[0][0]                      \n",
      "__________________________________________________________________________________________________\n",
      "DenseMean (Dense)               (None, 2)            202         LSTM[0][0]                       \n",
      "__________________________________________________________________________________________________\n",
      "DenseVariance (Dense)           (None, 2)            202         LSTM[0][0]                       \n",
      "__________________________________________________________________________________________________\n",
      "sampling_layer (Lambda)         (None, 2)            0           DenseMean[0][0]                  \n",
      "                                                                 DenseVariance[0][0]              \n",
      "==================================================================================================\n",
      "Total params: 41,604\n",
      "Trainable params: 41,604\n",
      "Non-trainable params: 0\n",
      "__________________________________________________________________________________________________\n",
      "Train on 1792 samples, validate on 512 samples\n",
      "Epoch 1/100\n",
      "1792/1792 [==============================] - 2s 1ms/step - loss: 4.0692e-05 - val_loss: 1.2186e-06\n",
      "Epoch 2/100\n",
      "1792/1792 [==============================] - 0s 146us/step - loss: 8.3974e-07 - val_loss: 4.7074e-07\n",
      "Epoch 3/100\n",
      "1792/1792 [==============================] - 0s 153us/step - loss: 4.9200e-07 - val_loss: 7.1344e-07\n",
      "Epoch 4/100\n",
      "1792/1792 [==============================] - 0s 146us/step - loss: 5.6423e-07 - val_loss: 5.4070e-07\n",
      "Epoch 5/100\n",
      "1792/1792 [==============================] - 0s 150us/step - loss: 6.4145e-07 - val_loss: 5.7967e-07\n",
      "Epoch 6/100\n",
      "1792/1792 [==============================] - 0s 145us/step - loss: 7.6251e-07 - val_loss: 8.0421e-07\n",
      "Epoch 7/100\n",
      "1792/1792 [==============================] - 0s 140us/step - loss: 6.4863e-07 - val_loss: 9.0245e-07\n",
      "Epoch 8/100\n",
      "1792/1792 [==============================] - 0s 147us/step - loss: 6.7141e-07 - val_loss: 4.6319e-07\n",
      "Epoch 9/100\n",
      "1792/1792 [==============================] - 0s 149us/step - loss: 6.9207e-07 - val_loss: 1.0134e-06\n",
      "Epoch 10/100\n",
      "1792/1792 [==============================] - 0s 151us/step - loss: 6.9156e-07 - val_loss: 1.9116e-06\n",
      "Epoch 11/100\n",
      "1792/1792 [==============================] - 0s 143us/step - loss: 4.4396e-06 - val_loss: 4.7715e-06\n",
      "Epoch 12/100\n",
      "1792/1792 [==============================] - 0s 149us/step - loss: 1.4729e-06 - val_loss: 2.0884e-06\n",
      "Epoch 13/100\n",
      "1792/1792 [==============================] - 0s 145us/step - loss: 1.5193e-06 - val_loss: 3.0297e-06\n",
      "Epoch 14/100\n",
      "1792/1792 [==============================] - 0s 154us/step - loss: 1.8477e-06 - val_loss: 7.7771e-07\n",
      "Epoch 15/100\n",
      "1792/1792 [==============================] - 0s 142us/step - loss: 9.7967e-07 - val_loss: 1.1607e-06\n",
      "Epoch 16/100\n",
      "1792/1792 [==============================] - 0s 148us/step - loss: 9.6231e-07 - val_loss: 4.1106e-07\n",
      "Epoch 17/100\n",
      "1792/1792 [==============================] - 0s 153us/step - loss: 8.6219e-07 - val_loss: 1.1730e-06\n",
      "Epoch 18/100\n",
      "1792/1792 [==============================] - 0s 150us/step - loss: 2.2999e-06 - val_loss: 2.7370e-06\n",
      "Epoch 19/100\n",
      "1792/1792 [==============================] - 0s 173us/step - loss: 2.1721e-06 - val_loss: 1.3735e-06\n",
      "Epoch 20/100\n",
      "1792/1792 [==============================] - 0s 151us/step - loss: 1.9885e-06 - val_loss: 1.7116e-06\n",
      "Epoch 21/100\n",
      "1792/1792 [==============================] - 0s 145us/step - loss: 4.9567e-06 - val_loss: 7.8274e-06\n",
      "Epoch 22/100\n",
      "1792/1792 [==============================] - 0s 148us/step - loss: 4.5451e-06 - val_loss: 4.7408e-06\n",
      "Epoch 23/100\n",
      "1792/1792 [==============================] - 0s 144us/step - loss: 1.5555e-06 - val_loss: 4.2785e-07\n",
      "Epoch 24/100\n",
      "1792/1792 [==============================] - 0s 145us/step - loss: 9.4300e-07 - val_loss: 4.7790e-07\n",
      "Epoch 25/100\n",
      "1792/1792 [==============================] - 0s 149us/step - loss: 1.8679e-06 - val_loss: 1.6992e-06\n",
      "Epoch 26/100\n",
      "1792/1792 [==============================] - 0s 151us/step - loss: 1.0736e-06 - val_loss: 1.6217e-06\n",
      "Epoch 27/100\n",
      "1792/1792 [==============================] - 0s 141us/step - loss: 1.2821e-06 - val_loss: 1.3236e-06\n",
      "Epoch 28/100\n",
      "1792/1792 [==============================] - 0s 145us/step - loss: 1.9582e-06 - val_loss: 3.2427e-06\n",
      "Epoch 29/100\n",
      "1792/1792 [==============================] - 0s 151us/step - loss: 2.5322e-06 - val_loss: 2.6749e-06\n",
      "Epoch 30/100\n",
      "1792/1792 [==============================] - 0s 151us/step - loss: 1.4940e-06 - val_loss: 2.1653e-06\n",
      "Epoch 31/100\n",
      "1792/1792 [==============================] - 0s 152us/step - loss: 1.6321e-06 - val_loss: 9.5472e-07\n",
      "Epoch 32/100\n",
      "1792/1792 [==============================] - 0s 149us/step - loss: 1.5253e-06 - val_loss: 2.0322e-06\n",
      "Epoch 33/100\n",
      "1792/1792 [==============================] - 0s 152us/step - loss: 1.9095e-06 - val_loss: 3.1038e-06\n",
      "Epoch 34/100\n",
      "1792/1792 [==============================] - 0s 153us/step - loss: 3.3384e-06 - val_loss: 5.8835e-06\n",
      "Epoch 35/100\n",
      "1792/1792 [==============================] - 0s 144us/step - loss: 1.3616e-05 - val_loss: 4.1337e-06\n",
      "Epoch 36/100\n",
      "1792/1792 [==============================] - 0s 147us/step - loss: 4.9077e-06 - val_loss: 8.2391e-07\n",
      "Epoch 37/100\n",
      "1792/1792 [==============================] - 0s 146us/step - loss: 1.1754e-06 - val_loss: 1.3371e-06\n",
      "Epoch 38/100\n",
      "1792/1792 [==============================] - 0s 150us/step - loss: 5.4556e-07 - val_loss: 5.3926e-07\n",
      "Epoch 39/100\n",
      "1792/1792 [==============================] - 0s 149us/step - loss: 1.0592e-06 - val_loss: 9.9130e-07\n",
      "Epoch 40/100\n",
      "1792/1792 [==============================] - 0s 146us/step - loss: 9.3207e-07 - val_loss: 1.1696e-06\n",
      "Epoch 41/100\n",
      "1792/1792 [==============================] - 0s 147us/step - loss: 1.5256e-06 - val_loss: 6.1530e-07\n",
      "Epoch 42/100\n",
      "1792/1792 [==============================] - 0s 142us/step - loss: 1.2892e-06 - val_loss: 7.5356e-07\n",
      "Epoch 43/100\n",
      "1792/1792 [==============================] - 0s 150us/step - loss: 1.0936e-06 - val_loss: 9.5665e-07\n",
      "Epoch 44/100\n",
      "1792/1792 [==============================] - 0s 148us/step - loss: 1.4715e-06 - val_loss: 2.5441e-06\n",
      "Epoch 45/100\n",
      "1792/1792 [==============================] - 0s 148us/step - loss: 1.2169e-06 - val_loss: 3.1530e-06\n",
      "Epoch 46/100\n",
      "1792/1792 [==============================] - 0s 147us/step - loss: 2.9466e-06 - val_loss: 8.1749e-06\n",
      "Epoch 47/100\n",
      "1792/1792 [==============================] - 0s 144us/step - loss: 3.4455e-06 - val_loss: 1.5069e-06\n",
      "Epoch 48/100\n",
      "1792/1792 [==============================] - 0s 147us/step - loss: 3.7568e-06 - val_loss: 5.3725e-06\n",
      "Epoch 49/100\n",
      "1792/1792 [==============================] - 0s 142us/step - loss: 1.3155e-05 - val_loss: 5.8815e-06\n",
      "Epoch 50/100\n",
      "1792/1792 [==============================] - 0s 178us/step - loss: 2.4727e-06 - val_loss: 2.5988e-06\n",
      "Epoch 51/100\n",
      "1792/1792 [==============================] - 0s 156us/step - loss: 1.6863e-06 - val_loss: 1.1072e-06\n",
      "Epoch 52/100\n",
      "1792/1792 [==============================] - 0s 139us/step - loss: 1.2014e-06 - val_loss: 9.0930e-07\n",
      "Epoch 53/100\n",
      "1792/1792 [==============================] - 0s 138us/step - loss: 7.9117e-07 - val_loss: 8.9613e-07\n",
      "Epoch 54/100\n",
      "1792/1792 [==============================] - 0s 139us/step - loss: 1.1936e-06 - val_loss: 9.0438e-07\n",
      "Epoch 55/100\n",
      "1792/1792 [==============================] - 0s 150us/step - loss: 1.1542e-06 - val_loss: 1.2698e-06\n",
      "Epoch 56/100\n",
      "1792/1792 [==============================] - 0s 145us/step - loss: 8.4123e-07 - val_loss: 5.5094e-07\n",
      "Epoch 57/100\n",
      "1792/1792 [==============================] - 0s 146us/step - loss: 1.3740e-06 - val_loss: 8.4343e-07\n",
      "Epoch 58/100\n",
      "1792/1792 [==============================] - 0s 147us/step - loss: 9.7615e-07 - val_loss: 4.4102e-07\n",
      "Epoch 59/100\n",
      "1792/1792 [==============================] - 0s 146us/step - loss: 1.2795e-06 - val_loss: 8.0285e-06\n",
      "Epoch 60/100\n",
      "1792/1792 [==============================] - 0s 149us/step - loss: 4.7068e-06 - val_loss: 1.5121e-05\n",
      "Epoch 61/100\n",
      "1792/1792 [==============================] - 0s 161us/step - loss: 6.1966e-06 - val_loss: 3.8729e-06\n",
      "Epoch 62/100\n",
      "1792/1792 [==============================] - 0s 142us/step - loss: 1.5040e-06 - val_loss: 6.8379e-07\n",
      "Epoch 63/100\n",
      "1792/1792 [==============================] - 0s 144us/step - loss: 1.1750e-06 - val_loss: 1.0224e-06\n",
      "Epoch 64/100\n",
      "1792/1792 [==============================] - 0s 146us/step - loss: 1.6913e-06 - val_loss: 1.7770e-06\n",
      "Epoch 65/100\n",
      "1792/1792 [==============================] - 0s 143us/step - loss: 1.4409e-06 - val_loss: 6.1353e-07\n",
      "Epoch 66/100\n",
      "1792/1792 [==============================] - 0s 146us/step - loss: 1.4695e-06 - val_loss: 9.9638e-07\n",
      "Epoch 67/100\n",
      "1792/1792 [==============================] - 0s 144us/step - loss: 1.5190e-06 - val_loss: 7.3463e-07\n",
      "Epoch 68/100\n",
      "1792/1792 [==============================] - 0s 147us/step - loss: 2.2335e-06 - val_loss: 2.2621e-06\n",
      "Epoch 69/100\n",
      "1792/1792 [==============================] - 0s 146us/step - loss: 1.2783e-06 - val_loss: 1.1996e-06\n",
      "Epoch 70/100\n",
      "1792/1792 [==============================] - 0s 146us/step - loss: 1.4111e-06 - val_loss: 2.6424e-06\n",
      "Epoch 71/100\n",
      "1792/1792 [==============================] - 0s 144us/step - loss: 7.0315e-06 - val_loss: 1.0689e-05\n",
      "Epoch 72/100\n",
      "1792/1792 [==============================] - 0s 148us/step - loss: 6.1816e-06 - val_loss: 7.3220e-07\n",
      "Epoch 73/100\n",
      "1792/1792 [==============================] - 0s 140us/step - loss: 8.5380e-07 - val_loss: 6.1550e-07\n",
      "Epoch 74/100\n",
      "1792/1792 [==============================] - 0s 145us/step - loss: 5.8109e-07 - val_loss: 7.8250e-07\n",
      "Epoch 75/100\n",
      "1792/1792 [==============================] - 0s 141us/step - loss: 8.1298e-07 - val_loss: 1.1570e-06\n",
      "Epoch 76/100\n",
      "1792/1792 [==============================] - 0s 146us/step - loss: 7.5132e-07 - val_loss: 8.7855e-07\n",
      "Epoch 77/100\n",
      "1792/1792 [==============================] - 0s 153us/step - loss: 7.8110e-07 - val_loss: 1.5833e-06\n",
      "Epoch 78/100\n",
      "1792/1792 [==============================] - 0s 147us/step - loss: 1.1920e-06 - val_loss: 1.5220e-06\n",
      "Epoch 79/100\n",
      "1792/1792 [==============================] - 0s 149us/step - loss: 2.6894e-06 - val_loss: 2.3307e-06\n",
      "Epoch 80/100\n",
      "1792/1792 [==============================] - 0s 144us/step - loss: 2.6259e-06 - val_loss: 2.1911e-06\n",
      "Epoch 81/100\n",
      "1792/1792 [==============================] - 0s 145us/step - loss: 1.4803e-06 - val_loss: 1.3051e-06\n",
      "Epoch 82/100\n",
      "1792/1792 [==============================] - 0s 147us/step - loss: 2.6404e-06 - val_loss: 4.5404e-06\n",
      "Epoch 83/100\n",
      "1792/1792 [==============================] - 0s 146us/step - loss: 1.7979e-06 - val_loss: 2.8957e-06\n",
      "Epoch 84/100\n",
      "1792/1792 [==============================] - 0s 143us/step - loss: 6.3012e-06 - val_loss: 9.0293e-06\n",
      "Epoch 85/100\n",
      "1792/1792 [==============================] - 0s 150us/step - loss: 2.8076e-06 - val_loss: 9.0690e-07\n",
      "Epoch 86/100\n",
      "1792/1792 [==============================] - 0s 147us/step - loss: 8.0318e-07 - val_loss: 5.3196e-07\n",
      "Epoch 87/100\n",
      "1792/1792 [==============================] - 0s 144us/step - loss: 2.1538e-06 - val_loss: 4.0492e-06\n",
      "Epoch 88/100\n",
      "1792/1792 [==============================] - 0s 147us/step - loss: 2.5545e-06 - val_loss: 3.0564e-06\n",
      "Epoch 89/100\n",
      "1792/1792 [==============================] - 0s 151us/step - loss: 2.4112e-06 - val_loss: 3.4947e-06\n",
      "Epoch 90/100\n",
      "1792/1792 [==============================] - 0s 149us/step - loss: 6.4593e-06 - val_loss: 3.5774e-06\n",
      "Epoch 91/100\n",
      "1792/1792 [==============================] - 0s 149us/step - loss: 1.5414e-06 - val_loss: 1.7929e-06\n",
      "Epoch 92/100\n",
      "1792/1792 [==============================] - 0s 155us/step - loss: 7.1213e-07 - val_loss: 1.0705e-06\n",
      "Epoch 93/100\n",
      "1792/1792 [==============================] - 0s 145us/step - loss: 2.1037e-06 - val_loss: 4.9000e-06\n",
      "Epoch 94/100\n",
      "1792/1792 [==============================] - 0s 143us/step - loss: 9.0139e-06 - val_loss: 2.5594e-06\n",
      "Epoch 95/100\n",
      "1792/1792 [==============================] - 0s 156us/step - loss: 1.2714e-06 - val_loss: 2.9261e-06\n",
      "Epoch 96/100\n",
      "1792/1792 [==============================] - 0s 174us/step - loss: 2.2243e-06 - val_loss: 1.1679e-06\n",
      "Epoch 97/100\n",
      "1792/1792 [==============================] - 0s 158us/step - loss: 6.7764e-07 - val_loss: 8.2990e-07\n",
      "Epoch 98/100\n",
      "1792/1792 [==============================] - 0s 149us/step - loss: 1.1056e-06 - val_loss: 7.4952e-07\n",
      "Epoch 99/100\n",
      "1792/1792 [==============================] - 0s 145us/step - loss: 9.0318e-07 - val_loss: 6.9424e-07\n",
      "Epoch 100/100\n",
      "1792/1792 [==============================] - 0s 146us/step - loss: 8.4646e-07 - val_loss: 7.0974e-07\n"
     ]
    }
   ],
   "source": [
    "trainer.pre_train_generator(g_epochs=100, g_pre_data_train=[sig_im_train_re, sig_im_train_re_t], g_pre_data_valid=[sig_im_valid_re, sig_im_valid_re_t], lr=1e-3)"
   ]
  },
  {
   "cell_type": "code",
   "execution_count": 92,
   "metadata": {},
   "outputs": [],
   "source": []
  },
  {
   "cell_type": "code",
   "execution_count": 50,
   "metadata": {},
   "outputs": [],
   "source": [
    "# dummy_generator = GeneratorPretraining()"
   ]
  },
  {
   "cell_type": "code",
   "execution_count": 51,
   "metadata": {},
   "outputs": [],
   "source": [
    "# g_adam = keras.optimizers.Adam(0.0001)\n",
    "# dummy_generator.compile(g_adam, loss='mse')\n",
    "# print('Generator pre-training')\n",
    "# dummy_generator.summary()"
   ]
  },
  {
   "cell_type": "code",
   "execution_count": 52,
   "metadata": {},
   "outputs": [],
   "source": [
    "# pre_train_g_filepath = 't_pre_train_g_weights'\n",
    "# pre_train_g_c = [keras.callbacks.ModelCheckpoint(pre_train_g_filepath, monitor='val_loss',  save_best_only=True, save_weights_only=True)]\n",
    "# dummy_generator.fit(\n",
    "#     sig_im_train_re,\n",
    "#     sig_im_train_re,\n",
    "#     validation_data=(sig_im_valid_re, sig_im_valid_re),\n",
    "#     callbacks=pre_train_g_c,\n",
    "#     epochs=15)"
   ]
  },
  {
   "cell_type": "code",
   "execution_count": 53,
   "metadata": {},
   "outputs": [
    {
     "data": {
      "text/plain": [
       "array([[[0.256785 , 1.1796385]]], dtype=float32)"
      ]
     },
     "execution_count": 53,
     "metadata": {},
     "output_type": "execute_result"
    }
   ],
   "source": [
    "sig_im_train_re[1].reshape(1,1,2)"
   ]
  },
  {
   "cell_type": "code",
   "execution_count": 54,
   "metadata": {},
   "outputs": [
    {
     "data": {
      "text/plain": [
       "array([[0.25680447, 1.1814066 ]], dtype=float32)"
      ]
     },
     "execution_count": 54,
     "metadata": {},
     "output_type": "execute_result"
    }
   ],
   "source": [
    "trainer.predict_pre_generator(sig_im_train_re[1].reshape(1,1,2))"
   ]
  },
  {
   "cell_type": "code",
   "execution_count": 55,
   "metadata": {},
   "outputs": [
    {
     "data": {
      "text/plain": [
       "array([[-1.0070243 ,  1.153871  ],\n",
       "       [-1.2718885 ,  0.09359182],\n",
       "       [-1.1191512 , -1.161263  ],\n",
       "       [-0.7922406 , -1.2390095 ],\n",
       "       [-0.9476444 , -0.93783224]], dtype=float32)"
      ]
     },
     "execution_count": 55,
     "metadata": {},
     "output_type": "execute_result"
    }
   ],
   "source": [
    "trainer.predict_pre_generator(sig_im_test_re[:5].reshape(5,1,2))"
   ]
  },
  {
   "cell_type": "code",
   "execution_count": 56,
   "metadata": {},
   "outputs": [
    {
     "data": {
      "text/plain": [
       "array([[[-1.0047826,  1.1611896]]], dtype=float32)"
      ]
     },
     "execution_count": 56,
     "metadata": {},
     "output_type": "execute_result"
    }
   ],
   "source": [
    "sig_im_test_re[0].reshape(1,1,2)"
   ]
  },
  {
   "cell_type": "code",
   "execution_count": 88,
   "metadata": {},
   "outputs": [
    {
     "data": {
      "text/plain": [
       "array([[-1.0048428,  1.1605326]], dtype=float32)"
      ]
     },
     "execution_count": 88,
     "metadata": {},
     "output_type": "execute_result"
    }
   ],
   "source": [
    "trainer.predict_pre_generator(sig_im_test_re[0].reshape(1,1,2))"
   ]
  },
  {
   "cell_type": "code",
   "execution_count": 126,
   "metadata": {},
   "outputs": [
    {
     "name": "stdout",
     "output_type": "stream",
     "text": [
      "[[-1.0048174  1.1605062]]\n"
     ]
    }
   ],
   "source": [
    "print(trainer.predict_pre_generator(sig_im_test_re[:1].reshape(1,1,2)))"
   ]
  },
  {
   "cell_type": "code",
   "execution_count": 127,
   "metadata": {},
   "outputs": [
    {
     "name": "stdout",
     "output_type": "stream",
     "text": [
      "[-1.00481268  1.16056222]\n"
     ]
    }
   ],
   "source": [
    "print(trainer.predict_generator(sig_im_test_re[:1].reshape(1,1,2)))"
   ]
  },
  {
   "cell_type": "code",
   "execution_count": 128,
   "metadata": {},
   "outputs": [
    {
     "name": "stdout",
     "output_type": "stream",
     "text": [
      "[-1.00486254  1.16054069]\n"
     ]
    }
   ],
   "source": [
    "print(trainer.predict_beta_generator(sig_im_test_re[:1].reshape(1,1,2)))"
   ]
  },
  {
   "cell_type": "code",
   "execution_count": 117,
   "metadata": {},
   "outputs": [
    {
     "name": "stdout",
     "output_type": "stream",
     "text": [
      "0.2746066\n"
     ]
    }
   ],
   "source": [
    "print(trainer.predict_curr_discriminator())"
   ]
  },
  {
   "cell_type": "code",
   "execution_count": null,
   "metadata": {},
   "outputs": [],
   "source": [
    "trainer.test_curr_discriminator_batch()"
   ]
  },
  {
   "cell_type": "code",
   "execution_count": 135,
   "metadata": {},
   "outputs": [],
   "source": [
    "orig, pred=trainer.get_predicted_sequence()"
   ]
  },
  {
   "cell_type": "code",
   "execution_count": 136,
   "metadata": {},
   "outputs": [],
   "source": [
    "#pred"
   ]
  },
  {
   "cell_type": "code",
   "execution_count": 137,
   "metadata": {},
   "outputs": [
    {
     "data": {
      "text/plain": [
       "(256, 2)"
      ]
     },
     "execution_count": 137,
     "metadata": {},
     "output_type": "execute_result"
    }
   ],
   "source": [
    "orig.shape"
   ]
  },
  {
   "cell_type": "code",
   "execution_count": 138,
   "metadata": {},
   "outputs": [
    {
     "data": {
      "text/plain": [
       "(256, 2)"
      ]
     },
     "execution_count": 138,
     "metadata": {},
     "output_type": "execute_result"
    }
   ],
   "source": [
    "pred.shape"
   ]
  },
  {
   "cell_type": "code",
   "execution_count": 139,
   "metadata": {},
   "outputs": [
    {
     "data": {
      "text/plain": [
       "array([ 0.60655093, -0.49042538], dtype=float32)"
      ]
     },
     "execution_count": 139,
     "metadata": {},
     "output_type": "execute_result"
    }
   ],
   "source": [
    "orig[252]"
   ]
  },
  {
   "cell_type": "code",
   "execution_count": 140,
   "metadata": {},
   "outputs": [
    {
     "data": {
      "text/plain": [
       "array([ 3.1338478, -2.6619375])"
      ]
     },
     "execution_count": 140,
     "metadata": {},
     "output_type": "execute_result"
    }
   ],
   "source": [
    "pred[252]"
   ]
  },
  {
   "cell_type": "code",
   "execution_count": 141,
   "metadata": {},
   "outputs": [
    {
     "data": {
      "text/plain": [
       "array([0.5380952 , 0.43678656], dtype=float32)"
      ]
     },
     "execution_count": 141,
     "metadata": {},
     "output_type": "execute_result"
    }
   ],
   "source": [
    "orig[0]"
   ]
  },
  {
   "cell_type": "code",
   "execution_count": 142,
   "metadata": {},
   "outputs": [
    {
     "data": {
      "text/plain": [
       "array([ 3.04717902, -0.65548495])"
      ]
     },
     "execution_count": 142,
     "metadata": {},
     "output_type": "execute_result"
    }
   ],
   "source": [
    "pred[0]"
   ]
  },
  {
   "cell_type": "code",
   "execution_count": 143,
   "metadata": {},
   "outputs": [
    {
     "name": "stdout",
     "output_type": "stream",
     "text": [
      "[[0.11324434]]\n"
     ]
    }
   ],
   "source": [
    "print(trainer.predict_discriminator(np.expand_dims(rf_system.transmit_real_symbol_block(orig, impersonator=True), 0)))"
   ]
  },
  {
   "cell_type": "code",
   "execution_count": 144,
   "metadata": {},
   "outputs": [
    {
     "name": "stdout",
     "output_type": "stream",
     "text": [
      "[[0.]]\n"
     ]
    }
   ],
   "source": [
    "print(trainer.predict_discriminator(np.expand_dims(rf_system.transmit_real_symbol_block(pred, impersonator=True), 0)))"
   ]
  },
  {
   "cell_type": "code",
   "execution_count": null,
   "metadata": {},
   "outputs": [],
   "source": []
  },
  {
   "cell_type": "code",
   "execution_count": 56,
   "metadata": {},
   "outputs": [],
   "source": [
    "symb=rf_system.get_real_pretx_symbol_block(128)"
   ]
  },
  {
   "cell_type": "code",
   "execution_count": 58,
   "metadata": {},
   "outputs": [
    {
     "data": {
      "text/plain": [
       "(256, 2)"
      ]
     },
     "execution_count": 58,
     "metadata": {},
     "output_type": "execute_result"
    }
   ],
   "source": [
    "symb.shape"
   ]
  },
  {
   "cell_type": "code",
   "execution_count": 121,
   "metadata": {},
   "outputs": [],
   "source": [
    "symb_r=symb.reshape(1,256,2)"
   ]
  },
  {
   "cell_type": "code",
   "execution_count": 127,
   "metadata": {},
   "outputs": [],
   "source": [
    "st0=symb[0].reshape(1,1,2)\n",
    "st1=symb[1].reshape(1,1,2)"
   ]
  },
  {
   "cell_type": "code",
   "execution_count": 123,
   "metadata": {},
   "outputs": [
    {
     "data": {
      "text/plain": [
       "array([ 0.19163832, -0.47349837], dtype=float32)"
      ]
     },
     "execution_count": 123,
     "metadata": {},
     "output_type": "execute_result"
    }
   ],
   "source": [
    "symb[-1]"
   ]
  },
  {
   "cell_type": "code",
   "execution_count": 124,
   "metadata": {},
   "outputs": [],
   "source": [
    "symb_r[:,-1,:] = st0"
   ]
  },
  {
   "cell_type": "code",
   "execution_count": 126,
   "metadata": {},
   "outputs": [
    {
     "data": {
      "text/plain": [
       "array([[[ 0.60103184, -0.5632952 ]]], dtype=float32)"
      ]
     },
     "execution_count": 126,
     "metadata": {},
     "output_type": "execute_result"
    }
   ],
   "source": [
    "st0"
   ]
  },
  {
   "cell_type": "code",
   "execution_count": 125,
   "metadata": {},
   "outputs": [
    {
     "data": {
      "text/plain": [
       "array([[ 0.60103184, -0.5632952 ]], dtype=float32)"
      ]
     },
     "execution_count": 125,
     "metadata": {},
     "output_type": "execute_result"
    }
   ],
   "source": [
    "symb_r[:,-1,:]"
   ]
  },
  {
   "cell_type": "code",
   "execution_count": 129,
   "metadata": {},
   "outputs": [],
   "source": [
    "sy_c=np.concatenate([symb_r, st1], axis=1)"
   ]
  },
  {
   "cell_type": "code",
   "execution_count": 131,
   "metadata": {},
   "outputs": [
    {
     "data": {
      "text/plain": [
       "array([[[-0.14769381,  0.06279915]]], dtype=float32)"
      ]
     },
     "execution_count": 131,
     "metadata": {},
     "output_type": "execute_result"
    }
   ],
   "source": [
    "st1"
   ]
  },
  {
   "cell_type": "code",
   "execution_count": 130,
   "metadata": {},
   "outputs": [
    {
     "data": {
      "text/plain": [
       "array([[-0.14769381,  0.06279915]], dtype=float32)"
      ]
     },
     "execution_count": 130,
     "metadata": {},
     "output_type": "execute_result"
    }
   ],
   "source": [
    "sy_c[:,-1,:]"
   ]
  },
  {
   "cell_type": "code",
   "execution_count": null,
   "metadata": {},
   "outputs": [],
   "source": []
  },
  {
   "cell_type": "code",
   "execution_count": 133,
   "metadata": {},
   "outputs": [],
   "source": [
    "trainer.reflect_pre_train()"
   ]
  },
  {
   "cell_type": "code",
   "execution_count": 134,
   "metadata": {},
   "outputs": [
    {
     "name": "stdout",
     "output_type": "stream",
     "text": [
      "Initial Disc Accuracy: 0.069\n",
      "0, 1: Disc Accuracy: 0.334, Average reward: -0.456\n",
      "1, 1: Disc Accuracy: 0.699, Average reward: -0.122\n",
      "2, 1: Disc Accuracy: 0.440, Average reward: -0.151\n",
      "3, 1: Disc Accuracy: 0.393, Average reward: -0.283\n",
      "4, 1: Disc Accuracy: 0.259, Average reward: 0.425\n",
      "5, 1: Disc Accuracy: 0.775, Average reward: -0.362\n",
      "6, 1: Disc Accuracy: 0.058, Average reward: 0.082\n",
      "7, 1: Disc Accuracy: 0.069, Average reward: -0.389\n",
      "8, 1: Disc Accuracy: 0.103, Average reward: -0.454\n",
      "9, 1: Disc Accuracy: 0.808, Average reward: -0.438\n",
      "10, 1: Disc Accuracy: 0.214, Average reward: -0.374\n",
      "11, 1: Disc Accuracy: 0.056, Average reward: -0.329\n",
      "12, 1: Disc Accuracy: 0.002, Average reward: -0.459\n",
      "13, 1: Disc Accuracy: 0.935, Average reward: -0.500\n",
      "14, 1: Disc Accuracy: 0.051, Average reward: -0.437\n",
      "15, 1: Disc Accuracy: 0.110, Average reward: -0.486\n",
      "16, 1: Disc Accuracy: 0.111, Average reward: -0.497\n",
      "17, 1: Disc Accuracy: 0.923, Average reward: -0.486\n",
      "18, 1: Disc Accuracy: 0.094, Average reward: 0.443\n",
      "19, 1: Disc Accuracy: 0.046, Average reward: -0.114\n",
      "20, 1: Disc Accuracy: 0.788, Average reward: 0.115\n",
      "21, 1: Disc Accuracy: 0.678, Average reward: -0.489\n",
      "22, 1: Disc Accuracy: 0.003, Average reward: -0.135\n",
      "23, 1: Disc Accuracy: 0.014, Average reward: -0.491\n",
      "24, 1: Disc Accuracy: 0.546, Average reward: -0.206\n",
      "25, 1: Disc Accuracy: 0.555, Average reward: 0.498\n",
      "26, 1: Disc Accuracy: 0.998, Average reward: 0.481\n",
      "27, 1: Disc Accuracy: 0.997, Average reward: 0.404\n",
      "28, 1: Disc Accuracy: 0.997, Average reward: 0.500\n",
      "29, 1: Disc Accuracy: 0.991, Average reward: 0.493\n",
      "30, 1: Disc Accuracy: 1.000, Average reward: 0.500\n",
      "31, 1: Disc Accuracy: 0.999, Average reward: 0.493\n",
      "32, 1: Disc Accuracy: 1.000, Average reward: 0.500\n",
      "33, 1: Disc Accuracy: 1.000, Average reward: 0.500\n",
      "34, 1: Disc Accuracy: 1.000, Average reward: 0.500\n",
      "35, 1: Disc Accuracy: 1.000, Average reward: 0.500\n",
      "36, 1: Disc Accuracy: 1.000, Average reward: 0.500\n",
      "37, 1: Disc Accuracy: 1.000, Average reward: 0.500\n",
      "38, 1: Disc Accuracy: 1.000, Average reward: 0.500\n",
      "39, 1: Disc Accuracy: 1.000, Average reward: 0.500\n",
      "40, 1: Disc Accuracy: 1.000, Average reward: 0.500\n",
      "41, 1: Disc Accuracy: 1.000, Average reward: 0.500\n",
      "42, 1: Disc Accuracy: 1.000, Average reward: 0.500\n",
      "43, 1: Disc Accuracy: 1.000, Average reward: 0.500\n",
      "44, 1: Disc Accuracy: 1.000, Average reward: 0.500\n",
      "45, 1: Disc Accuracy: 1.000, Average reward: 0.500\n",
      "46, 1: Disc Accuracy: 1.000, Average reward: 0.500\n",
      "47, 1: Disc Accuracy: 1.000, Average reward: 0.500\n",
      "48, 1: Disc Accuracy: 1.000, Average reward: 0.500\n",
      "49, 1: Disc Accuracy: 1.000, Average reward: 0.500\n",
      "50, 1: Disc Accuracy: 1.000, Average reward: 0.499\n",
      "51, 1: Disc Accuracy: 1.000, Average reward: 0.499\n",
      "52, 1: Disc Accuracy: 0.368, Average reward: 0.179\n",
      "53, 1: Disc Accuracy: 0.449, Average reward: 0.497\n",
      "54, 1: Disc Accuracy: 0.037, Average reward: -0.453\n",
      "55, 1: Disc Accuracy: 0.037, Average reward: 0.411\n",
      "56, 1: Disc Accuracy: 0.999, Average reward: 0.397\n",
      "57, 1: Disc Accuracy: 0.967, Average reward: -0.435\n",
      "58, 1: Disc Accuracy: 0.411, Average reward: -0.498\n",
      "59, 1: Disc Accuracy: 0.898, Average reward: 0.222\n",
      "60, 1: Disc Accuracy: 0.383, Average reward: -0.474\n",
      "61, 1: Disc Accuracy: 0.522, Average reward: -0.312\n",
      "62, 1: Disc Accuracy: 0.019, Average reward: -0.487\n",
      "63, 1: Disc Accuracy: 0.005, Average reward: -0.479\n",
      "64, 1: Disc Accuracy: 0.005, Average reward: -0.427\n",
      "65, 1: Disc Accuracy: 0.683, Average reward: -0.472\n",
      "66, 1: Disc Accuracy: 0.014, Average reward: -0.471\n",
      "67, 1: Disc Accuracy: 0.000, Average reward: -0.496\n",
      "68, 1: Disc Accuracy: 0.730, Average reward: -0.494\n",
      "69, 1: Disc Accuracy: 0.008, Average reward: -0.495\n",
      "70, 1: Disc Accuracy: 0.087, Average reward: 0.447\n",
      "71, 1: Disc Accuracy: 0.984, Average reward: 0.477\n",
      "72, 1: Disc Accuracy: 0.995, Average reward: 0.491\n",
      "73, 1: Disc Accuracy: 1.000, Average reward: 0.139\n",
      "74, 1: Disc Accuracy: 0.998, Average reward: 0.224\n",
      "75, 1: Disc Accuracy: 1.000, Average reward: 0.500\n",
      "76, 1: Disc Accuracy: 1.000, Average reward: 0.500\n",
      "77, 1: Disc Accuracy: 1.000, Average reward: 0.500\n",
      "78, 1: Disc Accuracy: 1.000, Average reward: 0.500\n",
      "79, 1: Disc Accuracy: 1.000, Average reward: 0.500\n",
      "80, 1: Disc Accuracy: 1.000, Average reward: 0.500\n",
      "81, 1: Disc Accuracy: 1.000, Average reward: 0.500\n",
      "82, 1: Disc Accuracy: 1.000, Average reward: 0.500\n",
      "83, 1: Disc Accuracy: 1.000, Average reward: 0.500\n",
      "84, 1: Disc Accuracy: 1.000, Average reward: 0.500\n",
      "85, 1: Disc Accuracy: 1.000, Average reward: 0.500\n",
      "86, 1: Disc Accuracy: 1.000, Average reward: 0.500\n",
      "87, 1: Disc Accuracy: 1.000, Average reward: 0.500\n",
      "88, 1: Disc Accuracy: 1.000, Average reward: 0.500\n"
     ]
    },
    {
     "ename": "KeyboardInterrupt",
     "evalue": "",
     "output_type": "error",
     "traceback": [
      "\u001b[1;31m---------------------------------------------------------------------------\u001b[0m",
      "\u001b[1;31mKeyboardInterrupt\u001b[0m                         Traceback (most recent call last)",
      "\u001b[1;32m<ipython-input-134-22a2d312a5fd>\u001b[0m in \u001b[0;36m<module>\u001b[1;34m\u001b[0m\n\u001b[1;32m----> 1\u001b[1;33m \u001b[0mtrainer\u001b[0m\u001b[1;33m.\u001b[0m\u001b[0mtrain\u001b[0m\u001b[1;33m(\u001b[0m\u001b[0msteps\u001b[0m\u001b[1;33m=\u001b[0m\u001b[1;36m1000\u001b[0m\u001b[1;33m)\u001b[0m\u001b[1;33m\u001b[0m\u001b[1;33m\u001b[0m\u001b[0m\n\u001b[0m",
      "\u001b[1;32mG:\\My Drive\\Research\\transmitter_impersonation_alt\\SigGAN\\train.py\u001b[0m in \u001b[0;36mtrain\u001b[1;34m(self, steps, g_steps, g_weights_path, verbose)\u001b[0m\n\u001b[0;32m    167\u001b[0m                 \u001b[0mself\u001b[0m\u001b[1;33m.\u001b[0m\u001b[0magent\u001b[0m\u001b[1;33m.\u001b[0m\u001b[0mgenerator\u001b[0m\u001b[1;33m.\u001b[0m\u001b[0mupdate\u001b[0m\u001b[1;33m(\u001b[0m\u001b[0mstates\u001b[0m\u001b[1;33m,\u001b[0m \u001b[0mactions\u001b[0m\u001b[1;33m,\u001b[0m \u001b[0mrewards\u001b[0m\u001b[1;33m)\u001b[0m\u001b[1;33m\u001b[0m\u001b[1;33m\u001b[0m\u001b[0m\n\u001b[0;32m    168\u001b[0m                 \u001b[1;31m#print('{:d}, {:d}: Average reward: {:.3f}'.format(step, 1, np.mean(rewards)))\u001b[0m\u001b[1;33m\u001b[0m\u001b[1;33m\u001b[0m\u001b[1;33m\u001b[0m\u001b[0m\n\u001b[1;32m--> 169\u001b[1;33m                 \u001b[0mprint\u001b[0m\u001b[1;33m(\u001b[0m\u001b[1;34m'{:d}, {:d}: Disc Accuracy: {:.3f}, Average reward: {:.3f}'\u001b[0m\u001b[1;33m.\u001b[0m\u001b[0mformat\u001b[0m\u001b[1;33m(\u001b[0m\u001b[0mstep\u001b[0m\u001b[1;33m,\u001b[0m \u001b[1;36m1\u001b[0m\u001b[1;33m,\u001b[0m \u001b[0mself\u001b[0m\u001b[1;33m.\u001b[0m\u001b[0mpredict_curr_discriminator\u001b[0m\u001b[1;33m(\u001b[0m\u001b[1;33m)\u001b[0m\u001b[1;33m,\u001b[0m \u001b[0mnp\u001b[0m\u001b[1;33m.\u001b[0m\u001b[0mmean\u001b[0m\u001b[1;33m(\u001b[0m\u001b[0mrewards\u001b[0m\u001b[1;33m)\u001b[0m\u001b[1;33m)\u001b[0m\u001b[1;33m)\u001b[0m\u001b[1;33m\u001b[0m\u001b[1;33m\u001b[0m\u001b[0m\n\u001b[0m\u001b[0;32m    170\u001b[0m             \u001b[1;31m#if(~verbose): print('Disc Accuracy: {:.3f}'.format(self.predict_curr_discriminator(self.rf_system)))\u001b[0m\u001b[1;33m\u001b[0m\u001b[1;33m\u001b[0m\u001b[1;33m\u001b[0m\u001b[0m\n\u001b[0;32m    171\u001b[0m \u001b[1;33m\u001b[0m\u001b[0m\n",
      "\u001b[1;32mG:\\My Drive\\Research\\transmitter_impersonation_alt\\SigGAN\\train.py\u001b[0m in \u001b[0;36mpredict_curr_discriminator\u001b[1;34m(self)\u001b[0m\n\u001b[0;32m     93\u001b[0m \u001b[1;33m\u001b[0m\u001b[0m\n\u001b[0;32m     94\u001b[0m     \u001b[1;32mdef\u001b[0m \u001b[0mpredict_curr_discriminator\u001b[0m\u001b[1;33m(\u001b[0m\u001b[0mself\u001b[0m\u001b[1;33m)\u001b[0m\u001b[1;33m:\u001b[0m\u001b[1;33m\u001b[0m\u001b[1;33m\u001b[0m\u001b[0m\n\u001b[1;32m---> 95\u001b[1;33m         \u001b[0mperturbed_signal\u001b[0m\u001b[1;33m=\u001b[0m\u001b[0mself\u001b[0m\u001b[1;33m.\u001b[0m\u001b[0mrf_system\u001b[0m\u001b[1;33m.\u001b[0m\u001b[0mtransmit_real_symbol_block\u001b[0m\u001b[1;33m(\u001b[0m\u001b[0mself\u001b[0m\u001b[1;33m.\u001b[0m\u001b[0magent\u001b[0m\u001b[1;33m.\u001b[0m\u001b[0mgenerator\u001b[0m\u001b[1;33m.\u001b[0m\u001b[0msampling_sequence_alt\u001b[0m\u001b[1;33m(\u001b[0m\u001b[0mself\u001b[0m\u001b[1;33m.\u001b[0m\u001b[0mT\u001b[0m\u001b[1;33m,\u001b[0m \u001b[0mself\u001b[0m\u001b[1;33m.\u001b[0m\u001b[0mrf_system\u001b[0m\u001b[1;33m.\u001b[0m\u001b[0mget_real_pretx_symbol_block\u001b[0m\u001b[1;33m(\u001b[0m\u001b[0mself\u001b[0m\u001b[1;33m.\u001b[0m\u001b[0mT\u001b[0m\u001b[1;33m//\u001b[0m\u001b[1;36m2\u001b[0m\u001b[1;33m)\u001b[0m\u001b[1;33m)\u001b[0m\u001b[1;33m,\u001b[0m \u001b[0mimpersonator\u001b[0m\u001b[1;33m=\u001b[0m\u001b[1;32mTrue\u001b[0m\u001b[1;33m)\u001b[0m\u001b[1;33m\u001b[0m\u001b[1;33m\u001b[0m\u001b[0m\n\u001b[0m\u001b[0;32m     96\u001b[0m         \u001b[1;32mreturn\u001b[0m \u001b[0mself\u001b[0m\u001b[1;33m.\u001b[0m\u001b[0mpredict_discriminator\u001b[0m\u001b[1;33m(\u001b[0m\u001b[0mnp\u001b[0m\u001b[1;33m.\u001b[0m\u001b[0mexpand_dims\u001b[0m\u001b[1;33m(\u001b[0m\u001b[0mperturbed_signal\u001b[0m\u001b[1;33m,\u001b[0m \u001b[1;36m0\u001b[0m\u001b[1;33m)\u001b[0m\u001b[1;33m)\u001b[0m\u001b[1;33m.\u001b[0m\u001b[0msqueeze\u001b[0m\u001b[1;33m(\u001b[0m\u001b[1;33m)\u001b[0m\u001b[1;33m\u001b[0m\u001b[1;33m\u001b[0m\u001b[0m\n\u001b[0;32m     97\u001b[0m \u001b[1;33m\u001b[0m\u001b[0m\n",
      "\u001b[1;32mG:\\My Drive\\Research\\transmitter_impersonation_alt\\SigGAN\\models.py\u001b[0m in \u001b[0;36msampling_sequence_alt\u001b[1;34m(self, T, orig_symbols)\u001b[0m\n\u001b[0;32m    105\u001b[0m         \u001b[0mactions\u001b[0m \u001b[1;33m=\u001b[0m \u001b[1;32mNone\u001b[0m\u001b[1;33m\u001b[0m\u001b[1;33m\u001b[0m\u001b[0m\n\u001b[0;32m    106\u001b[0m         \u001b[1;32mfor\u001b[0m \u001b[0mi\u001b[0m \u001b[1;32min\u001b[0m \u001b[0mrange\u001b[0m\u001b[1;33m(\u001b[0m\u001b[0mT\u001b[0m\u001b[1;33m)\u001b[0m\u001b[1;33m:\u001b[0m\u001b[1;33m\u001b[0m\u001b[1;33m\u001b[0m\u001b[0m\n\u001b[1;32m--> 107\u001b[1;33m             \u001b[0mmean\u001b[0m\u001b[1;33m,\u001b[0m \u001b[0mlog_variance\u001b[0m \u001b[1;33m=\u001b[0m \u001b[0mself\u001b[0m\u001b[1;33m.\u001b[0m\u001b[0mpredict\u001b[0m\u001b[1;33m(\u001b[0m\u001b[0morig_symbols\u001b[0m\u001b[1;33m[\u001b[0m\u001b[0mi\u001b[0m\u001b[1;33m]\u001b[0m\u001b[1;33m.\u001b[0m\u001b[0mreshape\u001b[0m\u001b[1;33m(\u001b[0m\u001b[1;36m1\u001b[0m\u001b[1;33m,\u001b[0m\u001b[1;36m1\u001b[0m\u001b[1;33m,\u001b[0m\u001b[1;36m2\u001b[0m\u001b[1;33m)\u001b[0m\u001b[1;33m)\u001b[0m\u001b[1;33m\u001b[0m\u001b[1;33m\u001b[0m\u001b[0m\n\u001b[0m\u001b[0;32m    108\u001b[0m             \u001b[1;31m#print(mean, log_variance)\u001b[0m\u001b[1;33m\u001b[0m\u001b[1;33m\u001b[0m\u001b[1;33m\u001b[0m\u001b[0m\n\u001b[0;32m    109\u001b[0m             \u001b[0maction\u001b[0m \u001b[1;33m=\u001b[0m \u001b[0mself\u001b[0m\u001b[1;33m.\u001b[0m\u001b[0msampling\u001b[0m\u001b[1;33m(\u001b[0m\u001b[0mmean\u001b[0m\u001b[1;33m,\u001b[0m \u001b[0mlog_variance\u001b[0m\u001b[1;33m)\u001b[0m\u001b[1;33m\u001b[0m\u001b[1;33m\u001b[0m\u001b[0m\n",
      "\u001b[1;32mG:\\My Drive\\Research\\transmitter_impersonation_alt\\SigGAN\\models.py\u001b[0m in \u001b[0;36mpredict\u001b[1;34m(self, state, stateful)\u001b[0m\n\u001b[0;32m     82\u001b[0m             self.state_in : state}\n\u001b[0;32m     83\u001b[0m         mean, log_variance = self.sess.run(\n\u001b[1;32m---> 84\u001b[1;33m             [self.mean, self.log_variance], feed_dict)\n\u001b[0m\u001b[0;32m     85\u001b[0m \u001b[1;33m\u001b[0m\u001b[0m\n\u001b[0;32m     86\u001b[0m         \u001b[1;32mreturn\u001b[0m \u001b[0mmean\u001b[0m\u001b[1;33m,\u001b[0m \u001b[0mlog_variance\u001b[0m\u001b[1;33m\u001b[0m\u001b[1;33m\u001b[0m\u001b[0m\n",
      "\u001b[1;32m~\\Anaconda3\\envs\\tf_gpu\\lib\\site-packages\\tensorflow_core\\python\\client\\session.py\u001b[0m in \u001b[0;36mrun\u001b[1;34m(self, fetches, feed_dict, options, run_metadata)\u001b[0m\n\u001b[0;32m    954\u001b[0m     \u001b[1;32mtry\u001b[0m\u001b[1;33m:\u001b[0m\u001b[1;33m\u001b[0m\u001b[1;33m\u001b[0m\u001b[0m\n\u001b[0;32m    955\u001b[0m       result = self._run(None, fetches, feed_dict, options_ptr,\n\u001b[1;32m--> 956\u001b[1;33m                          run_metadata_ptr)\n\u001b[0m\u001b[0;32m    957\u001b[0m       \u001b[1;32mif\u001b[0m \u001b[0mrun_metadata\u001b[0m\u001b[1;33m:\u001b[0m\u001b[1;33m\u001b[0m\u001b[1;33m\u001b[0m\u001b[0m\n\u001b[0;32m    958\u001b[0m         \u001b[0mproto_data\u001b[0m \u001b[1;33m=\u001b[0m \u001b[0mtf_session\u001b[0m\u001b[1;33m.\u001b[0m\u001b[0mTF_GetBuffer\u001b[0m\u001b[1;33m(\u001b[0m\u001b[0mrun_metadata_ptr\u001b[0m\u001b[1;33m)\u001b[0m\u001b[1;33m\u001b[0m\u001b[1;33m\u001b[0m\u001b[0m\n",
      "\u001b[1;32m~\\Anaconda3\\envs\\tf_gpu\\lib\\site-packages\\tensorflow_core\\python\\client\\session.py\u001b[0m in \u001b[0;36m_run\u001b[1;34m(self, handle, fetches, feed_dict, options, run_metadata)\u001b[0m\n\u001b[0;32m   1178\u001b[0m     \u001b[1;32mif\u001b[0m \u001b[0mfinal_fetches\u001b[0m \u001b[1;32mor\u001b[0m \u001b[0mfinal_targets\u001b[0m \u001b[1;32mor\u001b[0m \u001b[1;33m(\u001b[0m\u001b[0mhandle\u001b[0m \u001b[1;32mand\u001b[0m \u001b[0mfeed_dict_tensor\u001b[0m\u001b[1;33m)\u001b[0m\u001b[1;33m:\u001b[0m\u001b[1;33m\u001b[0m\u001b[1;33m\u001b[0m\u001b[0m\n\u001b[0;32m   1179\u001b[0m       results = self._do_run(handle, final_targets, final_fetches,\n\u001b[1;32m-> 1180\u001b[1;33m                              feed_dict_tensor, options, run_metadata)\n\u001b[0m\u001b[0;32m   1181\u001b[0m     \u001b[1;32melse\u001b[0m\u001b[1;33m:\u001b[0m\u001b[1;33m\u001b[0m\u001b[1;33m\u001b[0m\u001b[0m\n\u001b[0;32m   1182\u001b[0m       \u001b[0mresults\u001b[0m \u001b[1;33m=\u001b[0m \u001b[1;33m[\u001b[0m\u001b[1;33m]\u001b[0m\u001b[1;33m\u001b[0m\u001b[1;33m\u001b[0m\u001b[0m\n",
      "\u001b[1;32m~\\Anaconda3\\envs\\tf_gpu\\lib\\site-packages\\tensorflow_core\\python\\client\\session.py\u001b[0m in \u001b[0;36m_do_run\u001b[1;34m(self, handle, target_list, fetch_list, feed_dict, options, run_metadata)\u001b[0m\n\u001b[0;32m   1357\u001b[0m     \u001b[1;32mif\u001b[0m \u001b[0mhandle\u001b[0m \u001b[1;32mis\u001b[0m \u001b[1;32mNone\u001b[0m\u001b[1;33m:\u001b[0m\u001b[1;33m\u001b[0m\u001b[1;33m\u001b[0m\u001b[0m\n\u001b[0;32m   1358\u001b[0m       return self._do_call(_run_fn, feeds, fetches, targets, options,\n\u001b[1;32m-> 1359\u001b[1;33m                            run_metadata)\n\u001b[0m\u001b[0;32m   1360\u001b[0m     \u001b[1;32melse\u001b[0m\u001b[1;33m:\u001b[0m\u001b[1;33m\u001b[0m\u001b[1;33m\u001b[0m\u001b[0m\n\u001b[0;32m   1361\u001b[0m       \u001b[1;32mreturn\u001b[0m \u001b[0mself\u001b[0m\u001b[1;33m.\u001b[0m\u001b[0m_do_call\u001b[0m\u001b[1;33m(\u001b[0m\u001b[0m_prun_fn\u001b[0m\u001b[1;33m,\u001b[0m \u001b[0mhandle\u001b[0m\u001b[1;33m,\u001b[0m \u001b[0mfeeds\u001b[0m\u001b[1;33m,\u001b[0m \u001b[0mfetches\u001b[0m\u001b[1;33m)\u001b[0m\u001b[1;33m\u001b[0m\u001b[1;33m\u001b[0m\u001b[0m\n",
      "\u001b[1;32m~\\Anaconda3\\envs\\tf_gpu\\lib\\site-packages\\tensorflow_core\\python\\client\\session.py\u001b[0m in \u001b[0;36m_do_call\u001b[1;34m(self, fn, *args)\u001b[0m\n\u001b[0;32m   1363\u001b[0m   \u001b[1;32mdef\u001b[0m \u001b[0m_do_call\u001b[0m\u001b[1;33m(\u001b[0m\u001b[0mself\u001b[0m\u001b[1;33m,\u001b[0m \u001b[0mfn\u001b[0m\u001b[1;33m,\u001b[0m \u001b[1;33m*\u001b[0m\u001b[0margs\u001b[0m\u001b[1;33m)\u001b[0m\u001b[1;33m:\u001b[0m\u001b[1;33m\u001b[0m\u001b[1;33m\u001b[0m\u001b[0m\n\u001b[0;32m   1364\u001b[0m     \u001b[1;32mtry\u001b[0m\u001b[1;33m:\u001b[0m\u001b[1;33m\u001b[0m\u001b[1;33m\u001b[0m\u001b[0m\n\u001b[1;32m-> 1365\u001b[1;33m       \u001b[1;32mreturn\u001b[0m \u001b[0mfn\u001b[0m\u001b[1;33m(\u001b[0m\u001b[1;33m*\u001b[0m\u001b[0margs\u001b[0m\u001b[1;33m)\u001b[0m\u001b[1;33m\u001b[0m\u001b[1;33m\u001b[0m\u001b[0m\n\u001b[0m\u001b[0;32m   1366\u001b[0m     \u001b[1;32mexcept\u001b[0m \u001b[0merrors\u001b[0m\u001b[1;33m.\u001b[0m\u001b[0mOpError\u001b[0m \u001b[1;32mas\u001b[0m \u001b[0me\u001b[0m\u001b[1;33m:\u001b[0m\u001b[1;33m\u001b[0m\u001b[1;33m\u001b[0m\u001b[0m\n\u001b[0;32m   1367\u001b[0m       \u001b[0mmessage\u001b[0m \u001b[1;33m=\u001b[0m \u001b[0mcompat\u001b[0m\u001b[1;33m.\u001b[0m\u001b[0mas_text\u001b[0m\u001b[1;33m(\u001b[0m\u001b[0me\u001b[0m\u001b[1;33m.\u001b[0m\u001b[0mmessage\u001b[0m\u001b[1;33m)\u001b[0m\u001b[1;33m\u001b[0m\u001b[1;33m\u001b[0m\u001b[0m\n",
      "\u001b[1;32m~\\Anaconda3\\envs\\tf_gpu\\lib\\site-packages\\tensorflow_core\\python\\client\\session.py\u001b[0m in \u001b[0;36m_run_fn\u001b[1;34m(feed_dict, fetch_list, target_list, options, run_metadata)\u001b[0m\n\u001b[0;32m   1348\u001b[0m       \u001b[0mself\u001b[0m\u001b[1;33m.\u001b[0m\u001b[0m_extend_graph\u001b[0m\u001b[1;33m(\u001b[0m\u001b[1;33m)\u001b[0m\u001b[1;33m\u001b[0m\u001b[1;33m\u001b[0m\u001b[0m\n\u001b[0;32m   1349\u001b[0m       return self._call_tf_sessionrun(options, feed_dict, fetch_list,\n\u001b[1;32m-> 1350\u001b[1;33m                                       target_list, run_metadata)\n\u001b[0m\u001b[0;32m   1351\u001b[0m \u001b[1;33m\u001b[0m\u001b[0m\n\u001b[0;32m   1352\u001b[0m     \u001b[1;32mdef\u001b[0m \u001b[0m_prun_fn\u001b[0m\u001b[1;33m(\u001b[0m\u001b[0mhandle\u001b[0m\u001b[1;33m,\u001b[0m \u001b[0mfeed_dict\u001b[0m\u001b[1;33m,\u001b[0m \u001b[0mfetch_list\u001b[0m\u001b[1;33m)\u001b[0m\u001b[1;33m:\u001b[0m\u001b[1;33m\u001b[0m\u001b[1;33m\u001b[0m\u001b[0m\n",
      "\u001b[1;32m~\\Anaconda3\\envs\\tf_gpu\\lib\\site-packages\\tensorflow_core\\python\\client\\session.py\u001b[0m in \u001b[0;36m_call_tf_sessionrun\u001b[1;34m(self, options, feed_dict, fetch_list, target_list, run_metadata)\u001b[0m\n\u001b[0;32m   1441\u001b[0m     return tf_session.TF_SessionRun_wrapper(self._session, options, feed_dict,\n\u001b[0;32m   1442\u001b[0m                                             \u001b[0mfetch_list\u001b[0m\u001b[1;33m,\u001b[0m \u001b[0mtarget_list\u001b[0m\u001b[1;33m,\u001b[0m\u001b[1;33m\u001b[0m\u001b[1;33m\u001b[0m\u001b[0m\n\u001b[1;32m-> 1443\u001b[1;33m                                             run_metadata)\n\u001b[0m\u001b[0;32m   1444\u001b[0m \u001b[1;33m\u001b[0m\u001b[0m\n\u001b[0;32m   1445\u001b[0m   \u001b[1;32mdef\u001b[0m \u001b[0m_call_tf_sessionprun\u001b[0m\u001b[1;33m(\u001b[0m\u001b[0mself\u001b[0m\u001b[1;33m,\u001b[0m \u001b[0mhandle\u001b[0m\u001b[1;33m,\u001b[0m \u001b[0mfeed_dict\u001b[0m\u001b[1;33m,\u001b[0m \u001b[0mfetch_list\u001b[0m\u001b[1;33m)\u001b[0m\u001b[1;33m:\u001b[0m\u001b[1;33m\u001b[0m\u001b[1;33m\u001b[0m\u001b[0m\n",
      "\u001b[1;31mKeyboardInterrupt\u001b[0m: "
     ]
    }
   ],
   "source": [
    "trainer.train(steps=1000)"
   ]
  },
  {
   "cell_type": "code",
   "execution_count": null,
   "metadata": {},
   "outputs": [],
   "source": []
  },
  {
   "cell_type": "code",
   "execution_count": null,
   "metadata": {},
   "outputs": [],
   "source": []
  }
 ],
 "metadata": {
  "kernelspec": {
   "display_name": "Python 3",
   "language": "python",
   "name": "python3"
  },
  "language_info": {
   "codemirror_mode": {
    "name": "ipython",
    "version": 3
   },
   "file_extension": ".py",
   "mimetype": "text/x-python",
   "name": "python",
   "nbconvert_exporter": "python",
   "pygments_lexer": "ipython3",
   "version": "3.7.5"
  }
 },
 "nbformat": 4,
 "nbformat_minor": 4
}
