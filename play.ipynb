{
 "cells": [
  {
   "cell_type": "code",
   "execution_count": 1,
   "metadata": {},
   "outputs": [],
   "source": [
    "from WirelessSystem.system import *"
   ]
  },
  {
   "cell_type": "code",
   "execution_count": 2,
   "metadata": {},
   "outputs": [],
   "source": [
    "%load_ext autoreload\n",
    "%autoreload 2"
   ]
  },
  {
   "cell_type": "code",
   "execution_count": 3,
   "metadata": {},
   "outputs": [
    {
     "name": "stderr",
     "output_type": "stream",
     "text": [
      "Using TensorFlow backend.\n"
     ]
    }
   ],
   "source": [
    "import keras"
   ]
  },
  {
   "cell_type": "code",
   "execution_count": 4,
   "metadata": {},
   "outputs": [
    {
     "name": "stdout",
     "output_type": "stream",
     "text": [
      "WARNING:tensorflow:From C:\\Users\\samur\\Anaconda3\\envs\\tf_gpu\\lib\\site-packages\\keras\\backend\\tensorflow_backend.py:174: The name tf.get_default_session is deprecated. Please use tf.compat.v1.get_default_session instead.\n",
      "\n",
      "WARNING:tensorflow:From C:\\Users\\samur\\Anaconda3\\envs\\tf_gpu\\lib\\site-packages\\keras\\backend\\tensorflow_backend.py:181: The name tf.ConfigProto is deprecated. Please use tf.compat.v1.ConfigProto instead.\n",
      "\n",
      "WARNING:tensorflow:From C:\\Users\\samur\\Anaconda3\\envs\\tf_gpu\\lib\\site-packages\\keras\\backend\\tensorflow_backend.py:186: The name tf.Session is deprecated. Please use tf.compat.v1.Session instead.\n",
      "\n",
      "WARNING:tensorflow:From C:\\Users\\samur\\Anaconda3\\envs\\tf_gpu\\lib\\site-packages\\keras\\backend\\tensorflow_backend.py:190: The name tf.global_variables is deprecated. Please use tf.compat.v1.global_variables instead.\n",
      "\n"
     ]
    }
   ],
   "source": [
    "import os\n",
    "import numpy as np\n",
    "from SigGAN.train import Trainer"
   ]
  },
  {
   "cell_type": "code",
   "execution_count": 5,
   "metadata": {},
   "outputs": [],
   "source": [
    "import tensorflow as tf"
   ]
  },
  {
   "cell_type": "code",
   "execution_count": 6,
   "metadata": {},
   "outputs": [],
   "source": [
    "def norm(sig_u):\n",
    "    pwr = np.sqrt(np.mean(np.sum(sig_u**2,axis = -1),axis = -1))\n",
    "    sig_u = sig_u/pwr[:,None,None]\n",
    "    print(sig_u.shape)\n",
    "    return sig_u"
   ]
  },
  {
   "cell_type": "code",
   "execution_count": 7,
   "metadata": {},
   "outputs": [],
   "source": [
    "def shuffle(vec1,vec2,seed = 0):\n",
    "    np.random.seed(0)\n",
    "    shfl_indx = np.arange(vec1.shape[0])\n",
    "    np.random.shuffle(shfl_indx)\n",
    "    shfl_indx = shfl_indx.astype('int')\n",
    "    vec1 = vec1[shfl_indx]\n",
    "    vec2 = np.copy(vec2[shfl_indx])\n",
    "    return vec1,vec2"
   ]
  },
  {
   "cell_type": "code",
   "execution_count": 8,
   "metadata": {},
   "outputs": [],
   "source": [
    "def split(vec,n_train,n_valid,n_test):\n",
    "    vec_train = vec[0:n_train]\n",
    "    vec_valid = vec[n_train:n_train+n_valid]\n",
    "    vec_test = vec[n_train+n_valid:]\n",
    "    return vec_train,vec_valid,vec_test"
   ]
  },
  {
   "cell_type": "code",
   "execution_count": 9,
   "metadata": {},
   "outputs": [],
   "source": [
    "n_symbols = 256 // 2\n",
    "n_authorized = 5\n",
    "n_unauthorized = 5"
   ]
  },
  {
   "cell_type": "code",
   "execution_count": 10,
   "metadata": {},
   "outputs": [],
   "source": [
    "rf_system = RFSystem(n_authorized = n_authorized, n_unauthorized = n_unauthorized)"
   ]
  },
  {
   "cell_type": "code",
   "execution_count": 11,
   "metadata": {},
   "outputs": [],
   "source": [
    "sig_auth_, txid_auth = rf_system.get_n_received_symbol_blocks(1000, n_symbols, authorized = 0)\n",
    "sig_unauth_, txid_unauth = rf_system.get_n_received_symbol_blocks(1000, n_symbols, authorized = 1)\n",
    "sig_impersonate_, _ = rf_system.get_n_received_symbol_blocks(10, n_symbols, authorized = 2)"
   ]
  },
  {
   "cell_type": "code",
   "execution_count": 12,
   "metadata": {},
   "outputs": [],
   "source": [
    "sig_auth=sig_auth_\n",
    "sig_unauth=sig_unauth_"
   ]
  },
  {
   "cell_type": "code",
   "execution_count": 13,
   "metadata": {},
   "outputs": [],
   "source": [
    "sig_impersonate_ad_, _ = rf_system.get_n_received_symbol_blocks(1000, n_symbols, authorized = 2)\n",
    "sig_impersonate_ad=sig_impersonate_ad_"
   ]
  },
  {
   "cell_type": "code",
   "execution_count": 14,
   "metadata": {},
   "outputs": [],
   "source": [
    "sig_impersonate=sig_impersonate_.reshape((-1,2))"
   ]
  },
  {
   "cell_type": "code",
   "execution_count": 15,
   "metadata": {},
   "outputs": [
    {
     "data": {
      "text/plain": [
       "(2560, 2)"
      ]
     },
     "execution_count": 15,
     "metadata": {},
     "output_type": "execute_result"
    }
   ],
   "source": [
    "sig_impersonate.shape"
   ]
  },
  {
   "cell_type": "code",
   "execution_count": 16,
   "metadata": {},
   "outputs": [
    {
     "data": {
      "text/plain": [
       "(1000, 256, 2)"
      ]
     },
     "execution_count": 16,
     "metadata": {},
     "output_type": "execute_result"
    }
   ],
   "source": [
    "np.shape(sig_auth)"
   ]
  },
  {
   "cell_type": "code",
   "execution_count": 66,
   "metadata": {},
   "outputs": [],
   "source": [
    "# hyper parameters\n",
    "B = 64 # batch size\n",
    "T = 256 # Max length of sentence\n",
    "g_H = 100 # Generator LSTM hidden size\n",
    "g_lr = 1e-3\n",
    "d_dropout = 0.5 # dropout ratio\n",
    "d_lr = 1e-3\n",
    "\n",
    "n_sample=2 # Number of Monte Calro Search\n",
    "generate_samples = 2000 # Number of generated sentences\n",
    "\n",
    "# Pretraining parameters\n",
    "g_pre_lr = 1e-3\n",
    "d_pre_lr = 1e-3\n",
    "g_pre_epochs= 60\n",
    "d_pre_epochs = 1"
   ]
  },
  {
   "cell_type": "code",
   "execution_count": 109,
   "metadata": {},
   "outputs": [],
   "source": [
    "trainer = Trainer(B, T, n_authorized, g_H, d_dropout, g_lr=g_lr, d_lr=d_lr, n_sample=n_sample, generate_samples=generate_samples)"
   ]
  },
  {
   "cell_type": "code",
   "execution_count": 110,
   "metadata": {},
   "outputs": [],
   "source": [
    "sig_rd = np.concatenate([sig_auth,sig_unauth])\n",
    "txid_rd = np.concatenate([txid_auth,np.ones_like(txid_unauth)*n_authorized])"
   ]
  },
  {
   "cell_type": "code",
   "execution_count": 111,
   "metadata": {},
   "outputs": [],
   "source": [
    "sig_rd, txid_rd = shuffle(sig_rd, txid_rd)"
   ]
  },
  {
   "cell_type": "code",
   "execution_count": 112,
   "metadata": {},
   "outputs": [],
   "source": [
    "txid_disc = txid_rd == n_authorized\n",
    "txid_disc = np.invert(txid_disc)"
   ]
  },
  {
   "cell_type": "code",
   "execution_count": 113,
   "metadata": {},
   "outputs": [
    {
     "name": "stdout",
     "output_type": "stream",
     "text": [
      "[0 1 2 3 4 5]\n"
     ]
    }
   ],
   "source": [
    "print(np.unique(txid_rd))"
   ]
  },
  {
   "cell_type": "code",
   "execution_count": 114,
   "metadata": {},
   "outputs": [],
   "source": [
    "test_frac = 0.1\n",
    "valid_frac  = 0.2\n",
    "\n",
    "n_samples  = sig_rd.shape[0]\n",
    "\n",
    "n_test = int(test_frac*n_samples)\n",
    "n_valid = int(valid_frac*n_samples)\n",
    "n_train = n_samples - n_test - n_valid"
   ]
  },
  {
   "cell_type": "code",
   "execution_count": 115,
   "metadata": {},
   "outputs": [],
   "source": [
    "sig_rd_train,sig_rd_valid,sig_rd_test=split(sig_rd,n_train,n_valid,n_test)"
   ]
  },
  {
   "cell_type": "code",
   "execution_count": 116,
   "metadata": {},
   "outputs": [],
   "source": [
    "out_train,out_valid,out_test=split(txid_disc,n_train,n_valid,n_test)"
   ]
  },
  {
   "cell_type": "code",
   "execution_count": 117,
   "metadata": {},
   "outputs": [
    {
     "name": "stdout",
     "output_type": "stream",
     "text": [
      "__________________________________________________________________________________________________\n",
      "Layer (type)                    Output Shape         Param #     Connected to                     \n",
      "==================================================================================================\n",
      "input_3 (InputLayer)            (None, 256, 2)       0                                            \n",
      "__________________________________________________________________________________________________\n",
      "reshape_3 (Reshape)             (None, 256, 2, 1)    0           input_3[0][0]                    \n",
      "__________________________________________________________________________________________________\n",
      "1_conv1 (Conv2D)                (None, 256, 2, 16)   32          reshape_3[0][0]                  \n",
      "__________________________________________________________________________________________________\n",
      "1_conv2 (Conv2D)                (None, 256, 2, 16)   1552        1_conv1[0][0]                    \n",
      "__________________________________________________________________________________________________\n",
      "1_bn (BatchNormalization)       (None, 256, 2, 16)   64          1_conv2[0][0]                    \n",
      "__________________________________________________________________________________________________\n",
      "1_act1 (Activation)             (None, 256, 2, 16)   0           1_bn[0][0]                       \n",
      "__________________________________________________________________________________________________\n",
      "1_conv3 (Conv2D)                (None, 256, 2, 16)   1552        1_act1[0][0]                     \n",
      "__________________________________________________________________________________________________\n",
      "1_bn2 (BatchNormalization)      (None, 256, 2, 16)   64          1_conv3[0][0]                    \n",
      "__________________________________________________________________________________________________\n",
      "1_add (Add)                     (None, 256, 2, 16)   0           1_bn2[0][0]                      \n",
      "                                                                 1_conv1[0][0]                    \n",
      "__________________________________________________________________________________________________\n",
      "1_act2 (Activation)             (None, 256, 2, 16)   0           1_add[0][0]                      \n",
      "__________________________________________________________________________________________________\n",
      "3_0_conv1 (Conv2D)              (None, 256, 2, 32)   544         1_act2[0][0]                     \n",
      "__________________________________________________________________________________________________\n",
      "3_0_conv2 (Conv2D)              (None, 256, 2, 32)   6176        3_0_conv1[0][0]                  \n",
      "__________________________________________________________________________________________________\n",
      "3_0_bn (BatchNormalization)     (None, 256, 2, 32)   128         3_0_conv2[0][0]                  \n",
      "__________________________________________________________________________________________________\n",
      "3_0_act1 (Activation)           (None, 256, 2, 32)   0           3_0_bn[0][0]                     \n",
      "__________________________________________________________________________________________________\n",
      "3_0_conv3 (Conv2D)              (None, 256, 2, 32)   6176        3_0_act1[0][0]                   \n",
      "__________________________________________________________________________________________________\n",
      "3_0_bn2 (BatchNormalization)    (None, 256, 2, 32)   128         3_0_conv3[0][0]                  \n",
      "__________________________________________________________________________________________________\n",
      "3_0_add (Add)                   (None, 256, 2, 32)   0           3_0_bn2[0][0]                    \n",
      "                                                                 3_0_conv1[0][0]                  \n",
      "__________________________________________________________________________________________________\n",
      "3_0_act2 (Activation)           (None, 256, 2, 32)   0           3_0_add[0][0]                    \n",
      "__________________________________________________________________________________________________\n",
      "max_pooling2d_5 (MaxPooling2D)  (None, 128, 2, 32)   0           3_0_act2[0][0]                   \n",
      "__________________________________________________________________________________________________\n",
      "5_0_conv1 (Conv2D)              (None, 128, 2, 64)   2112        max_pooling2d_5[0][0]            \n",
      "__________________________________________________________________________________________________\n",
      "5_0_conv2 (Conv2D)              (None, 128, 2, 64)   24640       5_0_conv1[0][0]                  \n",
      "__________________________________________________________________________________________________\n",
      "5_0_bn (BatchNormalization)     (None, 128, 2, 64)   256         5_0_conv2[0][0]                  \n",
      "__________________________________________________________________________________________________\n",
      "5_0_act1 (Activation)           (None, 128, 2, 64)   0           5_0_bn[0][0]                     \n",
      "__________________________________________________________________________________________________\n",
      "5_0_conv3 (Conv2D)              (None, 128, 2, 64)   24640       5_0_act1[0][0]                   \n",
      "__________________________________________________________________________________________________\n",
      "5_0_bn2 (BatchNormalization)    (None, 128, 2, 64)   256         5_0_conv3[0][0]                  \n",
      "__________________________________________________________________________________________________\n",
      "5_0_add (Add)                   (None, 128, 2, 64)   0           5_0_bn2[0][0]                    \n",
      "                                                                 5_0_conv1[0][0]                  \n",
      "__________________________________________________________________________________________________\n",
      "5_0_act2 (Activation)           (None, 128, 2, 64)   0           5_0_add[0][0]                    \n",
      "__________________________________________________________________________________________________\n",
      "max_pooling2d_6 (MaxPooling2D)  (None, 64, 1, 64)    0           5_0_act2[0][0]                   \n",
      "__________________________________________________________________________________________________\n",
      "conv2d_3 (Conv2D)               (None, 64, 1, 16)    1040        max_pooling2d_6[0][0]            \n",
      "__________________________________________________________________________________________________\n",
      "flatten_3 (Flatten)             (None, 1024)         0           conv2d_3[0][0]                   \n",
      "__________________________________________________________________________________________________\n",
      "dense_3 (Dense)                 (None, 80)           82000       flatten_3[0][0]                  \n",
      "__________________________________________________________________________________________________\n",
      "dropout_3 (Dropout)             (None, 80)           0           dense_3[0][0]                    \n",
      "__________________________________________________________________________________________________\n",
      "sftmx_0 (Dense)                 (None, 1)            81          dropout_3[0][0]                  \n",
      "==================================================================================================\n",
      "Total params: 151,441\n",
      "Trainable params: 150,993\n",
      "Non-trainable params: 448\n",
      "__________________________________________________________________________________________________\n",
      "Discriminator pre-training\n",
      "Train on 1400 samples, validate on 400 samples\n",
      "Epoch 1/30\n",
      "1400/1400 [==============================] - 3s 2ms/step - loss: 1.2151 - val_loss: 0.9354\n",
      "Epoch 2/30\n",
      "1400/1400 [==============================] - 0s 267us/step - loss: 0.8987 - val_loss: 0.9139\n",
      "Epoch 3/30\n",
      "1400/1400 [==============================] - 0s 239us/step - loss: 0.8799 - val_loss: 0.9342\n",
      "Epoch 4/30\n",
      "1400/1400 [==============================] - 0s 237us/step - loss: 0.8539 - val_loss: 0.9266\n",
      "Epoch 5/30\n",
      "1400/1400 [==============================] - 0s 244us/step - loss: 0.8258 - val_loss: 0.9243\n",
      "Epoch 6/30\n",
      "1400/1400 [==============================] - 0s 238us/step - loss: 0.7855 - val_loss: 0.9379\n",
      "Epoch 7/30\n",
      "1400/1400 [==============================] - 0s 240us/step - loss: 0.7238 - val_loss: 0.9601\n",
      "Epoch 8/30\n",
      "1400/1400 [==============================] - 0s 248us/step - loss: 0.6496 - val_loss: 1.0339\n",
      "Epoch 9/30\n",
      "1400/1400 [==============================] - 0s 240us/step - loss: 0.5873 - val_loss: 1.0783\n",
      "Epoch 10/30\n",
      "1400/1400 [==============================] - 0s 235us/step - loss: 0.5203 - val_loss: 1.0488\n",
      "Epoch 11/30\n",
      "1400/1400 [==============================] - 0s 241us/step - loss: 0.4670 - val_loss: 1.1998\n",
      "Epoch 12/30\n",
      "1400/1400 [==============================] - 0s 237us/step - loss: 0.4027 - val_loss: 1.2245\n",
      "Epoch 13/30\n",
      "1400/1400 [==============================] - 0s 234us/step - loss: 0.3661 - val_loss: 1.5181\n",
      "Epoch 14/30\n",
      "1400/1400 [==============================] - 0s 255us/step - loss: 0.3331 - val_loss: 1.6472\n",
      "Epoch 15/30\n",
      "1400/1400 [==============================] - 0s 235us/step - loss: 0.3204 - val_loss: 1.5206\n",
      "Epoch 16/30\n",
      "1400/1400 [==============================] - 0s 234us/step - loss: 0.3005 - val_loss: 1.6035\n",
      "Epoch 17/30\n",
      "1400/1400 [==============================] - 0s 238us/step - loss: 0.2693 - val_loss: 1.6829\n",
      "Epoch 18/30\n",
      "1400/1400 [==============================] - 0s 234us/step - loss: 0.2789 - val_loss: 1.8634\n",
      "Epoch 19/30\n",
      "1400/1400 [==============================] - 0s 239us/step - loss: 0.2631 - val_loss: 1.6936\n",
      "Epoch 20/30\n",
      "1400/1400 [==============================] - 0s 237us/step - loss: 0.2500 - val_loss: 1.8817\n",
      "Epoch 21/30\n",
      "1400/1400 [==============================] - 0s 242us/step - loss: 0.2543 - val_loss: 1.8750\n",
      "Epoch 22/30\n",
      "1400/1400 [==============================] - 0s 235us/step - loss: 0.2477 - val_loss: 1.9677\n",
      "Epoch 23/30\n",
      "1400/1400 [==============================] - 0s 239us/step - loss: 0.2398 - val_loss: 2.0622\n",
      "Epoch 24/30\n",
      "1400/1400 [==============================] - 0s 239us/step - loss: 0.2367 - val_loss: 1.9982\n",
      "Epoch 25/30\n",
      "1400/1400 [==============================] - 0s 235us/step - loss: 0.2344 - val_loss: 2.1319\n",
      "Epoch 26/30\n",
      "1400/1400 [==============================] - 0s 232us/step - loss: 0.2240 - val_loss: 2.1241\n",
      "Epoch 27/30\n",
      "1400/1400 [==============================] - 0s 236us/step - loss: 0.2197 - val_loss: 1.8923\n",
      "Epoch 28/30\n",
      "1400/1400 [==============================] - 0s 237us/step - loss: 0.2037 - val_loss: 2.2749\n",
      "Epoch 29/30\n",
      "1400/1400 [==============================] - 0s 236us/step - loss: 0.2050 - val_loss: 2.2894\n",
      "Epoch 30/30\n",
      "1400/1400 [==============================] - 0s 235us/step - loss: 0.2048 - val_loss: 2.0943\n"
     ]
    }
   ],
   "source": [
    "trainer.pre_train_discriminator(d_epochs=30, d_pre_sig_train=sig_rd_train, d_pre_out_train=out_train, d_pre_sig_valid=sig_rd_valid, d_pre_out_valid=out_valid, lr=1e-3)"
   ]
  },
  {
   "cell_type": "code",
   "execution_count": 118,
   "metadata": {},
   "outputs": [
    {
     "name": "stdout",
     "output_type": "stream",
     "text": [
      "200/200 [==============================] - 0s 93us/step\n",
      "0.9453220701217652\n"
     ]
    }
   ],
   "source": [
    "print(trainer.test_discriminator(sig_rd_test, out_test))"
   ]
  },
  {
   "cell_type": "code",
   "execution_count": 119,
   "metadata": {},
   "outputs": [
    {
     "name": "stdout",
     "output_type": "stream",
     "text": [
      "1000/1000 [==============================] - 0s 87us/step\n",
      "0.8012445406913757\n"
     ]
    }
   ],
   "source": [
    "print(trainer.test_discriminator(sig_impersonate_ad, np.zeros((sig_impersonate_ad.shape[0],))))"
   ]
  },
  {
   "cell_type": "code",
   "execution_count": 120,
   "metadata": {},
   "outputs": [
    {
     "data": {
      "text/plain": [
       "0.4617978"
      ]
     },
     "execution_count": 120,
     "metadata": {},
     "output_type": "execute_result"
    }
   ],
   "source": [
    "np.mean(trainer.predict_discriminator(sig_auth))"
   ]
  },
  {
   "cell_type": "code",
   "execution_count": 121,
   "metadata": {},
   "outputs": [
    {
     "data": {
      "text/plain": [
       "0.42659783"
      ]
     },
     "execution_count": 121,
     "metadata": {},
     "output_type": "execute_result"
    }
   ],
   "source": [
    "np.mean(trainer.predict_discriminator(sig_unauth))"
   ]
  },
  {
   "cell_type": "code",
   "execution_count": 122,
   "metadata": {},
   "outputs": [
    {
     "data": {
      "text/plain": [
       "0.44439816"
      ]
     },
     "execution_count": 122,
     "metadata": {},
     "output_type": "execute_result"
    }
   ],
   "source": [
    "np.mean(trainer.predict_discriminator(sig_impersonate_ad))"
   ]
  },
  {
   "cell_type": "code",
   "execution_count": 123,
   "metadata": {},
   "outputs": [
    {
     "data": {
      "text/plain": [
       "(2560, 2)"
      ]
     },
     "execution_count": 123,
     "metadata": {},
     "output_type": "execute_result"
    }
   ],
   "source": [
    "sig_impersonate.shape"
   ]
  },
  {
   "cell_type": "code",
   "execution_count": 124,
   "metadata": {},
   "outputs": [],
   "source": [
    "n_samples_im  = sig_impersonate.shape[0]\n",
    "\n",
    "n_test_im = int(test_frac*n_samples_im)\n",
    "n_valid_im = int(valid_frac*n_samples_im)\n",
    "n_train_im = n_samples_im - n_test_im - n_valid_im"
   ]
  },
  {
   "cell_type": "code",
   "execution_count": 125,
   "metadata": {},
   "outputs": [],
   "source": [
    "sig_im_train,sig_im_valid,sig_im_test=split(sig_impersonate,n_train_im,n_valid_im,n_test_im)"
   ]
  },
  {
   "cell_type": "code",
   "execution_count": 126,
   "metadata": {},
   "outputs": [],
   "source": [
    "sig_im_train_re = sig_im_train.reshape((-1, 1, 2))\n",
    "sig_im_train_re_t = sig_im_train.reshape((-1, 2))"
   ]
  },
  {
   "cell_type": "code",
   "execution_count": 127,
   "metadata": {},
   "outputs": [],
   "source": [
    "sig_im_valid_re = sig_im_valid.reshape((-1, 1, 2))\n",
    "sig_im_valid_re_t = sig_im_valid.reshape((-1, 2))"
   ]
  },
  {
   "cell_type": "code",
   "execution_count": 128,
   "metadata": {},
   "outputs": [],
   "source": [
    "sig_im_test_re = sig_im_test.reshape((-1, 1,  2))"
   ]
  },
  {
   "cell_type": "code",
   "execution_count": 129,
   "metadata": {},
   "outputs": [],
   "source": [
    "# def GeneratorPretraining():\n",
    "#     def sampling(args):\n",
    "#         mean_mu, log_var = args\n",
    "#         epsilon = K.random_normal(shape=K.shape(mean_mu), mean=0., stddev=1.) \n",
    "#         return mean_mu + K.exp(log_var/2)*epsilon\n",
    "#     def sampling_alt(args):\n",
    "#         mean_mu, log_var = args\n",
    "#         normal_dist = tf.distributions.Normal(mean_mu, tf.exp(log_var/2))\n",
    "#         return normal_dist.sample()\n",
    "    \n",
    "#     input=Input(shape=(None,2), dtype='float32', name='Input')\n",
    "#     out = LSTM(100, activation='relu', name='LSTM')(input)\n",
    "# #     denseMean = Dense(2, name='DenseMean')(out)\n",
    "# #     denseVariance = Dense(2, name='DenseVariance')(out)\n",
    "    \n",
    "#     #sampled_output = Lambda(sampling, name='sampling_layer')([denseMean, denseVariance])\n",
    "    \n",
    "#     #sampled_output = Lambda(sampling_alt, name='sampling_layer')([denseMean, denseVariance])\n",
    "    \n",
    "#     sampled_output = Dense(2, name='DummyDense')(out)\n",
    "    \n",
    "#     generator_pretraining = Model(input, sampled_output)\n",
    "#     return generator_pretraining"
   ]
  },
  {
   "cell_type": "code",
   "execution_count": 167,
   "metadata": {},
   "outputs": [
    {
     "name": "stdout",
     "output_type": "stream",
     "text": [
      "Generator pre-training\n",
      "__________________________________________________________________________________________________\n",
      "Layer (type)                    Output Shape         Param #     Connected to                     \n",
      "==================================================================================================\n",
      "Input (InputLayer)              (None, None, 2)      0                                            \n",
      "__________________________________________________________________________________________________\n",
      "LSTM (LSTM)                     (None, 100)          41200       Input[0][0]                      \n",
      "__________________________________________________________________________________________________\n",
      "DenseMean (Dense)               (None, 2)            202         LSTM[0][0]                       \n",
      "__________________________________________________________________________________________________\n",
      "DenseVariance (Dense)           (None, 2)            202         LSTM[0][0]                       \n",
      "__________________________________________________________________________________________________\n",
      "sampling_layer (Lambda)         (None, 2)            0           DenseMean[0][0]                  \n",
      "                                                                 DenseVariance[0][0]              \n",
      "==================================================================================================\n",
      "Total params: 41,604\n",
      "Trainable params: 41,604\n",
      "Non-trainable params: 0\n",
      "__________________________________________________________________________________________________\n",
      "Train on 1792 samples, validate on 512 samples\n",
      "Epoch 1/35\n",
      "1792/1792 [==============================] - 3s 1ms/step - loss: 2.9644e-05 - val_loss: 1.7500e-06\n",
      "Epoch 2/35\n",
      "1792/1792 [==============================] - 0s 147us/step - loss: 1.2654e-06 - val_loss: 1.3024e-06\n",
      "Epoch 3/35\n",
      "1792/1792 [==============================] - 0s 155us/step - loss: 1.4082e-06 - val_loss: 1.4101e-06\n",
      "Epoch 4/35\n",
      "1792/1792 [==============================] - 0s 149us/step - loss: 1.9473e-06 - val_loss: 1.3786e-06\n",
      "Epoch 5/35\n",
      "1792/1792 [==============================] - 0s 143us/step - loss: 1.7913e-06 - val_loss: 1.8246e-06\n",
      "Epoch 6/35\n",
      "1792/1792 [==============================] - 0s 150us/step - loss: 1.8167e-06 - val_loss: 1.2020e-06\n",
      "Epoch 7/35\n",
      "1792/1792 [==============================] - 0s 149us/step - loss: 2.4785e-06 - val_loss: 4.4423e-06\n",
      "Epoch 8/35\n",
      "1792/1792 [==============================] - 0s 152us/step - loss: 3.2133e-06 - val_loss: 1.8694e-06\n",
      "Epoch 9/35\n",
      "1792/1792 [==============================] - 0s 156us/step - loss: 2.9173e-06 - val_loss: 3.9137e-06\n",
      "Epoch 10/35\n",
      "1792/1792 [==============================] - 0s 148us/step - loss: 3.4821e-06 - val_loss: 2.3992e-06\n",
      "Epoch 11/35\n",
      "1792/1792 [==============================] - 0s 149us/step - loss: 1.9445e-06 - val_loss: 1.8118e-06\n",
      "Epoch 12/35\n",
      "1792/1792 [==============================] - 0s 150us/step - loss: 2.4733e-06 - val_loss: 5.3236e-06\n",
      "Epoch 13/35\n",
      "1792/1792 [==============================] - 0s 150us/step - loss: 5.9640e-06 - val_loss: 3.9529e-06\n",
      "Epoch 14/35\n",
      "1792/1792 [==============================] - 0s 153us/step - loss: 3.8890e-06 - val_loss: 6.8644e-06\n",
      "Epoch 15/35\n",
      "1792/1792 [==============================] - 0s 149us/step - loss: 2.1084e-06 - val_loss: 3.3775e-06\n",
      "Epoch 16/35\n",
      "1792/1792 [==============================] - 0s 150us/step - loss: 1.7568e-06 - val_loss: 1.1253e-06\n",
      "Epoch 17/35\n",
      "1792/1792 [==============================] - 0s 155us/step - loss: 3.2158e-06 - val_loss: 2.2340e-06\n",
      "Epoch 18/35\n",
      "1792/1792 [==============================] - 0s 154us/step - loss: 3.0262e-06 - val_loss: 1.6487e-06\n",
      "Epoch 19/35\n",
      "1792/1792 [==============================] - 0s 151us/step - loss: 3.4213e-06 - val_loss: 1.8678e-06\n",
      "Epoch 20/35\n",
      "1792/1792 [==============================] - 0s 160us/step - loss: 1.6414e-06 - val_loss: 2.5922e-06\n",
      "Epoch 21/35\n",
      "1792/1792 [==============================] - 0s 142us/step - loss: 3.2554e-06 - val_loss: 3.4306e-06\n",
      "Epoch 22/35\n",
      "1792/1792 [==============================] - 0s 151us/step - loss: 2.2600e-06 - val_loss: 1.8554e-06\n",
      "Epoch 23/35\n",
      "1792/1792 [==============================] - 0s 149us/step - loss: 2.6059e-06 - val_loss: 4.4750e-06\n",
      "Epoch 24/35\n",
      "1792/1792 [==============================] - 0s 148us/step - loss: 3.8151e-06 - val_loss: 2.6252e-06\n",
      "Epoch 25/35\n",
      "1792/1792 [==============================] - 0s 151us/step - loss: 2.7969e-06 - val_loss: 1.7239e-06\n",
      "Epoch 26/35\n",
      "1792/1792 [==============================] - 0s 147us/step - loss: 1.7510e-06 - val_loss: 2.0251e-06\n",
      "Epoch 27/35\n",
      "1792/1792 [==============================] - 0s 142us/step - loss: 3.4429e-06 - val_loss: 2.5310e-06\n",
      "Epoch 28/35\n",
      "1792/1792 [==============================] - 0s 144us/step - loss: 3.4142e-06 - val_loss: 6.4297e-06\n",
      "Epoch 29/35\n",
      "1792/1792 [==============================] - 0s 152us/step - loss: 3.8822e-06 - val_loss: 1.6767e-05\n",
      "Epoch 30/35\n",
      "1792/1792 [==============================] - 0s 150us/step - loss: 3.8816e-06 - val_loss: 1.3083e-06\n",
      "Epoch 31/35\n",
      "1792/1792 [==============================] - 0s 149us/step - loss: 1.8302e-06 - val_loss: 1.5890e-06\n",
      "Epoch 32/35\n",
      "1792/1792 [==============================] - 0s 152us/step - loss: 1.5472e-06 - val_loss: 1.3653e-06\n",
      "Epoch 33/35\n",
      "1792/1792 [==============================] - 0s 174us/step - loss: 2.5662e-06 - val_loss: 4.7158e-06\n",
      "Epoch 34/35\n",
      "1792/1792 [==============================] - 0s 142us/step - loss: 5.5391e-06 - val_loss: 3.4732e-06\n",
      "Epoch 35/35\n",
      "1792/1792 [==============================] - 0s 146us/step - loss: 2.8581e-06 - val_loss: 2.2317e-06\n"
     ]
    }
   ],
   "source": [
    "trainer.pre_train_generator(g_epochs=35, g_pre_data_train=[sig_im_train_re, sig_im_train_re_t], g_pre_data_valid=[sig_im_valid_re, sig_im_valid_re_t], lr=1e-3)"
   ]
  },
  {
   "cell_type": "code",
   "execution_count": 131,
   "metadata": {},
   "outputs": [],
   "source": [
    "# dummy_generator = GeneratorPretraining()"
   ]
  },
  {
   "cell_type": "code",
   "execution_count": 132,
   "metadata": {},
   "outputs": [],
   "source": [
    "# g_adam = keras.optimizers.Adam(0.0001)\n",
    "# dummy_generator.compile(g_adam, loss='mse')\n",
    "# print('Generator pre-training')\n",
    "# dummy_generator.summary()"
   ]
  },
  {
   "cell_type": "code",
   "execution_count": 133,
   "metadata": {},
   "outputs": [],
   "source": [
    "# pre_train_g_filepath = 't_pre_train_g_weights'\n",
    "# pre_train_g_c = [keras.callbacks.ModelCheckpoint(pre_train_g_filepath, monitor='val_loss',  save_best_only=True, save_weights_only=True)]\n",
    "# dummy_generator.fit(\n",
    "#     sig_im_train_re,\n",
    "#     sig_im_train_re,\n",
    "#     validation_data=(sig_im_valid_re, sig_im_valid_re),\n",
    "#     callbacks=pre_train_g_c,\n",
    "#     epochs=15)"
   ]
  },
  {
   "cell_type": "code",
   "execution_count": 168,
   "metadata": {},
   "outputs": [
    {
     "data": {
      "text/plain": [
       "array([[[ 1.143966 , -1.3628985]]], dtype=float32)"
      ]
     },
     "execution_count": 168,
     "metadata": {},
     "output_type": "execute_result"
    }
   ],
   "source": [
    "sig_im_train_re[1].reshape(1,1,2)"
   ]
  },
  {
   "cell_type": "code",
   "execution_count": 169,
   "metadata": {},
   "outputs": [
    {
     "data": {
      "text/plain": [
       "array([[ 1.1439592, -1.3623166]], dtype=float32)"
      ]
     },
     "execution_count": 169,
     "metadata": {},
     "output_type": "execute_result"
    }
   ],
   "source": [
    "trainer.predict_pre_generator(sig_im_train_re[1].reshape(1,1,2))"
   ]
  },
  {
   "cell_type": "code",
   "execution_count": 170,
   "metadata": {},
   "outputs": [
    {
     "data": {
      "text/plain": [
       "array([[[-1.1536084, -1.0670861]]], dtype=float32)"
      ]
     },
     "execution_count": 170,
     "metadata": {},
     "output_type": "execute_result"
    }
   ],
   "source": [
    "sig_im_test_re[0].reshape(1,1,2)"
   ]
  },
  {
   "cell_type": "code",
   "execution_count": 171,
   "metadata": {},
   "outputs": [
    {
     "data": {
      "text/plain": [
       "array([[-1.1528805, -1.0671139]], dtype=float32)"
      ]
     },
     "execution_count": 171,
     "metadata": {},
     "output_type": "execute_result"
    }
   ],
   "source": [
    "trainer.predict_pre_generator(sig_im_test_re[0].reshape(1,1,2))"
   ]
  },
  {
   "cell_type": "code",
   "execution_count": null,
   "metadata": {},
   "outputs": [],
   "source": []
  },
  {
   "cell_type": "code",
   "execution_count": 172,
   "metadata": {},
   "outputs": [
    {
     "name": "stdout",
     "output_type": "stream",
     "text": [
      "[-1.15277487 -1.06715872]\n"
     ]
    }
   ],
   "source": [
    "print(trainer.predict_generator(sig_im_test_re[:1].reshape(1,1,2)))"
   ]
  },
  {
   "cell_type": "code",
   "execution_count": 150,
   "metadata": {},
   "outputs": [
    {
     "name": "stdout",
     "output_type": "stream",
     "text": [
      "[-1.15267862 -1.06449991]\n"
     ]
    }
   ],
   "source": [
    "print(trainer.predict_beta_generator(sig_im_test_re[:1].reshape(1,1,2)))"
   ]
  },
  {
   "cell_type": "code",
   "execution_count": 140,
   "metadata": {},
   "outputs": [
    {
     "name": "stdout",
     "output_type": "stream",
     "text": [
      "[[0.46381766]]\n"
     ]
    },
    {
     "name": "stderr",
     "output_type": "stream",
     "text": [
      "G:\\My Drive\\Research\\transmitter_impersonation_alt\\WirelessSystem\\utils.py:164: RuntimeWarning: overflow encountered in square\n",
      "  y=x*(1+ a[0]*np.abs(x)**2 + a[1]*np.abs(x)**4 )\n",
      "G:\\My Drive\\Research\\transmitter_impersonation_alt\\WirelessSystem\\utils.py:164: RuntimeWarning: overflow encountered in power\n",
      "  y=x*(1+ a[0]*np.abs(x)**2 + a[1]*np.abs(x)**4 )\n",
      "G:\\My Drive\\Research\\transmitter_impersonation_alt\\WirelessSystem\\utils.py:164: RuntimeWarning: overflow encountered in multiply\n",
      "  y=x*(1+ a[0]*np.abs(x)**2 + a[1]*np.abs(x)**4 )\n",
      "G:\\My Drive\\Research\\transmitter_impersonation_alt\\WirelessSystem\\utils.py:157: RuntimeWarning: overflow encountered in square\n",
      "  x=x/(np.mean(np.abs(x)**2))\n",
      "G:\\My Drive\\Research\\transmitter_impersonation_alt\\WirelessSystem\\utils.py:157: RuntimeWarning: invalid value encountered in true_divide\n",
      "  x=x/(np.mean(np.abs(x)**2))\n",
      "C:\\Users\\samur\\Anaconda3\\envs\\tf_gpu\\lib\\site-packages\\numpy\\core\\_asarray.py:85: ComplexWarning: Casting complex values to real discards the imaginary part\n",
      "  return array(a, dtype, copy=False, order=order)\n"
     ]
    }
   ],
   "source": [
    "print(trainer.predict_curr_discriminator(rf_system))"
   ]
  },
  {
   "cell_type": "code",
   "execution_count": 141,
   "metadata": {},
   "outputs": [],
   "source": [
    "orig, pred=trainer.get_predicted_sequence(rf_system)"
   ]
  },
  {
   "cell_type": "code",
   "execution_count": 142,
   "metadata": {
    "collapsed": true,
    "jupyter": {
     "outputs_hidden": true
    }
   },
   "outputs": [
    {
     "data": {
      "text/plain": [
       "array([[-5.19839135e-01,  5.78697555e-01],\n",
       "       [-8.34919028e-01,  5.26195972e-01],\n",
       "       [-6.86527192e-01,  5.00131734e-01],\n",
       "       [ 2.31917500e-01,  6.50257270e-01],\n",
       "       [ 5.17359420e-01,  5.24773290e-01],\n",
       "       [ 1.58878824e-01, -1.54887082e-01],\n",
       "       [-6.40204381e-01, -4.91981310e-01],\n",
       "       [-2.17818489e-01, -6.85374108e-01],\n",
       "       [ 6.19214372e-01, -4.80664587e-01],\n",
       "       [ 9.07284121e-01, -5.67696659e-01],\n",
       "       [ 4.35849234e-01, -4.76301908e-01],\n",
       "       [-1.72903103e-01, -7.91097693e-02],\n",
       "       [-5.64147902e-01,  4.98991367e-01],\n",
       "       [-4.98627837e-01,  8.85126414e-01],\n",
       "       [-4.37459485e-01,  5.17944016e-01],\n",
       "       [-6.91570095e-01, -2.27929581e-01],\n",
       "       [-6.68997865e-01, -5.60060902e-01],\n",
       "       [ 2.22191909e-01,  5.19082044e-02],\n",
       "       [ 6.27851511e-01,  5.76096457e-01],\n",
       "       [ 1.00356752e-02,  2.21400840e-01],\n",
       "       [-5.48581929e-01, -5.44385569e-01],\n",
       "       [-3.41599466e-02, -7.99080254e-01],\n",
       "       [ 6.99879904e-01, -4.63495842e-01],\n",
       "       [ 5.32364788e-02,  2.89310790e-02],\n",
       "       [-6.11325945e-01,  5.30885942e-01],\n",
       "       [-2.26587012e-01,  7.70384332e-01],\n",
       "       [ 7.52681823e-01,  5.22467469e-01],\n",
       "       [ 6.80489301e-01,  9.18516928e-02],\n",
       "       [ 3.60791622e-01, -4.70033708e-01],\n",
       "       [ 6.87647808e-01, -7.00284623e-01],\n",
       "       [ 7.59440468e-01, -4.11861569e-01],\n",
       "       [-1.65543096e-01, -4.81386226e-02],\n",
       "       [-6.40586667e-01,  4.37648276e-01],\n",
       "       [ 1.27197564e-01,  7.32774169e-01],\n",
       "       [ 6.08629462e-01,  5.02436404e-01],\n",
       "       [ 1.86933742e-01, -4.64452621e-02],\n",
       "       [-6.95597949e-01, -5.93503146e-01],\n",
       "       [-2.76213706e-01, -6.62856583e-01],\n",
       "       [ 5.08264268e-01, -4.81521857e-01],\n",
       "       [ 8.96384783e-01, -5.94442399e-01],\n",
       "       [ 5.39505037e-01, -5.89881392e-01],\n",
       "       [-3.12393746e-01,  9.19235016e-04],\n",
       "       [-5.00927057e-01,  5.17231093e-01],\n",
       "       [-6.85279626e-03,  8.00580346e-01],\n",
       "       [ 4.85418523e-01,  3.66673509e-01],\n",
       "       [ 2.11394947e-01,  1.21886183e-02],\n",
       "       [-4.47387758e-01, -4.53355445e-01],\n",
       "       [-9.86747390e-01, -7.91209078e-01],\n",
       "       [-5.25493454e-01, -4.65156113e-01],\n",
       "       [ 3.19970631e-01,  2.03416305e-01],\n",
       "       [ 5.80047720e-01,  5.93573313e-01],\n",
       "       [-1.37338886e-01, -1.45542081e-01],\n",
       "       [-5.30986905e-01, -7.26837734e-01],\n",
       "       [-8.00745516e-02, -1.00079817e-01],\n",
       "       [ 5.74507806e-01,  5.39196781e-01],\n",
       "       [ 2.47220562e-01,  3.94022673e-01],\n",
       "       [-5.81802479e-01, -5.82747914e-01],\n",
       "       [-7.40213889e-01, -9.28157880e-01],\n",
       "       [-4.61491738e-01, -4.57680180e-01],\n",
       "       [-4.53602952e-01,  1.14536175e-01],\n",
       "       [-5.46363979e-01,  5.88048852e-01],\n",
       "       [-4.47077964e-01,  1.03516574e-01],\n",
       "       [-4.30427666e-01, -5.85533642e-01],\n",
       "       [-6.94004120e-01, -6.13012572e-01],\n",
       "       [-4.97761423e-01, -3.97108565e-01],\n",
       "       [ 1.88673278e-01, -7.37407638e-01],\n",
       "       [ 6.55240497e-01, -6.39366664e-01],\n",
       "       [ 1.49797212e-01,  1.74287203e-01],\n",
       "       [-6.61929897e-01,  6.35273243e-01],\n",
       "       [-7.12310786e-01,  3.59192294e-02],\n",
       "       [-5.87360896e-01, -6.20267097e-01],\n",
       "       [ 1.69345640e-01, -1.79171437e-01],\n",
       "       [ 4.82459919e-01,  6.21399356e-01],\n",
       "       [ 7.95011379e-01,  6.11126031e-01],\n",
       "       [ 5.64304630e-01,  4.38982455e-01],\n",
       "       [-4.54557024e-02,  5.07918884e-01],\n",
       "       [-6.29338363e-01,  6.38545844e-01],\n",
       "       [-5.61110004e-01,  2.44585679e-02],\n",
       "       [-5.31340388e-01, -5.59612473e-01],\n",
       "       [-6.16649156e-01, -6.03668457e-01],\n",
       "       [-5.63823614e-01, -4.14622874e-01],\n",
       "       [ 1.28179248e-01, -5.24982657e-01],\n",
       "       [ 6.11568537e-01, -5.63089996e-01],\n",
       "       [ 1.07758020e-02, -5.38092531e-01],\n",
       "       [-6.33159029e-01, -4.38864390e-01],\n",
       "       [-1.78751639e-01, -7.42275517e-01],\n",
       "       [ 5.05024069e-01, -6.48417324e-01],\n",
       "       [ 6.21603693e-01,  1.18036231e-01],\n",
       "       [ 4.38837983e-01,  5.96207573e-01],\n",
       "       [ 4.51577383e-01,  1.79458517e-01],\n",
       "       [ 6.23432121e-01, -5.65153292e-01],\n",
       "       [ 9.73630001e-02, -7.98484714e-01],\n",
       "       [-5.67434409e-01, -4.61762448e-01],\n",
       "       [-7.90236155e-01,  8.21224767e-02],\n",
       "       [-5.51978092e-01,  4.96046225e-01],\n",
       "       [ 5.13543523e-03,  7.31125514e-01],\n",
       "       [ 5.89398474e-01,  6.00285837e-01],\n",
       "       [ 6.10991346e-01,  5.38987182e-02],\n",
       "       [ 6.58332568e-01, -4.65258863e-01],\n",
       "       [ 3.89600075e-01, -7.75813721e-01],\n",
       "       [ 4.86369639e-01, -6.02380403e-01],\n",
       "       [ 6.09434945e-01,  3.27513526e-02],\n",
       "       [ 5.54683275e-01,  5.82546861e-01],\n",
       "       [ 5.09571739e-01,  6.30374928e-01],\n",
       "       [ 4.87495579e-01,  5.20912836e-01],\n",
       "       [ 7.06525146e-01,  4.67246518e-01],\n",
       "       [ 5.80464127e-01,  5.20469751e-01],\n",
       "       [ 1.05304488e-01,  6.25918282e-01],\n",
       "       [-5.39486187e-01,  5.07098756e-01],\n",
       "       [-5.82221513e-01,  1.53547605e-02],\n",
       "       [-5.21682099e-01, -5.35068934e-01],\n",
       "       [-5.77198732e-01, -7.57466805e-01],\n",
       "       [-5.79990690e-01, -3.86392222e-01],\n",
       "       [-5.24288499e-01, -1.71005410e-02],\n",
       "       [-4.92952380e-01,  4.93407770e-01],\n",
       "       [-4.66461448e-01,  8.47872390e-01],\n",
       "       [-5.77086269e-01,  6.38355252e-01],\n",
       "       [-5.75734509e-01, -1.47246059e-01],\n",
       "       [-5.51962160e-01, -6.90141783e-01],\n",
       "       [ 5.91954164e-02,  2.27967529e-02],\n",
       "       [ 5.36940209e-01,  6.39714796e-01],\n",
       "       [ 5.68683360e-01, -1.32320232e-01],\n",
       "       [ 4.02143812e-01, -6.17329615e-01],\n",
       "       [ 4.97551500e-01, -9.89748638e-02],\n",
       "       [ 5.47503949e-01,  6.76012091e-01],\n",
       "       [ 5.38778271e-01,  9.28476626e-02],\n",
       "       [ 5.30121317e-01, -6.75411117e-01],\n",
       "       [ 4.38108617e-01, -2.12484707e-01],\n",
       "       [ 4.96511282e-01,  6.61607636e-01],\n",
       "       [ 6.07857480e-01,  8.13038483e-01],\n",
       "       [ 6.61251188e-01,  4.09538871e-01],\n",
       "       [-2.27271127e-03,  3.59204774e-01],\n",
       "       [-6.27500840e-01,  6.16502013e-01],\n",
       "       [-5.66358984e-01,  7.41619512e-01],\n",
       "       [-4.24728458e-01,  4.56641059e-01],\n",
       "       [-6.70798703e-01, -8.61971049e-03],\n",
       "       [-5.09557016e-01, -5.51317512e-01],\n",
       "       [-7.25407529e-02, -7.83012896e-01],\n",
       "       [ 5.31252556e-01, -4.81148828e-01],\n",
       "       [ 8.53088926e-01,  2.46021698e-02],\n",
       "       [ 4.99579673e-01,  5.23680930e-01],\n",
       "       [-1.71425032e-02,  6.06970865e-01],\n",
       "       [-4.96256326e-01,  6.01301666e-01],\n",
       "       [-6.18597800e-01,  3.96789269e-01],\n",
       "       [-5.33698584e-01,  5.22623980e-01],\n",
       "       [-3.68956813e-01,  8.38541749e-01],\n",
       "       [-5.47961768e-01,  5.61948170e-01],\n",
       "       [-7.03721138e-01, -2.26345006e-01],\n",
       "       [-5.27346299e-01, -6.08018544e-01],\n",
       "       [ 2.94670551e-02,  1.37599004e-01],\n",
       "       [ 5.54708525e-01,  6.26183043e-01],\n",
       "       [ 6.05029306e-01,  9.93672863e-02],\n",
       "       [ 5.56323222e-01, -6.03777458e-01],\n",
       "       [ 6.20136307e-01, -2.71800409e-01],\n",
       "       [ 5.45522698e-01,  5.92936247e-01],\n",
       "       [ 3.88231863e-02,  8.75905940e-01],\n",
       "       [-4.58414212e-01,  4.74320111e-01],\n",
       "       [-6.94560850e-01,  2.59775746e-02],\n",
       "       [-3.94741724e-01, -4.46920946e-01],\n",
       "       [-3.28768897e-01, -7.48466658e-01],\n",
       "       [-4.61398878e-01, -5.66063040e-01],\n",
       "       [-7.29957734e-01,  2.78683080e-04],\n",
       "       [-4.85031589e-01,  5.72598078e-01],\n",
       "       [ 6.46196181e-02,  6.31113556e-01],\n",
       "       [ 6.20605031e-01,  4.51939239e-01],\n",
       "       [ 5.82257806e-01,  6.69136203e-01],\n",
       "       [ 4.56848162e-01,  5.13394225e-01],\n",
       "       [ 7.46167252e-01, -4.13164435e-02],\n",
       "       [ 6.21936670e-01, -5.58567423e-01],\n",
       "       [ 2.66869626e-02, -6.11608695e-01],\n",
       "       [-5.92601585e-01, -4.41017056e-01],\n",
       "       [-7.24475991e-01, -5.96049532e-01],\n",
       "       [-4.72444820e-01, -4.40041695e-01],\n",
       "       [-5.05761482e-01, -4.13426542e-02],\n",
       "       [-5.63463779e-01,  6.01290123e-01],\n",
       "       [-4.90458681e-01,  7.12499677e-01],\n",
       "       [-4.16722421e-01,  4.92845962e-01],\n",
       "       [-7.29863494e-01,  4.88006473e-01],\n",
       "       [-7.20530404e-01,  4.34685505e-01],\n",
       "       [ 2.63101471e-01,  6.53696571e-01],\n",
       "       [ 6.42659168e-01,  4.94696272e-01],\n",
       "       [ 2.16336103e-01, -1.59877793e-03],\n",
       "       [-7.12588018e-01, -6.48827225e-01],\n",
       "       [-1.35200106e-01, -6.90921971e-01],\n",
       "       [ 5.62160079e-01, -5.27350291e-01],\n",
       "       [ 3.15724595e-01, -4.77018788e-01],\n",
       "       [-5.26301728e-01, -5.82080937e-01],\n",
       "       [-8.92594504e-01, -1.23912402e-01],\n",
       "       [-5.58071382e-01,  5.35246529e-01],\n",
       "       [ 3.00526410e-01,  7.16737876e-01],\n",
       "       [ 5.85667111e-01,  4.67343177e-01],\n",
       "       [-5.18944247e-03, -1.00936921e-03],\n",
       "       [-5.29554940e-01, -4.69516576e-01],\n",
       "       [-3.30109947e-01, -6.70878794e-01],\n",
       "       [ 6.37411932e-01, -4.49000213e-01],\n",
       "       [ 8.74974356e-01, -6.00537441e-02],\n",
       "       [ 5.30423856e-01,  4.92012798e-01],\n",
       "       [-2.22322593e-01,  8.87356528e-01],\n",
       "       [-4.52596831e-01,  5.95738790e-01],\n",
       "       [-1.34612422e-01, -3.29476375e-01],\n",
       "       [ 4.80631662e-01, -6.13689997e-01],\n",
       "       [ 9.18542818e-01,  7.53202320e-02],\n",
       "       [ 6.16458183e-01,  5.61867494e-01],\n",
       "       [-3.18338874e-01,  1.59175085e-01],\n",
       "       [-7.14226874e-01, -5.91122534e-01],\n",
       "       [ 8.07473196e-02, -2.07198080e-01],\n",
       "       [ 5.79988198e-01,  6.04837589e-01],\n",
       "       [ 1.53852901e-01,  9.18879277e-01],\n",
       "       [-6.83655135e-01,  4.97242294e-01],\n",
       "       [-1.40104416e-01, -1.29361560e-01],\n",
       "       [ 6.16181802e-01, -4.62724000e-01],\n",
       "       [ 8.24778122e-01, -6.87798312e-01],\n",
       "       [ 4.24551559e-01, -4.25333124e-01],\n",
       "       [-1.62894923e-01, -4.77672162e-01],\n",
       "       [-3.85316841e-01, -4.97978387e-01],\n",
       "       [-6.89215909e-01, -6.73901568e-01],\n",
       "       [-5.41047969e-01, -4.58007202e-01],\n",
       "       [-8.43340993e-03, -2.20911850e-02],\n",
       "       [ 4.76108386e-01,  5.37212237e-01],\n",
       "       [ 6.65961076e-01,  8.59444830e-01],\n",
       "       [ 5.17213895e-01,  5.68772568e-01],\n",
       "       [ 1.34340015e-01, -2.03071449e-01],\n",
       "       [-6.41256347e-01, -6.07100324e-01],\n",
       "       [-7.42613409e-01,  6.10584688e-02],\n",
       "       [-4.89936930e-01,  6.47195221e-01],\n",
       "       [-5.14129106e-03,  7.72005584e-02],\n",
       "       [ 6.01671363e-01, -5.58855524e-01],\n",
       "       [ 6.20219265e-01, -6.86209530e-01],\n",
       "       [ 4.90027223e-01, -4.31433570e-01],\n",
       "       [ 9.28950344e-02, -4.24404168e-01],\n",
       "       [-4.85637936e-01, -5.38341693e-01],\n",
       "       [-9.24066580e-01, -6.72524363e-01],\n",
       "       [-6.41646181e-01, -5.48840647e-01],\n",
       "       [ 2.57842179e-01, -4.15961117e-01],\n",
       "       [ 5.78963513e-01, -5.89602363e-01],\n",
       "       [-1.73056862e-01, -6.55961253e-01],\n",
       "       [-7.59307963e-01, -5.85602967e-01],\n",
       "       [ 4.37687031e-02,  1.46759636e-01],\n",
       "       [ 6.53382582e-01,  5.64778940e-01],\n",
       "       [-9.01046009e-02,  2.83680968e-01],\n",
       "       [-7.92974471e-01, -5.20108088e-01],\n",
       "       [-9.24279420e-02, -6.73767979e-01],\n",
       "       [ 6.52386924e-01, -4.15894283e-01],\n",
       "       [ 1.07883915e-01, -5.06767197e-01],\n",
       "       [-7.31245685e-01, -5.18471147e-01],\n",
       "       [-1.86144630e-01, -6.82941968e-01],\n",
       "       [ 5.86403246e-01, -4.59695560e-01],\n",
       "       [ 6.39545156e-01, -3.36372521e-02],\n",
       "       [ 4.26936644e-01,  5.02595629e-01],\n",
       "       [ 6.28912370e-01,  8.69692672e-01],\n",
       "       [ 5.79396305e-01,  5.73590349e-01],\n",
       "       [-1.50427348e-01, -2.78622230e-01],\n",
       "       [-6.45184979e-01, -6.18783462e-01],\n",
       "       [-2.06296235e-04, -9.67540169e-02],\n",
       "       [ 5.78953658e-01,  6.09688481e-01],\n",
       "       [ 5.12152885e-01,  4.23238558e-01]])"
      ]
     },
     "execution_count": 142,
     "metadata": {},
     "output_type": "execute_result"
    }
   ],
   "source": [
    "pred"
   ]
  },
  {
   "cell_type": "code",
   "execution_count": 143,
   "metadata": {},
   "outputs": [
    {
     "data": {
      "text/plain": [
       "(256, 2)"
      ]
     },
     "execution_count": 143,
     "metadata": {},
     "output_type": "execute_result"
    }
   ],
   "source": [
    "orig.shape"
   ]
  },
  {
   "cell_type": "code",
   "execution_count": 144,
   "metadata": {},
   "outputs": [
    {
     "data": {
      "text/plain": [
       "(256, 2)"
      ]
     },
     "execution_count": 144,
     "metadata": {},
     "output_type": "execute_result"
    }
   ],
   "source": [
    "pred.shape"
   ]
  },
  {
   "cell_type": "code",
   "execution_count": 145,
   "metadata": {},
   "outputs": [
    {
     "data": {
      "text/plain": [
       "array([-0.5976945, -0.542979 ], dtype=float32)"
      ]
     },
     "execution_count": 145,
     "metadata": {},
     "output_type": "execute_result"
    }
   ],
   "source": [
    "orig[252]"
   ]
  },
  {
   "cell_type": "code",
   "execution_count": 146,
   "metadata": {},
   "outputs": [
    {
     "data": {
      "text/plain": [
       "array([-0.64518498, -0.61878346])"
      ]
     },
     "execution_count": 146,
     "metadata": {},
     "output_type": "execute_result"
    }
   ],
   "source": [
    "pred[252]"
   ]
  },
  {
   "cell_type": "code",
   "execution_count": null,
   "metadata": {},
   "outputs": [],
   "source": []
  },
  {
   "cell_type": "code",
   "execution_count": 56,
   "metadata": {},
   "outputs": [],
   "source": [
    "symb=rf_system.get_real_pretx_symbol_block(128)"
   ]
  },
  {
   "cell_type": "code",
   "execution_count": 58,
   "metadata": {},
   "outputs": [
    {
     "data": {
      "text/plain": [
       "(256, 2)"
      ]
     },
     "execution_count": 58,
     "metadata": {},
     "output_type": "execute_result"
    }
   ],
   "source": [
    "symb.shape"
   ]
  },
  {
   "cell_type": "code",
   "execution_count": 121,
   "metadata": {},
   "outputs": [],
   "source": [
    "symb_r=symb.reshape(1,256,2)"
   ]
  },
  {
   "cell_type": "code",
   "execution_count": 127,
   "metadata": {},
   "outputs": [],
   "source": [
    "st0=symb[0].reshape(1,1,2)\n",
    "st1=symb[1].reshape(1,1,2)"
   ]
  },
  {
   "cell_type": "code",
   "execution_count": 123,
   "metadata": {},
   "outputs": [
    {
     "data": {
      "text/plain": [
       "array([ 0.19163832, -0.47349837], dtype=float32)"
      ]
     },
     "execution_count": 123,
     "metadata": {},
     "output_type": "execute_result"
    }
   ],
   "source": [
    "symb[-1]"
   ]
  },
  {
   "cell_type": "code",
   "execution_count": 124,
   "metadata": {},
   "outputs": [],
   "source": [
    "symb_r[:,-1,:] = st0"
   ]
  },
  {
   "cell_type": "code",
   "execution_count": 126,
   "metadata": {},
   "outputs": [
    {
     "data": {
      "text/plain": [
       "array([[[ 0.60103184, -0.5632952 ]]], dtype=float32)"
      ]
     },
     "execution_count": 126,
     "metadata": {},
     "output_type": "execute_result"
    }
   ],
   "source": [
    "st0"
   ]
  },
  {
   "cell_type": "code",
   "execution_count": 125,
   "metadata": {},
   "outputs": [
    {
     "data": {
      "text/plain": [
       "array([[ 0.60103184, -0.5632952 ]], dtype=float32)"
      ]
     },
     "execution_count": 125,
     "metadata": {},
     "output_type": "execute_result"
    }
   ],
   "source": [
    "symb_r[:,-1,:]"
   ]
  },
  {
   "cell_type": "code",
   "execution_count": 129,
   "metadata": {},
   "outputs": [],
   "source": [
    "sy_c=np.concatenate([symb_r, st1], axis=1)"
   ]
  },
  {
   "cell_type": "code",
   "execution_count": 131,
   "metadata": {},
   "outputs": [
    {
     "data": {
      "text/plain": [
       "array([[[-0.14769381,  0.06279915]]], dtype=float32)"
      ]
     },
     "execution_count": 131,
     "metadata": {},
     "output_type": "execute_result"
    }
   ],
   "source": [
    "st1"
   ]
  },
  {
   "cell_type": "code",
   "execution_count": 130,
   "metadata": {},
   "outputs": [
    {
     "data": {
      "text/plain": [
       "array([[-0.14769381,  0.06279915]], dtype=float32)"
      ]
     },
     "execution_count": 130,
     "metadata": {},
     "output_type": "execute_result"
    }
   ],
   "source": [
    "sy_c[:,-1,:]"
   ]
  },
  {
   "cell_type": "code",
   "execution_count": null,
   "metadata": {},
   "outputs": [],
   "source": []
  },
  {
   "cell_type": "code",
   "execution_count": null,
   "metadata": {},
   "outputs": [],
   "source": []
  },
  {
   "cell_type": "code",
   "execution_count": 173,
   "metadata": {},
   "outputs": [
    {
     "name": "stdout",
     "output_type": "stream",
     "text": [
      "1\n",
      "0\n",
      "1\n",
      "[[[ 0.5167021 -0.5211162]]] [ 0.51649756 -0.52264973] [[0.5178832]]\n"
     ]
    },
    {
     "ename": "ValueError",
     "evalue": "array must not contain infs or NaNs",
     "output_type": "error",
     "traceback": [
      "\u001b[1;31m---------------------------------------------------------------------------\u001b[0m",
      "\u001b[1;31mValueError\u001b[0m                                Traceback (most recent call last)",
      "\u001b[1;32m<ipython-input-173-3bd7a9228ccd>\u001b[0m in \u001b[0;36m<module>\u001b[1;34m\u001b[0m\n\u001b[1;32m----> 1\u001b[1;33m \u001b[0mtrainer\u001b[0m\u001b[1;33m.\u001b[0m\u001b[0mtrain\u001b[0m\u001b[1;33m(\u001b[0m\u001b[0mrf_system\u001b[0m\u001b[1;33m)\u001b[0m\u001b[1;33m\u001b[0m\u001b[1;33m\u001b[0m\u001b[0m\n\u001b[0m",
      "\u001b[1;32mG:\\My Drive\\Research\\transmitter_impersonation_alt\\SigGAN\\train.py\u001b[0m in \u001b[0;36mtrain\u001b[1;34m(self, rf_system, steps, g_steps, g_weights_path, verbose)\u001b[0m\n\u001b[0;32m    124\u001b[0m                 \u001b[1;32mfor\u001b[0m \u001b[0mt\u001b[0m \u001b[1;32min\u001b[0m \u001b[0mrange\u001b[0m\u001b[1;33m(\u001b[0m\u001b[0mself\u001b[0m\u001b[1;33m.\u001b[0m\u001b[0mT\u001b[0m\u001b[1;33m)\u001b[0m\u001b[1;33m:\u001b[0m\u001b[1;33m\u001b[0m\u001b[1;33m\u001b[0m\u001b[0m\n\u001b[0;32m    125\u001b[0m                     \u001b[0mstate\u001b[0m \u001b[1;33m=\u001b[0m \u001b[0mself\u001b[0m\u001b[1;33m.\u001b[0m\u001b[0menv\u001b[0m\u001b[1;33m.\u001b[0m\u001b[0mget_state\u001b[0m\u001b[1;33m(\u001b[0m\u001b[1;33m)\u001b[0m\u001b[1;33m\u001b[0m\u001b[1;33m\u001b[0m\u001b[0m\n\u001b[1;32m--> 126\u001b[1;33m                     \u001b[0maction\u001b[0m \u001b[1;33m=\u001b[0m \u001b[0mself\u001b[0m\u001b[1;33m.\u001b[0m\u001b[0magent\u001b[0m\u001b[1;33m.\u001b[0m\u001b[0mact\u001b[0m\u001b[1;33m(\u001b[0m\u001b[0mstate\u001b[0m\u001b[1;33m)\u001b[0m\u001b[1;33m\u001b[0m\u001b[1;33m\u001b[0m\u001b[0m\n\u001b[0m\u001b[0;32m    127\u001b[0m                     \u001b[0mnext_state\u001b[0m\u001b[1;33m,\u001b[0m \u001b[0mreward\u001b[0m\u001b[1;33m,\u001b[0m \u001b[0mis_episode_end\u001b[0m\u001b[1;33m,\u001b[0m \u001b[0minfo\u001b[0m \u001b[1;33m=\u001b[0m \u001b[0mself\u001b[0m\u001b[1;33m.\u001b[0m\u001b[0menv\u001b[0m\u001b[1;33m.\u001b[0m\u001b[0mstep\u001b[0m\u001b[1;33m(\u001b[0m\u001b[0maction\u001b[0m\u001b[1;33m)\u001b[0m\u001b[1;33m\u001b[0m\u001b[1;33m\u001b[0m\u001b[0m\n\u001b[0;32m    128\u001b[0m                     \u001b[0mprint\u001b[0m\u001b[1;33m(\u001b[0m\u001b[0mstate\u001b[0m\u001b[1;33m,\u001b[0m\u001b[0maction\u001b[0m\u001b[1;33m,\u001b[0m\u001b[0mreward\u001b[0m\u001b[1;33m)\u001b[0m\u001b[1;33m\u001b[0m\u001b[1;33m\u001b[0m\u001b[0m\n",
      "\u001b[1;32mG:\\My Drive\\Research\\transmitter_impersonation_alt\\SigGAN\\rl.py\u001b[0m in \u001b[0;36mact\u001b[1;34m(self, state)\u001b[0m\n\u001b[0;32m     13\u001b[0m     \u001b[1;32mdef\u001b[0m \u001b[0mact\u001b[0m\u001b[1;33m(\u001b[0m\u001b[0mself\u001b[0m\u001b[1;33m,\u001b[0m \u001b[0mstate\u001b[0m\u001b[1;33m)\u001b[0m\u001b[1;33m:\u001b[0m\u001b[1;33m\u001b[0m\u001b[1;33m\u001b[0m\u001b[0m\n\u001b[0;32m     14\u001b[0m         \u001b[0mmean\u001b[0m\u001b[1;33m,\u001b[0m \u001b[0mlog_var\u001b[0m \u001b[1;33m=\u001b[0m \u001b[0mself\u001b[0m\u001b[1;33m.\u001b[0m\u001b[0mgenerator\u001b[0m\u001b[1;33m.\u001b[0m\u001b[0mpredict\u001b[0m\u001b[1;33m(\u001b[0m\u001b[0mstate\u001b[0m\u001b[1;33m)\u001b[0m\u001b[1;33m\u001b[0m\u001b[1;33m\u001b[0m\u001b[0m\n\u001b[1;32m---> 15\u001b[1;33m         \u001b[0maction\u001b[0m \u001b[1;33m=\u001b[0m \u001b[0mself\u001b[0m\u001b[1;33m.\u001b[0m\u001b[0mgenerator\u001b[0m\u001b[1;33m.\u001b[0m\u001b[0msampling\u001b[0m\u001b[1;33m(\u001b[0m\u001b[0mmean\u001b[0m\u001b[1;33m,\u001b[0m \u001b[0mlog_var\u001b[0m\u001b[1;33m)\u001b[0m\u001b[1;33m\u001b[0m\u001b[1;33m\u001b[0m\u001b[0m\n\u001b[0m\u001b[0;32m     16\u001b[0m         \u001b[1;32mreturn\u001b[0m \u001b[0maction\u001b[0m\u001b[1;33m\u001b[0m\u001b[1;33m\u001b[0m\u001b[0m\n\u001b[0;32m     17\u001b[0m \u001b[1;33m\u001b[0m\u001b[0m\n",
      "\u001b[1;32mG:\\My Drive\\Research\\transmitter_impersonation_alt\\SigGAN\\models.py\u001b[0m in \u001b[0;36msampling\u001b[1;34m(self, mean_mu, log_var)\u001b[0m\n\u001b[0;32m     97\u001b[0m \u001b[1;33m\u001b[0m\u001b[0m\n\u001b[0;32m     98\u001b[0m     \u001b[1;32mdef\u001b[0m \u001b[0msampling\u001b[0m\u001b[1;33m(\u001b[0m\u001b[0mself\u001b[0m\u001b[1;33m,\u001b[0m \u001b[0mmean_mu\u001b[0m\u001b[1;33m,\u001b[0m \u001b[0mlog_var\u001b[0m\u001b[1;33m)\u001b[0m\u001b[1;33m:\u001b[0m\u001b[1;33m\u001b[0m\u001b[1;33m\u001b[0m\u001b[0m\n\u001b[1;32m---> 99\u001b[1;33m         \u001b[1;32mreturn\u001b[0m \u001b[0mnp\u001b[0m\u001b[1;33m.\u001b[0m\u001b[0mrandom\u001b[0m\u001b[1;33m.\u001b[0m\u001b[0mmultivariate_normal\u001b[0m\u001b[1;33m(\u001b[0m\u001b[0mmean\u001b[0m\u001b[1;33m=\u001b[0m\u001b[0mmean_mu\u001b[0m\u001b[1;33m.\u001b[0m\u001b[0msqueeze\u001b[0m\u001b[1;33m(\u001b[0m\u001b[1;33m)\u001b[0m\u001b[1;33m,\u001b[0m \u001b[0mcov\u001b[0m\u001b[1;33m=\u001b[0m\u001b[0mnp\u001b[0m\u001b[1;33m.\u001b[0m\u001b[0mdiag\u001b[0m\u001b[1;33m(\u001b[0m\u001b[0mnp\u001b[0m\u001b[1;33m.\u001b[0m\u001b[0mexp\u001b[0m\u001b[1;33m(\u001b[0m\u001b[0mlog_var\u001b[0m\u001b[1;33m.\u001b[0m\u001b[0msqueeze\u001b[0m\u001b[1;33m(\u001b[0m\u001b[1;33m)\u001b[0m\u001b[1;33m)\u001b[0m\u001b[1;33m)\u001b[0m\u001b[1;33m)\u001b[0m\u001b[1;33m\u001b[0m\u001b[1;33m\u001b[0m\u001b[0m\n\u001b[0m\u001b[0;32m    100\u001b[0m \u001b[1;33m\u001b[0m\u001b[0m\n\u001b[0;32m    101\u001b[0m     \u001b[1;32mdef\u001b[0m \u001b[0msampling_sequence_alt\u001b[0m\u001b[1;33m(\u001b[0m\u001b[0mself\u001b[0m\u001b[1;33m,\u001b[0m \u001b[0mT\u001b[0m\u001b[1;33m,\u001b[0m \u001b[0morig_symbols\u001b[0m\u001b[1;33m)\u001b[0m\u001b[1;33m:\u001b[0m\u001b[1;33m\u001b[0m\u001b[1;33m\u001b[0m\u001b[0m\n",
      "\u001b[1;32mmtrand.pyx\u001b[0m in \u001b[0;36mnumpy.random.mtrand.RandomState.multivariate_normal\u001b[1;34m()\u001b[0m\n",
      "\u001b[1;32m~\\Anaconda3\\envs\\tf_gpu\\lib\\site-packages\\scipy\\linalg\\decomp_svd.py\u001b[0m in \u001b[0;36msvd\u001b[1;34m(a, full_matrices, compute_uv, overwrite_a, check_finite, lapack_driver)\u001b[0m\n\u001b[0;32m    107\u001b[0m \u001b[1;33m\u001b[0m\u001b[0m\n\u001b[0;32m    108\u001b[0m     \"\"\"\n\u001b[1;32m--> 109\u001b[1;33m     \u001b[0ma1\u001b[0m \u001b[1;33m=\u001b[0m \u001b[0m_asarray_validated\u001b[0m\u001b[1;33m(\u001b[0m\u001b[0ma\u001b[0m\u001b[1;33m,\u001b[0m \u001b[0mcheck_finite\u001b[0m\u001b[1;33m=\u001b[0m\u001b[0mcheck_finite\u001b[0m\u001b[1;33m)\u001b[0m\u001b[1;33m\u001b[0m\u001b[1;33m\u001b[0m\u001b[0m\n\u001b[0m\u001b[0;32m    110\u001b[0m     \u001b[1;32mif\u001b[0m \u001b[0mlen\u001b[0m\u001b[1;33m(\u001b[0m\u001b[0ma1\u001b[0m\u001b[1;33m.\u001b[0m\u001b[0mshape\u001b[0m\u001b[1;33m)\u001b[0m \u001b[1;33m!=\u001b[0m \u001b[1;36m2\u001b[0m\u001b[1;33m:\u001b[0m\u001b[1;33m\u001b[0m\u001b[1;33m\u001b[0m\u001b[0m\n\u001b[0;32m    111\u001b[0m         \u001b[1;32mraise\u001b[0m \u001b[0mValueError\u001b[0m\u001b[1;33m(\u001b[0m\u001b[1;34m'expected matrix'\u001b[0m\u001b[1;33m)\u001b[0m\u001b[1;33m\u001b[0m\u001b[1;33m\u001b[0m\u001b[0m\n",
      "\u001b[1;32m~\\Anaconda3\\envs\\tf_gpu\\lib\\site-packages\\scipy\\_lib\\_util.py\u001b[0m in \u001b[0;36m_asarray_validated\u001b[1;34m(a, check_finite, sparse_ok, objects_ok, mask_ok, as_inexact)\u001b[0m\n\u001b[0;32m    237\u001b[0m             \u001b[1;32mraise\u001b[0m \u001b[0mValueError\u001b[0m\u001b[1;33m(\u001b[0m\u001b[1;34m'masked arrays are not supported'\u001b[0m\u001b[1;33m)\u001b[0m\u001b[1;33m\u001b[0m\u001b[1;33m\u001b[0m\u001b[0m\n\u001b[0;32m    238\u001b[0m     \u001b[0mtoarray\u001b[0m \u001b[1;33m=\u001b[0m \u001b[0mnp\u001b[0m\u001b[1;33m.\u001b[0m\u001b[0masarray_chkfinite\u001b[0m \u001b[1;32mif\u001b[0m \u001b[0mcheck_finite\u001b[0m \u001b[1;32melse\u001b[0m \u001b[0mnp\u001b[0m\u001b[1;33m.\u001b[0m\u001b[0masarray\u001b[0m\u001b[1;33m\u001b[0m\u001b[1;33m\u001b[0m\u001b[0m\n\u001b[1;32m--> 239\u001b[1;33m     \u001b[0ma\u001b[0m \u001b[1;33m=\u001b[0m \u001b[0mtoarray\u001b[0m\u001b[1;33m(\u001b[0m\u001b[0ma\u001b[0m\u001b[1;33m)\u001b[0m\u001b[1;33m\u001b[0m\u001b[1;33m\u001b[0m\u001b[0m\n\u001b[0m\u001b[0;32m    240\u001b[0m     \u001b[1;32mif\u001b[0m \u001b[1;32mnot\u001b[0m \u001b[0mobjects_ok\u001b[0m\u001b[1;33m:\u001b[0m\u001b[1;33m\u001b[0m\u001b[1;33m\u001b[0m\u001b[0m\n\u001b[0;32m    241\u001b[0m         \u001b[1;32mif\u001b[0m \u001b[0ma\u001b[0m\u001b[1;33m.\u001b[0m\u001b[0mdtype\u001b[0m \u001b[1;32mis\u001b[0m \u001b[0mnp\u001b[0m\u001b[1;33m.\u001b[0m\u001b[0mdtype\u001b[0m\u001b[1;33m(\u001b[0m\u001b[1;34m'O'\u001b[0m\u001b[1;33m)\u001b[0m\u001b[1;33m:\u001b[0m\u001b[1;33m\u001b[0m\u001b[1;33m\u001b[0m\u001b[0m\n",
      "\u001b[1;32m~\\Anaconda3\\envs\\tf_gpu\\lib\\site-packages\\numpy\\lib\\function_base.py\u001b[0m in \u001b[0;36masarray_chkfinite\u001b[1;34m(a, dtype, order)\u001b[0m\n\u001b[0;32m    494\u001b[0m     \u001b[1;32mif\u001b[0m \u001b[0ma\u001b[0m\u001b[1;33m.\u001b[0m\u001b[0mdtype\u001b[0m\u001b[1;33m.\u001b[0m\u001b[0mchar\u001b[0m \u001b[1;32min\u001b[0m \u001b[0mtypecodes\u001b[0m\u001b[1;33m[\u001b[0m\u001b[1;34m'AllFloat'\u001b[0m\u001b[1;33m]\u001b[0m \u001b[1;32mand\u001b[0m \u001b[1;32mnot\u001b[0m \u001b[0mnp\u001b[0m\u001b[1;33m.\u001b[0m\u001b[0misfinite\u001b[0m\u001b[1;33m(\u001b[0m\u001b[0ma\u001b[0m\u001b[1;33m)\u001b[0m\u001b[1;33m.\u001b[0m\u001b[0mall\u001b[0m\u001b[1;33m(\u001b[0m\u001b[1;33m)\u001b[0m\u001b[1;33m:\u001b[0m\u001b[1;33m\u001b[0m\u001b[1;33m\u001b[0m\u001b[0m\n\u001b[0;32m    495\u001b[0m         raise ValueError(\n\u001b[1;32m--> 496\u001b[1;33m             \"array must not contain infs or NaNs\")\n\u001b[0m\u001b[0;32m    497\u001b[0m     \u001b[1;32mreturn\u001b[0m \u001b[0ma\u001b[0m\u001b[1;33m\u001b[0m\u001b[1;33m\u001b[0m\u001b[0m\n\u001b[0;32m    498\u001b[0m \u001b[1;33m\u001b[0m\u001b[0m\n",
      "\u001b[1;31mValueError\u001b[0m: array must not contain infs or NaNs"
     ]
    }
   ],
   "source": [
    "trainer.train(rf_system)"
   ]
  },
  {
   "cell_type": "code",
   "execution_count": null,
   "metadata": {},
   "outputs": [],
   "source": []
  }
 ],
 "metadata": {
  "kernelspec": {
   "display_name": "Python 3",
   "language": "python",
   "name": "python3"
  },
  "language_info": {
   "codemirror_mode": {
    "name": "ipython",
    "version": 3
   },
   "file_extension": ".py",
   "mimetype": "text/x-python",
   "name": "python",
   "nbconvert_exporter": "python",
   "pygments_lexer": "ipython3",
   "version": "3.7.5"
  }
 },
 "nbformat": 4,
 "nbformat_minor": 4
}
