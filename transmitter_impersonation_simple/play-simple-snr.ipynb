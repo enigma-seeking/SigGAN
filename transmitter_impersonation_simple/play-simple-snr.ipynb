{
 "cells": [
  {
   "cell_type": "code",
   "execution_count": 2,
   "metadata": {},
   "outputs": [],
   "source": [
    "from WirelessSystem.system import *"
   ]
  },
  {
   "cell_type": "code",
   "execution_count": 3,
   "metadata": {},
   "outputs": [],
   "source": [
    "%load_ext autoreload\n",
    "%autoreload 2"
   ]
  },
  {
   "cell_type": "code",
   "execution_count": 4,
   "metadata": {},
   "outputs": [
    {
     "name": "stderr",
     "output_type": "stream",
     "text": [
      "Using TensorFlow backend.\n"
     ]
    }
   ],
   "source": [
    "import keras"
   ]
  },
  {
   "cell_type": "code",
   "execution_count": 5,
   "metadata": {},
   "outputs": [
    {
     "name": "stdout",
     "output_type": "stream",
     "text": [
      "WARNING:tensorflow:From C:\\Users\\samur\\Anaconda3\\envs\\tf_gpu\\lib\\site-packages\\keras\\backend\\tensorflow_backend.py:174: The name tf.get_default_session is deprecated. Please use tf.compat.v1.get_default_session instead.\n",
      "\n",
      "WARNING:tensorflow:From C:\\Users\\samur\\Anaconda3\\envs\\tf_gpu\\lib\\site-packages\\keras\\backend\\tensorflow_backend.py:181: The name tf.ConfigProto is deprecated. Please use tf.compat.v1.ConfigProto instead.\n",
      "\n",
      "WARNING:tensorflow:From C:\\Users\\samur\\Anaconda3\\envs\\tf_gpu\\lib\\site-packages\\keras\\backend\\tensorflow_backend.py:186: The name tf.Session is deprecated. Please use tf.compat.v1.Session instead.\n",
      "\n",
      "WARNING:tensorflow:From C:\\Users\\samur\\Anaconda3\\envs\\tf_gpu\\lib\\site-packages\\keras\\backend\\tensorflow_backend.py:190: The name tf.global_variables is deprecated. Please use tf.compat.v1.global_variables instead.\n",
      "\n"
     ]
    }
   ],
   "source": [
    "import os\n",
    "import numpy as np\n",
    "from SigGAN.train import Trainer"
   ]
  },
  {
   "cell_type": "code",
   "execution_count": 6,
   "metadata": {},
   "outputs": [],
   "source": [
    "import tensorflow as tf"
   ]
  },
  {
   "cell_type": "code",
   "execution_count": 7,
   "metadata": {},
   "outputs": [],
   "source": [
    "def norm(sig_u):\n",
    "    pwr = np.sqrt(np.mean(np.sum(sig_u**2,axis = -1),axis = -1))\n",
    "    sig_u = sig_u/pwr[:,None,None]\n",
    "    print(sig_u.shape)\n",
    "    return sig_u"
   ]
  },
  {
   "cell_type": "code",
   "execution_count": 8,
   "metadata": {},
   "outputs": [],
   "source": [
    "def shuffle(vec1,vec2,seed = 0):\n",
    "    np.random.seed(0)\n",
    "    shfl_indx = np.arange(vec1.shape[0])\n",
    "    np.random.shuffle(shfl_indx)\n",
    "    shfl_indx = shfl_indx.astype('int')\n",
    "    vec1 = vec1[shfl_indx]\n",
    "    vec2 = np.copy(vec2[shfl_indx])\n",
    "    return vec1,vec2"
   ]
  },
  {
   "cell_type": "code",
   "execution_count": 9,
   "metadata": {},
   "outputs": [],
   "source": [
    "def split(vec,n_train,n_valid,n_test):\n",
    "    vec_train = vec[0:n_train]\n",
    "    vec_valid = vec[n_train:n_train+n_valid]\n",
    "    vec_test = vec[n_train+n_valid:]\n",
    "    return vec_train,vec_valid,vec_test"
   ]
  },
  {
   "cell_type": "code",
   "execution_count": 10,
   "metadata": {},
   "outputs": [],
   "source": [
    "n_symbols = 256 // 2\n",
    "n_authorized = 5\n",
    "n_unauthorized = 5"
   ]
  },
  {
   "cell_type": "code",
   "execution_count": 10,
   "metadata": {},
   "outputs": [],
   "source": [
    "rf_system = RFSystem(n_authorized = n_authorized, n_unauthorized = n_unauthorized, snr = 0, sess_name = 'test_snr_0')"
   ]
  },
  {
   "cell_type": "code",
   "execution_count": 11,
   "metadata": {},
   "outputs": [],
   "source": [
    "#rf_system = RFSystem(sess_dir='test_binary_reward_1')"
   ]
  },
  {
   "cell_type": "code",
   "execution_count": null,
   "metadata": {},
   "outputs": [],
   "source": []
  },
  {
   "cell_type": "code",
   "execution_count": 12,
   "metadata": {},
   "outputs": [],
   "source": [
    "sig_auth_, txid_auth = rf_system.get_n_received_symbol_blocks(5000, n_symbols, authorized = 0)\n",
    "sig_unauth_, txid_unauth = rf_system.get_n_received_symbol_blocks(5000, n_symbols, authorized = 1)\n",
    "sig_impersonate_, _ = rf_system.get_n_received_symbol_blocks(10, n_symbols, authorized = 2)"
   ]
  },
  {
   "cell_type": "code",
   "execution_count": 13,
   "metadata": {},
   "outputs": [],
   "source": [
    "sig_auth=sig_auth_\n",
    "sig_unauth=sig_unauth_"
   ]
  },
  {
   "cell_type": "code",
   "execution_count": 14,
   "metadata": {},
   "outputs": [],
   "source": [
    "sig_impersonate_ad_, _ = rf_system.get_n_received_symbol_blocks(5000, n_symbols, authorized = 2)\n",
    "sig_impersonate_ad=sig_impersonate_ad_"
   ]
  },
  {
   "cell_type": "code",
   "execution_count": 15,
   "metadata": {},
   "outputs": [],
   "source": [
    "sig_impersonate=sig_impersonate_.reshape((-1,2))"
   ]
  },
  {
   "cell_type": "code",
   "execution_count": 16,
   "metadata": {},
   "outputs": [],
   "source": [
    "# hyper parameters\n",
    "B = 64 # batch size\n",
    "T = 256 # Max length of sentence\n",
    "g_H = 100 # Generator LSTM hidden size\n",
    "g_lr = 1e-3\n",
    "d_dropout = 0.5 # dropout ratio\n",
    "d_lr = 1e-3\n",
    "\n",
    "n_sample=1 # Number of Monte Calro Search\n",
    "generate_samples = 2000 # Number of generated sentences\n",
    "\n",
    "# Pretraining parameters\n",
    "g_pre_lr = 1e-3\n",
    "d_pre_lr = 1e-3\n",
    "g_pre_epochs= 60\n",
    "d_pre_epochs = 1"
   ]
  },
  {
   "cell_type": "code",
   "execution_count": 39,
   "metadata": {},
   "outputs": [],
   "source": [
    "trainer = Trainer(rf_system, B, T, n_authorized, g_H, d_dropout, g_lr=g_lr, d_lr=d_lr, n_sample=n_sample, generate_samples=generate_samples)"
   ]
  },
  {
   "cell_type": "code",
   "execution_count": 18,
   "metadata": {},
   "outputs": [],
   "source": [
    "sig_rd = np.concatenate([sig_auth,sig_impersonate_ad])\n",
    "txid_rd = np.concatenate([txid_auth,np.ones((sig_impersonate_ad.shape[0],))*n_authorized])"
   ]
  },
  {
   "cell_type": "code",
   "execution_count": 19,
   "metadata": {},
   "outputs": [],
   "source": [
    "sig_rd, txid_rd = shuffle(sig_rd, txid_rd)"
   ]
  },
  {
   "cell_type": "code",
   "execution_count": 20,
   "metadata": {},
   "outputs": [],
   "source": [
    "txid_disc = txid_rd == n_authorized\n",
    "txid_disc = np.invert(txid_disc)\n",
    "txid_disc = txid_disc.astype(int)"
   ]
  },
  {
   "cell_type": "code",
   "execution_count": 21,
   "metadata": {},
   "outputs": [
    {
     "name": "stdout",
     "output_type": "stream",
     "text": [
      "[0 1]\n",
      "[0. 1. 2. 3. 4. 5.]\n"
     ]
    }
   ],
   "source": [
    "print(np.unique(txid_disc))\n",
    "print(np.unique(txid_rd))"
   ]
  },
  {
   "cell_type": "code",
   "execution_count": 22,
   "metadata": {},
   "outputs": [],
   "source": [
    "test_frac = 0.1\n",
    "valid_frac  = 0.2\n",
    "\n",
    "n_samples  = sig_rd.shape[0]\n",
    "\n",
    "n_test = int(test_frac*n_samples)\n",
    "n_valid = int(valid_frac*n_samples)\n",
    "n_train = n_samples - n_test - n_valid"
   ]
  },
  {
   "cell_type": "code",
   "execution_count": 23,
   "metadata": {},
   "outputs": [],
   "source": [
    "sig_rd_train,sig_rd_valid,sig_rd_test=split(sig_rd,n_train,n_valid,n_test)"
   ]
  },
  {
   "cell_type": "code",
   "execution_count": 24,
   "metadata": {},
   "outputs": [],
   "source": [
    "out_train,out_valid,out_test=split(txid_disc,n_train,n_valid,n_test)"
   ]
  },
  {
   "cell_type": "code",
   "execution_count": 25,
   "metadata": {},
   "outputs": [],
   "source": [
    "#trainer.load_pre_train_d(rf_system.full_sess_dir)"
   ]
  },
  {
   "cell_type": "code",
   "execution_count": 67,
   "metadata": {},
   "outputs": [
    {
     "name": "stdout",
     "output_type": "stream",
     "text": [
      "__________________________________________________________________________________________________\n",
      "Layer (type)                    Output Shape         Param #     Connected to                     \n",
      "==================================================================================================\n",
      "input_4 (InputLayer)            (None, 256, 2)       0                                            \n",
      "__________________________________________________________________________________________________\n",
      "reshape_4 (Reshape)             (None, 256, 2, 1)    0           input_4[0][0]                    \n",
      "__________________________________________________________________________________________________\n",
      "1_conv1 (Conv2D)                (None, 256, 2, 16)   32          reshape_4[0][0]                  \n",
      "__________________________________________________________________________________________________\n",
      "1_conv2 (Conv2D)                (None, 256, 2, 16)   1552        1_conv1[0][0]                    \n",
      "__________________________________________________________________________________________________\n",
      "1_bn (BatchNormalization)       (None, 256, 2, 16)   64          1_conv2[0][0]                    \n",
      "__________________________________________________________________________________________________\n",
      "1_act1 (Activation)             (None, 256, 2, 16)   0           1_bn[0][0]                       \n",
      "__________________________________________________________________________________________________\n",
      "1_conv3 (Conv2D)                (None, 256, 2, 16)   1552        1_act1[0][0]                     \n",
      "__________________________________________________________________________________________________\n",
      "1_bn2 (BatchNormalization)      (None, 256, 2, 16)   64          1_conv3[0][0]                    \n",
      "__________________________________________________________________________________________________\n",
      "1_add (Add)                     (None, 256, 2, 16)   0           1_bn2[0][0]                      \n",
      "                                                                 1_conv1[0][0]                    \n",
      "__________________________________________________________________________________________________\n",
      "1_act2 (Activation)             (None, 256, 2, 16)   0           1_add[0][0]                      \n",
      "__________________________________________________________________________________________________\n",
      "3_0_conv1 (Conv2D)              (None, 256, 2, 32)   544         1_act2[0][0]                     \n",
      "__________________________________________________________________________________________________\n",
      "3_0_conv2 (Conv2D)              (None, 256, 2, 32)   6176        3_0_conv1[0][0]                  \n",
      "__________________________________________________________________________________________________\n",
      "3_0_bn (BatchNormalization)     (None, 256, 2, 32)   128         3_0_conv2[0][0]                  \n",
      "__________________________________________________________________________________________________\n",
      "3_0_act1 (Activation)           (None, 256, 2, 32)   0           3_0_bn[0][0]                     \n",
      "__________________________________________________________________________________________________\n",
      "3_0_conv3 (Conv2D)              (None, 256, 2, 32)   6176        3_0_act1[0][0]                   \n",
      "__________________________________________________________________________________________________\n",
      "3_0_bn2 (BatchNormalization)    (None, 256, 2, 32)   128         3_0_conv3[0][0]                  \n",
      "__________________________________________________________________________________________________\n",
      "3_0_add (Add)                   (None, 256, 2, 32)   0           3_0_bn2[0][0]                    \n",
      "                                                                 3_0_conv1[0][0]                  \n",
      "__________________________________________________________________________________________________\n",
      "3_0_act2 (Activation)           (None, 256, 2, 32)   0           3_0_add[0][0]                    \n",
      "__________________________________________________________________________________________________\n",
      "max_pooling2d_4 (MaxPooling2D)  (None, 128, 2, 32)   0           3_0_act2[0][0]                   \n",
      "__________________________________________________________________________________________________\n",
      "conv2d_4 (Conv2D)               (None, 128, 2, 16)   528         max_pooling2d_4[0][0]            \n",
      "__________________________________________________________________________________________________\n",
      "flatten_4 (Flatten)             (None, 4096)         0           conv2d_4[0][0]                   \n",
      "__________________________________________________________________________________________________\n",
      "dense_4 (Dense)                 (None, 20)           81940       flatten_4[0][0]                  \n",
      "__________________________________________________________________________________________________\n",
      "dropout_4 (Dropout)             (None, 20)           0           dense_4[0][0]                    \n",
      "__________________________________________________________________________________________________\n",
      "sftmx_0 (Dense)                 (None, 1)            21          dropout_4[0][0]                  \n",
      "==================================================================================================\n",
      "Total params: 98,905\n",
      "Trainable params: 98,713\n",
      "Non-trainable params: 192\n",
      "__________________________________________________________________________________________________\n",
      "Discriminator pre-training\n",
      "Train on 7000 samples, validate on 2000 samples\n",
      "Epoch 1/20\n",
      "7000/7000 [==============================] - 5s 684us/step - loss: 0.6346 - val_loss: 0.5803\n",
      "Epoch 2/20\n",
      "7000/7000 [==============================] - 1s 186us/step - loss: 0.6336 - val_loss: 0.5851\n",
      "Epoch 3/20\n",
      "7000/7000 [==============================] - 1s 185us/step - loss: 0.6381 - val_loss: 0.5879\n",
      "Epoch 4/20\n",
      "7000/7000 [==============================] - 1s 185us/step - loss: 0.6345 - val_loss: 0.5884\n",
      "Epoch 5/20\n",
      "7000/7000 [==============================] - 1s 185us/step - loss: 0.6353 - val_loss: 0.5887\n",
      "Epoch 6/20\n",
      "7000/7000 [==============================] - 1s 188us/step - loss: 0.6358 - val_loss: 0.5890\n",
      "Epoch 7/20\n",
      "7000/7000 [==============================] - 1s 188us/step - loss: 0.6331 - val_loss: 0.5885\n",
      "Epoch 8/20\n",
      "7000/7000 [==============================] - 1s 187us/step - loss: 0.6378 - val_loss: 0.5893\n",
      "Epoch 9/20\n",
      "7000/7000 [==============================] - 1s 186us/step - loss: 0.6334 - val_loss: 0.5890\n",
      "Epoch 10/20\n",
      "7000/7000 [==============================] - 1s 185us/step - loss: 0.6399 - val_loss: 0.5893\n",
      "Epoch 11/20\n",
      "7000/7000 [==============================] - 1s 188us/step - loss: 0.6350 - val_loss: 0.5892\n",
      "Epoch 12/20\n",
      "7000/7000 [==============================] - 1s 186us/step - loss: 0.6348 - val_loss: 0.5893\n",
      "Epoch 13/20\n",
      "7000/7000 [==============================] - 1s 188us/step - loss: 0.6368 - val_loss: 0.5896\n",
      "Epoch 14/20\n",
      "7000/7000 [==============================] - 1s 185us/step - loss: 0.6360 - val_loss: 0.5894\n",
      "Epoch 15/20\n",
      "7000/7000 [==============================] - 1s 186us/step - loss: 0.6347 - val_loss: 0.5893\n",
      "Epoch 16/20\n",
      "7000/7000 [==============================] - 1s 185us/step - loss: 0.6366 - val_loss: 0.5894\n",
      "Epoch 17/20\n",
      "7000/7000 [==============================] - 1s 186us/step - loss: 0.6344 - val_loss: 0.5899\n",
      "Epoch 18/20\n",
      "7000/7000 [==============================] - 1s 185us/step - loss: 0.6334 - val_loss: 0.5894\n",
      "Epoch 19/20\n",
      "7000/7000 [==============================] - 1s 193us/step - loss: 0.6342 - val_loss: 0.5893\n",
      "Epoch 20/20\n",
      "7000/7000 [==============================] - 1s 185us/step - loss: 0.6376 - val_loss: 0.5896\n"
     ]
    },
    {
     "data": {
      "image/png": "[encoded data removed]",
      "text/plain": [
       "<Figure size 432x288 with 1 Axes>"
      ]
     },
     "metadata": {
      "needs_background": "light"
     },
     "output_type": "display_data"
    }
   ],
   "source": [
    "trainer.pre_train_discriminator(d_epochs=20, d_pre_sig_train=sig_rd_train, d_pre_out_train=out_train, d_pre_sig_valid=sig_rd_valid, d_pre_out_valid=out_valid, lr=1e-6)"
   ]
  },
  {
   "cell_type": "code",
   "execution_count": 95,
   "metadata": {},
   "outputs": [],
   "source": [
    "trainer.save_pre_train_d(rf_system.full_sess_dir)"
   ]
  },
  {
   "cell_type": "code",
   "execution_count": 68,
   "metadata": {},
   "outputs": [
    {
     "name": "stdout",
     "output_type": "stream",
     "text": [
      "0.7128571428571429\n"
     ]
    }
   ],
   "source": [
    "print(trainer.test_discriminator(sig_rd_train, out_train))"
   ]
  },
  {
   "cell_type": "code",
   "execution_count": 69,
   "metadata": {},
   "outputs": [
    {
     "name": "stdout",
     "output_type": "stream",
     "text": [
      "0.713\n"
     ]
    }
   ],
   "source": [
    "print(trainer.test_discriminator(sig_rd_valid, out_valid))"
   ]
  },
  {
   "cell_type": "code",
   "execution_count": 70,
   "metadata": {},
   "outputs": [
    {
     "name": "stdout",
     "output_type": "stream",
     "text": [
      "0.696\n"
     ]
    }
   ],
   "source": [
    "print(trainer.test_discriminator(sig_rd_test, out_test))"
   ]
  },
  {
   "cell_type": "code",
   "execution_count": 71,
   "metadata": {},
   "outputs": [
    {
     "name": "stdout",
     "output_type": "stream",
     "text": [
      "0.8096\n"
     ]
    }
   ],
   "source": [
    "print(trainer.test_discriminator(sig_impersonate_ad, np.zeros((sig_impersonate_ad.shape[0],))))"
   ]
  },
  {
   "cell_type": "code",
   "execution_count": 72,
   "metadata": {},
   "outputs": [
    {
     "data": {
      "text/plain": [
       "0.63539374"
      ]
     },
     "execution_count": 72,
     "metadata": {},
     "output_type": "execute_result"
    }
   ],
   "source": [
    "np.mean(trainer.predict_discriminator(sig_auth))"
   ]
  },
  {
   "cell_type": "code",
   "execution_count": 73,
   "metadata": {},
   "outputs": [
    {
     "data": {
      "text/plain": [
       "0.47830585"
      ]
     },
     "execution_count": 73,
     "metadata": {},
     "output_type": "execute_result"
    }
   ],
   "source": [
    "np.mean(trainer.predict_discriminator(sig_impersonate_ad))"
   ]
  },
  {
   "cell_type": "code",
   "execution_count": 74,
   "metadata": {},
   "outputs": [],
   "source": [
    "n_samples_im  = sig_impersonate.shape[0]\n",
    "\n",
    "n_test_im = int(test_frac*n_samples_im)\n",
    "n_valid_im = int(valid_frac*n_samples_im)\n",
    "n_train_im = n_samples_im - n_test_im - n_valid_im"
   ]
  },
  {
   "cell_type": "code",
   "execution_count": 75,
   "metadata": {},
   "outputs": [],
   "source": [
    "sig_im_train,sig_im_valid,sig_im_test=split(sig_impersonate,n_train_im,n_valid_im,n_test)"
   ]
  },
  {
   "cell_type": "code",
   "execution_count": 76,
   "metadata": {},
   "outputs": [],
   "source": [
    "sig_im_train_re = sig_im_train.reshape((-1, 1, 2))\n",
    "sig_im_train_re_t = sig_im_train.reshape((-1, 2))"
   ]
  },
  {
   "cell_type": "code",
   "execution_count": 77,
   "metadata": {},
   "outputs": [],
   "source": [
    "sig_im_valid_re = sig_im_valid.reshape((-1, 1, 2))\n",
    "sig_im_valid_re_t = sig_im_valid.reshape((-1, 2))"
   ]
  },
  {
   "cell_type": "code",
   "execution_count": 78,
   "metadata": {},
   "outputs": [],
   "source": [
    "sig_im_test_re = sig_im_test.reshape((-1, 1,  2))"
   ]
  },
  {
   "cell_type": "code",
   "execution_count": 79,
   "metadata": {},
   "outputs": [
    {
     "name": "stdout",
     "output_type": "stream",
     "text": [
      "Generator pre-training\n",
      "__________________________________________________________________________________________________\n",
      "Layer (type)                    Output Shape         Param #     Connected to                     \n",
      "==================================================================================================\n",
      "Input (InputLayer)              (None, None, 2)      0                                            \n",
      "__________________________________________________________________________________________________\n",
      "LSTM (LSTM)                     (None, 100)          41200       Input[0][0]                      \n",
      "__________________________________________________________________________________________________\n",
      "DenseMean (Dense)               (None, 2)            202         LSTM[0][0]                       \n",
      "__________________________________________________________________________________________________\n",
      "DenseVariance (Dense)           (None, 2)            202         LSTM[0][0]                       \n",
      "__________________________________________________________________________________________________\n",
      "sampling_layer (Lambda)         (None, 2)            0           DenseMean[0][0]                  \n",
      "                                                                 DenseVariance[0][0]              \n",
      "==================================================================================================\n",
      "Total params: 41,604\n",
      "Trainable params: 41,604\n",
      "Non-trainable params: 0\n",
      "__________________________________________________________________________________________________\n",
      "Train on 1792 samples, validate on 512 samples\n",
      "Epoch 1/100\n",
      "1792/1792 [==============================] - 4s 2ms/step - loss: 2.2116 - val_loss: 1.7385\n",
      "Epoch 2/100\n",
      "1792/1792 [==============================] - 0s 183us/step - loss: 1.3706 - val_loss: 0.8236\n",
      "Epoch 3/100\n",
      "1792/1792 [==============================] - 0s 178us/step - loss: 0.5304 - val_loss: 0.2923\n",
      "Epoch 4/100\n",
      "1792/1792 [==============================] - 0s 177us/step - loss: 0.2381 - val_loss: 0.1816\n",
      "Epoch 5/100\n",
      "1792/1792 [==============================] - 0s 185us/step - loss: 0.1519 - val_loss: 0.1445\n",
      "Epoch 6/100\n",
      "1792/1792 [==============================] - 0s 172us/step - loss: 0.1116 - val_loss: 0.1051\n",
      "Epoch 7/100\n",
      "1792/1792 [==============================] - 0s 169us/step - loss: 0.0786 - val_loss: 0.0732\n",
      "Epoch 8/100\n",
      "1792/1792 [==============================] - 0s 177us/step - loss: 0.0565 - val_loss: 0.0550\n",
      "Epoch 9/100\n",
      "1792/1792 [==============================] - 0s 186us/step - loss: 0.0439 - val_loss: 0.0383\n",
      "Epoch 10/100\n",
      "1792/1792 [==============================] - 0s 178us/step - loss: 0.0347 - val_loss: 0.0331\n",
      "Epoch 11/100\n",
      "1792/1792 [==============================] - 0s 182us/step - loss: 0.0252 - val_loss: 0.0222\n",
      "Epoch 12/100\n",
      "1792/1792 [==============================] - 0s 181us/step - loss: 0.0203 - val_loss: 0.0192\n",
      "Epoch 13/100\n",
      "1792/1792 [==============================] - 0s 166us/step - loss: 0.0164 - val_loss: 0.0146\n",
      "Epoch 14/100\n",
      "1792/1792 [==============================] - 0s 181us/step - loss: 0.0133 - val_loss: 0.0121\n",
      "Epoch 15/100\n",
      "1792/1792 [==============================] - 0s 177us/step - loss: 0.0105 - val_loss: 0.0102\n",
      "Epoch 16/100\n",
      "1792/1792 [==============================] - 0s 171us/step - loss: 0.0088 - val_loss: 0.0083\n",
      "Epoch 17/100\n",
      "1792/1792 [==============================] - 0s 169us/step - loss: 0.0080 - val_loss: 0.0079\n",
      "Epoch 18/100\n",
      "1792/1792 [==============================] - 0s 185us/step - loss: 0.0068 - val_loss: 0.0067\n",
      "Epoch 19/100\n",
      "1792/1792 [==============================] - 0s 177us/step - loss: 0.0059 - val_loss: 0.0063\n",
      "Epoch 20/100\n",
      "1792/1792 [==============================] - 0s 171us/step - loss: 0.0053 - val_loss: 0.0050\n",
      "Epoch 21/100\n",
      "1792/1792 [==============================] - 0s 177us/step - loss: 0.0047 - val_loss: 0.0048\n",
      "Epoch 22/100\n",
      "1792/1792 [==============================] - 0s 184us/step - loss: 0.0040 - val_loss: 0.0045\n",
      "Epoch 23/100\n",
      "1792/1792 [==============================] - 0s 168us/step - loss: 0.0036 - val_loss: 0.0035\n",
      "Epoch 24/100\n",
      "1792/1792 [==============================] - 0s 185us/step - loss: 0.0033 - val_loss: 0.0035\n",
      "Epoch 25/100\n",
      "1792/1792 [==============================] - 0s 185us/step - loss: 0.0030 - val_loss: 0.0028\n",
      "Epoch 26/100\n",
      "1792/1792 [==============================] - 0s 187us/step - loss: 0.0027 - val_loss: 0.0026\n",
      "Epoch 27/100\n",
      "1792/1792 [==============================] - 0s 189us/step - loss: 0.0025 - val_loss: 0.0024\n",
      "Epoch 28/100\n",
      "1792/1792 [==============================] - 0s 183us/step - loss: 0.0024 - val_loss: 0.0023\n",
      "Epoch 29/100\n",
      "1792/1792 [==============================] - 0s 176us/step - loss: 0.0021 - val_loss: 0.0020\n",
      "Epoch 30/100\n",
      "1792/1792 [==============================] - 0s 167us/step - loss: 0.0019 - val_loss: 0.0020\n",
      "Epoch 31/100\n",
      "1792/1792 [==============================] - 0s 180us/step - loss: 0.0018 - val_loss: 0.0017\n",
      "Epoch 32/100\n",
      "1792/1792 [==============================] - 0s 191us/step - loss: 0.0017 - val_loss: 0.0016\n",
      "Epoch 33/100\n",
      "1792/1792 [==============================] - 0s 170us/step - loss: 0.0016 - val_loss: 0.0015\n",
      "Epoch 34/100\n",
      "1792/1792 [==============================] - 0s 175us/step - loss: 0.0015 - val_loss: 0.0014\n",
      "Epoch 35/100\n",
      "1792/1792 [==============================] - 0s 177us/step - loss: 0.0014 - val_loss: 0.0014\n",
      "Epoch 36/100\n",
      "1792/1792 [==============================] - 0s 171us/step - loss: 0.0013 - val_loss: 0.0013\n",
      "Epoch 37/100\n",
      "1792/1792 [==============================] - 0s 185us/step - loss: 0.0011 - val_loss: 0.0013\n",
      "Epoch 38/100\n",
      "1792/1792 [==============================] - 0s 167us/step - loss: 0.0011 - val_loss: 0.0011\n",
      "Epoch 39/100\n",
      "1792/1792 [==============================] - 0s 177us/step - loss: 0.0010 - val_loss: 0.0010\n",
      "Epoch 40/100\n",
      "1792/1792 [==============================] - 0s 174us/step - loss: 9.7843e-04 - val_loss: 9.4199e-04\n",
      "Epoch 41/100\n",
      "1792/1792 [==============================] - 0s 177us/step - loss: 9.4133e-04 - val_loss: 0.0010\n",
      "Epoch 42/100\n",
      "1792/1792 [==============================] - 0s 182us/step - loss: 8.5304e-04 - val_loss: 9.6689e-04\n",
      "Epoch 43/100\n",
      "1792/1792 [==============================] - 0s 179us/step - loss: 8.3083e-04 - val_loss: 8.5373e-04\n",
      "Epoch 44/100\n",
      "1792/1792 [==============================] - 0s 182us/step - loss: 7.5898e-04 - val_loss: 7.6773e-04\n",
      "Epoch 45/100\n",
      "1792/1792 [==============================] - 0s 177us/step - loss: 7.1642e-04 - val_loss: 7.2511e-04\n",
      "Epoch 46/100\n",
      "1792/1792 [==============================] - 0s 180us/step - loss: 6.7084e-04 - val_loss: 6.8816e-04\n",
      "Epoch 47/100\n",
      "1792/1792 [==============================] - 0s 181us/step - loss: 6.6585e-04 - val_loss: 6.6529e-04\n",
      "Epoch 48/100\n",
      "1792/1792 [==============================] - 0s 173us/step - loss: 6.1993e-04 - val_loss: 6.6244e-04\n",
      "Epoch 49/100\n",
      "1792/1792 [==============================] - 0s 181us/step - loss: 5.8628e-04 - val_loss: 6.0881e-04\n",
      "Epoch 50/100\n",
      "1792/1792 [==============================] - 0s 180us/step - loss: 5.9405e-04 - val_loss: 4.9585e-04\n",
      "Epoch 51/100\n",
      "1792/1792 [==============================] - 0s 176us/step - loss: 5.2461e-04 - val_loss: 4.9122e-04\n",
      "Epoch 52/100\n",
      "1792/1792 [==============================] - 0s 187us/step - loss: 4.9357e-04 - val_loss: 4.8766e-04\n",
      "Epoch 53/100\n",
      "1792/1792 [==============================] - 0s 172us/step - loss: 4.4632e-04 - val_loss: 5.4718e-04\n",
      "Epoch 54/100\n",
      "1792/1792 [==============================] - 0s 174us/step - loss: 4.7859e-04 - val_loss: 4.4394e-04\n",
      "Epoch 55/100\n",
      "1792/1792 [==============================] - 0s 177us/step - loss: 4.2350e-04 - val_loss: 4.4662e-04\n",
      "Epoch 56/100\n",
      "1792/1792 [==============================] - 0s 176us/step - loss: 4.1412e-04 - val_loss: 4.1230e-04\n",
      "Epoch 57/100\n",
      "1792/1792 [==============================] - 0s 167us/step - loss: 3.8785e-04 - val_loss: 4.0383e-04\n",
      "Epoch 58/100\n",
      "1792/1792 [==============================] - 0s 184us/step - loss: 3.7854e-04 - val_loss: 3.9845e-04\n",
      "Epoch 59/100\n",
      "1792/1792 [==============================] - 0s 183us/step - loss: 3.4507e-04 - val_loss: 3.5460e-04\n",
      "Epoch 60/100\n",
      "1792/1792 [==============================] - 0s 170us/step - loss: 3.1300e-04 - val_loss: 3.2690e-04\n",
      "Epoch 61/100\n",
      "1792/1792 [==============================] - 0s 171us/step - loss: 3.1928e-04 - val_loss: 3.2055e-04\n",
      "Epoch 62/100\n",
      "1792/1792 [==============================] - 0s 173us/step - loss: 3.0458e-04 - val_loss: 3.1894e-04\n",
      "Epoch 63/100\n",
      "1792/1792 [==============================] - 0s 170us/step - loss: 2.9376e-04 - val_loss: 3.0057e-04\n",
      "Epoch 64/100\n",
      "1792/1792 [==============================] - 0s 171us/step - loss: 2.6375e-04 - val_loss: 2.7645e-04\n",
      "Epoch 65/100\n",
      "1792/1792 [==============================] - 0s 182us/step - loss: 2.4890e-04 - val_loss: 2.5690e-04\n",
      "Epoch 66/100\n",
      "1792/1792 [==============================] - 0s 174us/step - loss: 2.4586e-04 - val_loss: 2.6164e-04\n",
      "Epoch 67/100\n",
      "1792/1792 [==============================] - 0s 170us/step - loss: 2.3975e-04 - val_loss: 2.4618e-04\n",
      "Epoch 68/100\n",
      "1792/1792 [==============================] - 0s 167us/step - loss: 2.2063e-04 - val_loss: 2.4878e-04\n",
      "Epoch 69/100\n",
      "1792/1792 [==============================] - 0s 167us/step - loss: 2.2176e-04 - val_loss: 2.4189e-04\n",
      "Epoch 70/100\n",
      "1792/1792 [==============================] - 0s 176us/step - loss: 2.1280e-04 - val_loss: 2.2177e-04\n",
      "Epoch 71/100\n",
      "1792/1792 [==============================] - 0s 180us/step - loss: 2.0674e-04 - val_loss: 2.1308e-04\n",
      "Epoch 72/100\n",
      "1792/1792 [==============================] - 0s 179us/step - loss: 1.9003e-04 - val_loss: 2.0864e-04\n",
      "Epoch 73/100\n",
      "1792/1792 [==============================] - 0s 171us/step - loss: 1.7594e-04 - val_loss: 1.9310e-04\n",
      "Epoch 74/100\n",
      "1792/1792 [==============================] - 0s 184us/step - loss: 1.7198e-04 - val_loss: 2.4082e-04\n",
      "Epoch 75/100\n",
      "1792/1792 [==============================] - 0s 178us/step - loss: 1.8290e-04 - val_loss: 1.8526e-04\n",
      "Epoch 76/100\n",
      "1792/1792 [==============================] - 0s 182us/step - loss: 1.6128e-04 - val_loss: 1.7204e-04\n",
      "Epoch 77/100\n",
      "1792/1792 [==============================] - 0s 176us/step - loss: 1.5461e-04 - val_loss: 1.7233e-04\n",
      "Epoch 78/100\n",
      "1792/1792 [==============================] - 0s 163us/step - loss: 1.5158e-04 - val_loss: 2.3325e-04\n",
      "Epoch 79/100\n",
      "1792/1792 [==============================] - 0s 186us/step - loss: 1.4510e-04 - val_loss: 1.5862e-04\n",
      "Epoch 80/100\n",
      "1792/1792 [==============================] - 0s 173us/step - loss: 1.3487e-04 - val_loss: 1.5732e-04\n",
      "Epoch 81/100\n",
      "1792/1792 [==============================] - 0s 165us/step - loss: 1.3201e-04 - val_loss: 1.3993e-04\n",
      "Epoch 82/100\n",
      "1792/1792 [==============================] - 0s 180us/step - loss: 1.1940e-04 - val_loss: 1.2951e-04\n",
      "Epoch 83/100\n",
      "1792/1792 [==============================] - 0s 183us/step - loss: 1.1298e-04 - val_loss: 1.4078e-04\n",
      "Epoch 84/100\n",
      "1792/1792 [==============================] - 0s 169us/step - loss: 1.1394e-04 - val_loss: 1.2636e-04\n",
      "Epoch 85/100\n",
      "1792/1792 [==============================] - 0s 177us/step - loss: 1.0489e-04 - val_loss: 1.2705e-04\n",
      "Epoch 86/100\n",
      "1792/1792 [==============================] - 0s 188us/step - loss: 1.0961e-04 - val_loss: 1.2535e-04\n",
      "Epoch 87/100\n",
      "1792/1792 [==============================] - 0s 167us/step - loss: 1.1173e-04 - val_loss: 1.0764e-04\n",
      "Epoch 88/100\n",
      "1792/1792 [==============================] - 0s 168us/step - loss: 9.7724e-05 - val_loss: 1.0210e-04\n",
      "Epoch 89/100\n",
      "1792/1792 [==============================] - 0s 169us/step - loss: 8.8796e-05 - val_loss: 9.2703e-05\n",
      "Epoch 90/100\n",
      "1792/1792 [==============================] - 0s 175us/step - loss: 9.3270e-05 - val_loss: 1.3291e-04\n",
      "Epoch 91/100\n",
      "1792/1792 [==============================] - 0s 175us/step - loss: 9.5845e-05 - val_loss: 9.7458e-05\n",
      "Epoch 92/100\n",
      "1792/1792 [==============================] - 0s 176us/step - loss: 8.6350e-05 - val_loss: 9.7915e-05\n",
      "Epoch 93/100\n",
      "1792/1792 [==============================] - 0s 173us/step - loss: 8.0717e-05 - val_loss: 8.7818e-05\n",
      "Epoch 94/100\n",
      "1792/1792 [==============================] - 0s 176us/step - loss: 7.6826e-05 - val_loss: 9.7786e-05\n",
      "Epoch 95/100\n",
      "1792/1792 [==============================] - 0s 166us/step - loss: 7.4822e-05 - val_loss: 7.8291e-05\n",
      "Epoch 96/100\n",
      "1792/1792 [==============================] - 0s 166us/step - loss: 7.7100e-05 - val_loss: 7.6670e-05\n",
      "Epoch 97/100\n",
      "1792/1792 [==============================] - 0s 177us/step - loss: 6.5164e-05 - val_loss: 7.3462e-05\n",
      "Epoch 98/100\n",
      "1792/1792 [==============================] - 0s 168us/step - loss: 6.9310e-05 - val_loss: 8.4300e-05\n",
      "Epoch 99/100\n",
      "1792/1792 [==============================] - 0s 168us/step - loss: 6.6251e-05 - val_loss: 7.2320e-05\n",
      "Epoch 100/100\n",
      "1792/1792 [==============================] - 0s 179us/step - loss: 6.6876e-05 - val_loss: 7.8338e-05\n"
     ]
    }
   ],
   "source": [
    "trainer.pre_train_generator(g_epochs=100, g_pre_data_train=[sig_im_train_re, sig_im_train_re_t], g_pre_data_valid=[sig_im_valid_re, sig_im_valid_re_t], lr=1e-3)"
   ]
  },
  {
   "cell_type": "code",
   "execution_count": 80,
   "metadata": {},
   "outputs": [
    {
     "data": {
      "text/plain": [
       "array([[-0.27360892, -1.2704281 ]], dtype=float32)"
      ]
     },
     "execution_count": 80,
     "metadata": {},
     "output_type": "execute_result"
    }
   ],
   "source": [
    "sig_im_test_re[0]"
   ]
  },
  {
   "cell_type": "code",
   "execution_count": 81,
   "metadata": {},
   "outputs": [
    {
     "name": "stdout",
     "output_type": "stream",
     "text": [
      "[[-0.27072388 -1.2614455 ]]\n"
     ]
    }
   ],
   "source": [
    "print(trainer.predict_pre_generator(sig_im_test_re[:1].reshape(1,1,2)))"
   ]
  },
  {
   "cell_type": "code",
   "execution_count": 82,
   "metadata": {},
   "outputs": [
    {
     "name": "stdout",
     "output_type": "stream",
     "text": [
      "[[-0.27053845 -1.2613175 ]]\n"
     ]
    }
   ],
   "source": [
    "print(trainer.predict_generator(sig_im_test_re[:1].reshape(1,1,2)))"
   ]
  },
  {
   "cell_type": "code",
   "execution_count": 83,
   "metadata": {},
   "outputs": [
    {
     "name": "stdout",
     "output_type": "stream",
     "text": [
      "[[-0.28638107 -1.2720116 ]]\n"
     ]
    }
   ],
   "source": [
    "print(trainer.predict_beta_generator(sig_im_test_re[:1].reshape(1,1,2)))"
   ]
  },
  {
   "cell_type": "code",
   "execution_count": 84,
   "metadata": {},
   "outputs": [
    {
     "name": "stdout",
     "output_type": "stream",
     "text": [
      "0.4502238\n"
     ]
    }
   ],
   "source": [
    "print(trainer.predict_curr_discriminator())"
   ]
  },
  {
   "cell_type": "code",
   "execution_count": null,
   "metadata": {},
   "outputs": [],
   "source": []
  },
  {
   "cell_type": "code",
   "execution_count": 47,
   "metadata": {},
   "outputs": [
    {
     "name": "stdout",
     "output_type": "stream",
     "text": [
      "0.001\n"
     ]
    }
   ],
   "source": [
    "g_lr=1e-3\n",
    "print(g_lr)"
   ]
  },
  {
   "cell_type": "code",
   "execution_count": 92,
   "metadata": {},
   "outputs": [],
   "source": [
    "trainer.reset_generator_lr(g_lr)"
   ]
  },
  {
   "cell_type": "code",
   "execution_count": 93,
   "metadata": {},
   "outputs": [],
   "source": [
    "trainer.reflect_pre_train()"
   ]
  },
  {
   "cell_type": "code",
   "execution_count": 94,
   "metadata": {},
   "outputs": [
    {
     "name": "stdout",
     "output_type": "stream",
     "text": [
      "Initial Disc Accuracy: 0.450\n",
      "0: Disc Batch Accuracy: 0.150\n",
      "0, 1: Disc Accuracy: 0.450, Average reward: 1.000\n",
      "1, 1: Disc Accuracy: 0.580, Average reward: 1.000\n",
      "2, 1: Disc Accuracy: 0.478, Average reward: 0.000\n",
      "3, 1: Disc Accuracy: 0.465, Average reward: 1.000\n",
      "4, 1: Disc Accuracy: 0.670, Average reward: 0.000\n",
      "5, 1: Disc Accuracy: 0.450, Average reward: 1.000\n",
      "6, 1: Disc Accuracy: 0.517, Average reward: 0.000\n",
      "7, 1: Disc Accuracy: 0.506, Average reward: 0.000\n",
      "8, 1: Disc Accuracy: 0.450, Average reward: 1.000\n",
      "9, 1: Disc Accuracy: 0.835, Average reward: 0.000\n",
      "10, 1: Disc Accuracy: 0.452, Average reward: 1.000\n",
      "11, 1: Disc Accuracy: 0.738, Average reward: 1.000\n",
      "12, 1: Disc Accuracy: 0.585, Average reward: 1.000\n",
      "13, 1: Disc Accuracy: 0.558, Average reward: 1.000\n",
      "14, 1: Disc Accuracy: 0.747, Average reward: 1.000\n",
      "15, 1: Disc Accuracy: 0.726, Average reward: 1.000\n",
      "16, 1: Disc Accuracy: 0.773, Average reward: 1.000\n",
      "17, 1: Disc Accuracy: 0.717, Average reward: 1.000\n",
      "18, 1: Disc Accuracy: 0.511, Average reward: 1.000\n",
      "19, 1: Disc Accuracy: 0.876, Average reward: 1.000\n",
      "19: Disc Batch Accuracy: 0.920\n",
      "20, 1: Disc Accuracy: 0.766, Average reward: 0.000\n",
      "21, 1: Disc Accuracy: 0.768, Average reward: 1.000\n",
      "22, 1: Disc Accuracy: 0.852, Average reward: 1.000\n",
      "23, 1: Disc Accuracy: 0.846, Average reward: 1.000\n",
      "24, 1: Disc Accuracy: 0.846, Average reward: 1.000\n",
      "25, 1: Disc Accuracy: 0.886, Average reward: 1.000\n",
      "26, 1: Disc Accuracy: 0.915, Average reward: 0.000\n",
      "27, 1: Disc Accuracy: 0.829, Average reward: 1.000\n",
      "28, 1: Disc Accuracy: 0.741, Average reward: 1.000\n",
      "29, 1: Disc Accuracy: 0.709, Average reward: 1.000\n",
      "30, 1: Disc Accuracy: 0.923, Average reward: 1.000\n",
      "31, 1: Disc Accuracy: 0.841, Average reward: 1.000\n",
      "32, 1: Disc Accuracy: 0.805, Average reward: 1.000\n",
      "33, 1: Disc Accuracy: 0.778, Average reward: 0.000\n",
      "34, 1: Disc Accuracy: 0.915, Average reward: 1.000\n",
      "35, 1: Disc Accuracy: 0.763, Average reward: 1.000\n",
      "36, 1: Disc Accuracy: 0.712, Average reward: 1.000\n",
      "37, 1: Disc Accuracy: 0.887, Average reward: 1.000\n",
      "38, 1: Disc Accuracy: 0.963, Average reward: 1.000\n",
      "39, 1: Disc Accuracy: 0.880, Average reward: 1.000\n",
      "39: Disc Batch Accuracy: 0.990\n",
      "40, 1: Disc Accuracy: 0.918, Average reward: 1.000\n",
      "41, 1: Disc Accuracy: 0.825, Average reward: 1.000\n",
      "42, 1: Disc Accuracy: 0.760, Average reward: 1.000\n",
      "43, 1: Disc Accuracy: 0.943, Average reward: 1.000\n",
      "44, 1: Disc Accuracy: 0.851, Average reward: 1.000\n",
      "45, 1: Disc Accuracy: 0.607, Average reward: 1.000\n",
      "46, 1: Disc Accuracy: 0.906, Average reward: 1.000\n",
      "47, 1: Disc Accuracy: 0.857, Average reward: 1.000\n",
      "48, 1: Disc Accuracy: 0.780, Average reward: 1.000\n",
      "49, 1: Disc Accuracy: 0.868, Average reward: 1.000\n",
      "50, 1: Disc Accuracy: 0.891, Average reward: 1.000\n",
      "51, 1: Disc Accuracy: 0.835, Average reward: 1.000\n",
      "52, 1: Disc Accuracy: 0.905, Average reward: 1.000\n",
      "53, 1: Disc Accuracy: 0.901, Average reward: 1.000\n",
      "54, 1: Disc Accuracy: 0.890, Average reward: 1.000\n",
      "55, 1: Disc Accuracy: 0.930, Average reward: 1.000\n",
      "56, 1: Disc Accuracy: 0.752, Average reward: 1.000\n",
      "57, 1: Disc Accuracy: 0.773, Average reward: 1.000\n",
      "58, 1: Disc Accuracy: 0.873, Average reward: 1.000\n",
      "59, 1: Disc Accuracy: 0.888, Average reward: 1.000\n",
      "59: Disc Batch Accuracy: 1.000\n",
      "60, 1: Disc Accuracy: 0.833, Average reward: 1.000\n",
      "61, 1: Disc Accuracy: 0.974, Average reward: 1.000\n",
      "62, 1: Disc Accuracy: 0.848, Average reward: 1.000\n",
      "63, 1: Disc Accuracy: 0.843, Average reward: 1.000\n",
      "64, 1: Disc Accuracy: 0.961, Average reward: 1.000\n",
      "65, 1: Disc Accuracy: 0.843, Average reward: 1.000\n",
      "66, 1: Disc Accuracy: 0.895, Average reward: 1.000\n",
      "67, 1: Disc Accuracy: 0.603, Average reward: 1.000\n",
      "68, 1: Disc Accuracy: 0.890, Average reward: 1.000\n"
     ]
    },
    {
     "ename": "KeyboardInterrupt",
     "evalue": "",
     "output_type": "error",
     "traceback": [
      "\u001b[1;31m---------------------------------------------------------------------------\u001b[0m",
      "\u001b[1;31mKeyboardInterrupt\u001b[0m                         Traceback (most recent call last)",
      "\u001b[1;32m<ipython-input-94-22a2d312a5fd>\u001b[0m in \u001b[0;36m<module>\u001b[1;34m\u001b[0m\n\u001b[1;32m----> 1\u001b[1;33m \u001b[0mtrainer\u001b[0m\u001b[1;33m.\u001b[0m\u001b[0mtrain\u001b[0m\u001b[1;33m(\u001b[0m\u001b[0msteps\u001b[0m\u001b[1;33m=\u001b[0m\u001b[1;36m1000\u001b[0m\u001b[1;33m)\u001b[0m\u001b[1;33m\u001b[0m\u001b[1;33m\u001b[0m\u001b[0m\n\u001b[0m",
      "\u001b[1;32mG:\\My Drive\\Research\\transmitter_impersonation_simple\\SigGAN\\train.py\u001b[0m in \u001b[0;36mtrain\u001b[1;34m(self, steps, g_steps, g_weights_path, verbose)\u001b[0m\n\u001b[0;32m    216\u001b[0m                     \u001b[0mstate\u001b[0m \u001b[1;33m=\u001b[0m \u001b[0mself\u001b[0m\u001b[1;33m.\u001b[0m\u001b[0menv\u001b[0m\u001b[1;33m.\u001b[0m\u001b[0mget_state\u001b[0m\u001b[1;33m(\u001b[0m\u001b[1;33m)\u001b[0m\u001b[1;33m\u001b[0m\u001b[1;33m\u001b[0m\u001b[0m\n\u001b[0;32m    217\u001b[0m                     \u001b[0maction\u001b[0m \u001b[1;33m=\u001b[0m \u001b[0mself\u001b[0m\u001b[1;33m.\u001b[0m\u001b[0magent\u001b[0m\u001b[1;33m.\u001b[0m\u001b[0mact\u001b[0m\u001b[1;33m(\u001b[0m\u001b[0mstate\u001b[0m\u001b[1;33m)\u001b[0m\u001b[1;33m\u001b[0m\u001b[1;33m\u001b[0m\u001b[0m\n\u001b[1;32m--> 218\u001b[1;33m                     \u001b[0mnext_state\u001b[0m\u001b[1;33m,\u001b[0m \u001b[0mreward\u001b[0m\u001b[1;33m,\u001b[0m \u001b[0mis_episode_end\u001b[0m\u001b[1;33m,\u001b[0m \u001b[0minfo\u001b[0m \u001b[1;33m=\u001b[0m \u001b[0mself\u001b[0m\u001b[1;33m.\u001b[0m\u001b[0menv\u001b[0m\u001b[1;33m.\u001b[0m\u001b[0mstep\u001b[0m\u001b[1;33m(\u001b[0m\u001b[0maction\u001b[0m\u001b[1;33m)\u001b[0m\u001b[1;33m\u001b[0m\u001b[1;33m\u001b[0m\u001b[0m\n\u001b[0m\u001b[0;32m    219\u001b[0m                     \u001b[1;31m#print('Reward: {:.3f}'.format(reward.squeeze()))\u001b[0m\u001b[1;33m\u001b[0m\u001b[1;33m\u001b[0m\u001b[1;33m\u001b[0m\u001b[0m\n\u001b[0;32m    220\u001b[0m                     \u001b[0mstates\u001b[0m\u001b[1;33m[\u001b[0m\u001b[0mt\u001b[0m\u001b[1;33m,\u001b[0m\u001b[1;33m:\u001b[0m\u001b[1;33m]\u001b[0m\u001b[1;33m=\u001b[0m\u001b[0mstate\u001b[0m\u001b[1;33m\u001b[0m\u001b[1;33m\u001b[0m\u001b[0m\n",
      "\u001b[1;32mG:\\My Drive\\Research\\transmitter_impersonation_simple\\SigGAN\\rl.py\u001b[0m in \u001b[0;36mstep\u001b[1;34m(self, action)\u001b[0m\n\u001b[0;32m     69\u001b[0m         \u001b[0mnext_state\u001b[0m \u001b[1;33m=\u001b[0m \u001b[0mself\u001b[0m\u001b[1;33m.\u001b[0m\u001b[0mget_state\u001b[0m\u001b[1;33m(\u001b[0m\u001b[1;33m)\u001b[0m\u001b[1;33m\u001b[0m\u001b[1;33m\u001b[0m\u001b[0m\n\u001b[0;32m     70\u001b[0m \u001b[1;33m\u001b[0m\u001b[0m\n\u001b[1;32m---> 71\u001b[1;33m         \u001b[0mreward\u001b[0m \u001b[1;33m=\u001b[0m \u001b[0mself\u001b[0m\u001b[1;33m.\u001b[0m\u001b[0mQ\u001b[0m\u001b[1;33m(\u001b[0m\u001b[0maction\u001b[0m\u001b[1;33m,\u001b[0m \u001b[0mself\u001b[0m\u001b[1;33m.\u001b[0m\u001b[0mn_sample\u001b[0m\u001b[1;33m)\u001b[0m\u001b[1;33m\u001b[0m\u001b[1;33m\u001b[0m\u001b[0m\n\u001b[0m\u001b[0;32m     72\u001b[0m         \u001b[1;31m#print(\"RRReward \", reward)\u001b[0m\u001b[1;33m\u001b[0m\u001b[1;33m\u001b[0m\u001b[1;33m\u001b[0m\u001b[0m\n\u001b[0;32m     73\u001b[0m         \u001b[0minfo\u001b[0m \u001b[1;33m=\u001b[0m \u001b[1;32mNone\u001b[0m\u001b[1;33m\u001b[0m\u001b[1;33m\u001b[0m\u001b[0m\n",
      "\u001b[1;32mG:\\My Drive\\Research\\transmitter_impersonation_simple\\SigGAN\\rl.py\u001b[0m in \u001b[0;36mQ\u001b[1;34m(self, action, n_sample)\u001b[0m\n\u001b[0;32m     96\u001b[0m             \u001b[0mR\u001b[0m \u001b[1;33m=\u001b[0m \u001b[0mR_base\u001b[0m\u001b[1;33m\u001b[0m\u001b[1;33m\u001b[0m\u001b[0m\n\u001b[0;32m     97\u001b[0m             \u001b[1;32mfor\u001b[0m \u001b[0mtau\u001b[0m \u001b[1;32min\u001b[0m \u001b[0mrange\u001b[0m\u001b[1;33m(\u001b[0m\u001b[0mself\u001b[0m\u001b[1;33m.\u001b[0m\u001b[0mt\u001b[0m\u001b[1;33m+\u001b[0m\u001b[1;36m1\u001b[0m\u001b[1;33m,\u001b[0m \u001b[0mself\u001b[0m\u001b[1;33m.\u001b[0m\u001b[0mT\u001b[0m\u001b[1;33m)\u001b[0m\u001b[1;33m:\u001b[0m\u001b[1;33m\u001b[0m\u001b[1;33m\u001b[0m\u001b[0m\n\u001b[1;32m---> 98\u001b[1;33m                 \u001b[0my_tau\u001b[0m \u001b[1;33m=\u001b[0m \u001b[0mself\u001b[0m\u001b[1;33m.\u001b[0m\u001b[0mg_beta\u001b[0m\u001b[1;33m.\u001b[0m\u001b[0mact\u001b[0m\u001b[1;33m(\u001b[0m\u001b[0mY\u001b[0m\u001b[1;33m)\u001b[0m\u001b[1;33m\u001b[0m\u001b[1;33m\u001b[0m\u001b[0m\n\u001b[0m\u001b[0;32m     99\u001b[0m                 \u001b[0mY\u001b[0m \u001b[1;33m=\u001b[0m \u001b[0mself\u001b[0m\u001b[1;33m.\u001b[0m\u001b[0m_update_state\u001b[0m\u001b[1;33m(\u001b[0m\u001b[0my_tau\u001b[0m\u001b[1;33m,\u001b[0m \u001b[0mcurrent_state\u001b[0m\u001b[1;33m=\u001b[0m\u001b[0mY\u001b[0m\u001b[1;33m,\u001b[0m \u001b[0mtau\u001b[0m\u001b[1;33m=\u001b[0m\u001b[0mtau\u001b[0m\u001b[1;33m)\u001b[0m\u001b[1;33m\u001b[0m\u001b[1;33m\u001b[0m\u001b[0m\n\u001b[0;32m    100\u001b[0m                 \u001b[0mR\u001b[0m \u001b[1;33m=\u001b[0m \u001b[0mself\u001b[0m\u001b[1;33m.\u001b[0m\u001b[0m_update_result\u001b[0m\u001b[1;33m(\u001b[0m\u001b[0my_tau\u001b[0m\u001b[1;33m,\u001b[0m \u001b[0mcurrent_result\u001b[0m\u001b[1;33m=\u001b[0m\u001b[0mR\u001b[0m\u001b[1;33m)\u001b[0m\u001b[1;33m\u001b[0m\u001b[1;33m\u001b[0m\u001b[0m\n",
      "\u001b[1;32mG:\\My Drive\\Research\\transmitter_impersonation_simple\\SigGAN\\rl.py\u001b[0m in \u001b[0;36mact\u001b[1;34m(self, state)\u001b[0m\n\u001b[0;32m     12\u001b[0m \u001b[1;33m\u001b[0m\u001b[0m\n\u001b[0;32m     13\u001b[0m     \u001b[1;32mdef\u001b[0m \u001b[0mact\u001b[0m\u001b[1;33m(\u001b[0m\u001b[0mself\u001b[0m\u001b[1;33m,\u001b[0m \u001b[0mstate\u001b[0m\u001b[1;33m)\u001b[0m\u001b[1;33m:\u001b[0m\u001b[1;33m\u001b[0m\u001b[1;33m\u001b[0m\u001b[0m\n\u001b[1;32m---> 14\u001b[1;33m         \u001b[0maction\u001b[0m \u001b[1;33m=\u001b[0m \u001b[0mself\u001b[0m\u001b[1;33m.\u001b[0m\u001b[0mgenerator\u001b[0m\u001b[1;33m.\u001b[0m\u001b[0mpredict\u001b[0m\u001b[1;33m(\u001b[0m\u001b[0mstate\u001b[0m\u001b[1;33m)\u001b[0m\u001b[1;33m\u001b[0m\u001b[1;33m\u001b[0m\u001b[0m\n\u001b[0m\u001b[0;32m     15\u001b[0m         \u001b[1;32mreturn\u001b[0m \u001b[0maction\u001b[0m\u001b[1;33m\u001b[0m\u001b[1;33m\u001b[0m\u001b[0m\n\u001b[0;32m     16\u001b[0m \u001b[1;33m\u001b[0m\u001b[0m\n",
      "\u001b[1;32mG:\\My Drive\\Research\\transmitter_impersonation_simple\\SigGAN\\models.py\u001b[0m in \u001b[0;36mpredict\u001b[1;34m(self, state)\u001b[0m\n\u001b[0;32m    121\u001b[0m             self.state_in : state}\n\u001b[0;32m    122\u001b[0m         action = self.sess.run(\n\u001b[1;32m--> 123\u001b[1;33m             [self.sample], feed_dict)\n\u001b[0m\u001b[0;32m    124\u001b[0m         \u001b[1;31m#print(action)\u001b[0m\u001b[1;33m\u001b[0m\u001b[1;33m\u001b[0m\u001b[1;33m\u001b[0m\u001b[0m\n\u001b[0;32m    125\u001b[0m         \u001b[1;32mreturn\u001b[0m \u001b[0mnp\u001b[0m\u001b[1;33m.\u001b[0m\u001b[0mreshape\u001b[0m\u001b[1;33m(\u001b[0m\u001b[0maction\u001b[0m\u001b[1;33m,\u001b[0m \u001b[1;33m(\u001b[0m\u001b[1;33m-\u001b[0m\u001b[1;36m1\u001b[0m\u001b[1;33m,\u001b[0m\u001b[1;36m2\u001b[0m\u001b[1;33m)\u001b[0m\u001b[1;33m)\u001b[0m\u001b[1;33m\u001b[0m\u001b[1;33m\u001b[0m\u001b[0m\n",
      "\u001b[1;32m~\\Anaconda3\\envs\\tf_gpu\\lib\\site-packages\\tensorflow_core\\python\\client\\session.py\u001b[0m in \u001b[0;36mrun\u001b[1;34m(self, fetches, feed_dict, options, run_metadata)\u001b[0m\n\u001b[0;32m    954\u001b[0m     \u001b[1;32mtry\u001b[0m\u001b[1;33m:\u001b[0m\u001b[1;33m\u001b[0m\u001b[1;33m\u001b[0m\u001b[0m\n\u001b[0;32m    955\u001b[0m       result = self._run(None, fetches, feed_dict, options_ptr,\n\u001b[1;32m--> 956\u001b[1;33m                          run_metadata_ptr)\n\u001b[0m\u001b[0;32m    957\u001b[0m       \u001b[1;32mif\u001b[0m \u001b[0mrun_metadata\u001b[0m\u001b[1;33m:\u001b[0m\u001b[1;33m\u001b[0m\u001b[1;33m\u001b[0m\u001b[0m\n\u001b[0;32m    958\u001b[0m         \u001b[0mproto_data\u001b[0m \u001b[1;33m=\u001b[0m \u001b[0mtf_session\u001b[0m\u001b[1;33m.\u001b[0m\u001b[0mTF_GetBuffer\u001b[0m\u001b[1;33m(\u001b[0m\u001b[0mrun_metadata_ptr\u001b[0m\u001b[1;33m)\u001b[0m\u001b[1;33m\u001b[0m\u001b[1;33m\u001b[0m\u001b[0m\n",
      "\u001b[1;32m~\\Anaconda3\\envs\\tf_gpu\\lib\\site-packages\\tensorflow_core\\python\\client\\session.py\u001b[0m in \u001b[0;36m_run\u001b[1;34m(self, handle, fetches, feed_dict, options, run_metadata)\u001b[0m\n\u001b[0;32m   1178\u001b[0m     \u001b[1;32mif\u001b[0m \u001b[0mfinal_fetches\u001b[0m \u001b[1;32mor\u001b[0m \u001b[0mfinal_targets\u001b[0m \u001b[1;32mor\u001b[0m \u001b[1;33m(\u001b[0m\u001b[0mhandle\u001b[0m \u001b[1;32mand\u001b[0m \u001b[0mfeed_dict_tensor\u001b[0m\u001b[1;33m)\u001b[0m\u001b[1;33m:\u001b[0m\u001b[1;33m\u001b[0m\u001b[1;33m\u001b[0m\u001b[0m\n\u001b[0;32m   1179\u001b[0m       results = self._do_run(handle, final_targets, final_fetches,\n\u001b[1;32m-> 1180\u001b[1;33m                              feed_dict_tensor, options, run_metadata)\n\u001b[0m\u001b[0;32m   1181\u001b[0m     \u001b[1;32melse\u001b[0m\u001b[1;33m:\u001b[0m\u001b[1;33m\u001b[0m\u001b[1;33m\u001b[0m\u001b[0m\n\u001b[0;32m   1182\u001b[0m       \u001b[0mresults\u001b[0m \u001b[1;33m=\u001b[0m \u001b[1;33m[\u001b[0m\u001b[1;33m]\u001b[0m\u001b[1;33m\u001b[0m\u001b[1;33m\u001b[0m\u001b[0m\n",
      "\u001b[1;32m~\\Anaconda3\\envs\\tf_gpu\\lib\\site-packages\\tensorflow_core\\python\\client\\session.py\u001b[0m in \u001b[0;36m_do_run\u001b[1;34m(self, handle, target_list, fetch_list, feed_dict, options, run_metadata)\u001b[0m\n\u001b[0;32m   1357\u001b[0m     \u001b[1;32mif\u001b[0m \u001b[0mhandle\u001b[0m \u001b[1;32mis\u001b[0m \u001b[1;32mNone\u001b[0m\u001b[1;33m:\u001b[0m\u001b[1;33m\u001b[0m\u001b[1;33m\u001b[0m\u001b[0m\n\u001b[0;32m   1358\u001b[0m       return self._do_call(_run_fn, feeds, fetches, targets, options,\n\u001b[1;32m-> 1359\u001b[1;33m                            run_metadata)\n\u001b[0m\u001b[0;32m   1360\u001b[0m     \u001b[1;32melse\u001b[0m\u001b[1;33m:\u001b[0m\u001b[1;33m\u001b[0m\u001b[1;33m\u001b[0m\u001b[0m\n\u001b[0;32m   1361\u001b[0m       \u001b[1;32mreturn\u001b[0m \u001b[0mself\u001b[0m\u001b[1;33m.\u001b[0m\u001b[0m_do_call\u001b[0m\u001b[1;33m(\u001b[0m\u001b[0m_prun_fn\u001b[0m\u001b[1;33m,\u001b[0m \u001b[0mhandle\u001b[0m\u001b[1;33m,\u001b[0m \u001b[0mfeeds\u001b[0m\u001b[1;33m,\u001b[0m \u001b[0mfetches\u001b[0m\u001b[1;33m)\u001b[0m\u001b[1;33m\u001b[0m\u001b[1;33m\u001b[0m\u001b[0m\n",
      "\u001b[1;32m~\\Anaconda3\\envs\\tf_gpu\\lib\\site-packages\\tensorflow_core\\python\\client\\session.py\u001b[0m in \u001b[0;36m_do_call\u001b[1;34m(self, fn, *args)\u001b[0m\n\u001b[0;32m   1363\u001b[0m   \u001b[1;32mdef\u001b[0m \u001b[0m_do_call\u001b[0m\u001b[1;33m(\u001b[0m\u001b[0mself\u001b[0m\u001b[1;33m,\u001b[0m \u001b[0mfn\u001b[0m\u001b[1;33m,\u001b[0m \u001b[1;33m*\u001b[0m\u001b[0margs\u001b[0m\u001b[1;33m)\u001b[0m\u001b[1;33m:\u001b[0m\u001b[1;33m\u001b[0m\u001b[1;33m\u001b[0m\u001b[0m\n\u001b[0;32m   1364\u001b[0m     \u001b[1;32mtry\u001b[0m\u001b[1;33m:\u001b[0m\u001b[1;33m\u001b[0m\u001b[1;33m\u001b[0m\u001b[0m\n\u001b[1;32m-> 1365\u001b[1;33m       \u001b[1;32mreturn\u001b[0m \u001b[0mfn\u001b[0m\u001b[1;33m(\u001b[0m\u001b[1;33m*\u001b[0m\u001b[0margs\u001b[0m\u001b[1;33m)\u001b[0m\u001b[1;33m\u001b[0m\u001b[1;33m\u001b[0m\u001b[0m\n\u001b[0m\u001b[0;32m   1366\u001b[0m     \u001b[1;32mexcept\u001b[0m \u001b[0merrors\u001b[0m\u001b[1;33m.\u001b[0m\u001b[0mOpError\u001b[0m \u001b[1;32mas\u001b[0m \u001b[0me\u001b[0m\u001b[1;33m:\u001b[0m\u001b[1;33m\u001b[0m\u001b[1;33m\u001b[0m\u001b[0m\n\u001b[0;32m   1367\u001b[0m       \u001b[0mmessage\u001b[0m \u001b[1;33m=\u001b[0m \u001b[0mcompat\u001b[0m\u001b[1;33m.\u001b[0m\u001b[0mas_text\u001b[0m\u001b[1;33m(\u001b[0m\u001b[0me\u001b[0m\u001b[1;33m.\u001b[0m\u001b[0mmessage\u001b[0m\u001b[1;33m)\u001b[0m\u001b[1;33m\u001b[0m\u001b[1;33m\u001b[0m\u001b[0m\n",
      "\u001b[1;32m~\\Anaconda3\\envs\\tf_gpu\\lib\\site-packages\\tensorflow_core\\python\\client\\session.py\u001b[0m in \u001b[0;36m_run_fn\u001b[1;34m(feed_dict, fetch_list, target_list, options, run_metadata)\u001b[0m\n\u001b[0;32m   1348\u001b[0m       \u001b[0mself\u001b[0m\u001b[1;33m.\u001b[0m\u001b[0m_extend_graph\u001b[0m\u001b[1;33m(\u001b[0m\u001b[1;33m)\u001b[0m\u001b[1;33m\u001b[0m\u001b[1;33m\u001b[0m\u001b[0m\n\u001b[0;32m   1349\u001b[0m       return self._call_tf_sessionrun(options, feed_dict, fetch_list,\n\u001b[1;32m-> 1350\u001b[1;33m                                       target_list, run_metadata)\n\u001b[0m\u001b[0;32m   1351\u001b[0m \u001b[1;33m\u001b[0m\u001b[0m\n\u001b[0;32m   1352\u001b[0m     \u001b[1;32mdef\u001b[0m \u001b[0m_prun_fn\u001b[0m\u001b[1;33m(\u001b[0m\u001b[0mhandle\u001b[0m\u001b[1;33m,\u001b[0m \u001b[0mfeed_dict\u001b[0m\u001b[1;33m,\u001b[0m \u001b[0mfetch_list\u001b[0m\u001b[1;33m)\u001b[0m\u001b[1;33m:\u001b[0m\u001b[1;33m\u001b[0m\u001b[1;33m\u001b[0m\u001b[0m\n",
      "\u001b[1;32m~\\Anaconda3\\envs\\tf_gpu\\lib\\site-packages\\tensorflow_core\\python\\client\\session.py\u001b[0m in \u001b[0;36m_call_tf_sessionrun\u001b[1;34m(self, options, feed_dict, fetch_list, target_list, run_metadata)\u001b[0m\n\u001b[0;32m   1441\u001b[0m     return tf_session.TF_SessionRun_wrapper(self._session, options, feed_dict,\n\u001b[0;32m   1442\u001b[0m                                             \u001b[0mfetch_list\u001b[0m\u001b[1;33m,\u001b[0m \u001b[0mtarget_list\u001b[0m\u001b[1;33m,\u001b[0m\u001b[1;33m\u001b[0m\u001b[1;33m\u001b[0m\u001b[0m\n\u001b[1;32m-> 1443\u001b[1;33m                                             run_metadata)\n\u001b[0m\u001b[0;32m   1444\u001b[0m \u001b[1;33m\u001b[0m\u001b[0m\n\u001b[0;32m   1445\u001b[0m   \u001b[1;32mdef\u001b[0m \u001b[0m_call_tf_sessionprun\u001b[0m\u001b[1;33m(\u001b[0m\u001b[0mself\u001b[0m\u001b[1;33m,\u001b[0m \u001b[0mhandle\u001b[0m\u001b[1;33m,\u001b[0m \u001b[0mfeed_dict\u001b[0m\u001b[1;33m,\u001b[0m \u001b[0mfetch_list\u001b[0m\u001b[1;33m)\u001b[0m\u001b[1;33m:\u001b[0m\u001b[1;33m\u001b[0m\u001b[1;33m\u001b[0m\u001b[0m\n",
      "\u001b[1;31mKeyboardInterrupt\u001b[0m: "
     ]
    }
   ],
   "source": [
    "trainer.train(steps=1000)"
   ]
  },
  {
   "cell_type": "code",
   "execution_count": null,
   "metadata": {},
   "outputs": [],
   "source": []
  },
  {
   "cell_type": "code",
   "execution_count": null,
   "metadata": {},
   "outputs": [],
   "source": []
  }
 ],
 "metadata": {
  "kernelspec": {
   "display_name": "Python 3",
   "language": "python",
   "name": "python3"
  },
  "language_info": {
   "codemirror_mode": {
    "name": "ipython",
    "version": 3
   },
   "file_extension": ".py",
   "mimetype": "text/x-python",
   "name": "python",
   "nbconvert_exporter": "python",
   "pygments_lexer": "ipython3",
   "version": "3.7.5"
  }
 },
 "nbformat": 4,
 "nbformat_minor": 4
}
