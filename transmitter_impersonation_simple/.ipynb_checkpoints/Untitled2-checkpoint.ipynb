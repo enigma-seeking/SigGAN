{
 "cells": [
  {
   "cell_type": "code",
   "execution_count": 1,
   "metadata": {},
   "outputs": [
    {
     "name": "stderr",
     "output_type": "stream",
     "text": [
      "Using TensorFlow backend.\n"
     ]
    }
   ],
   "source": [
    "# MLP for Pima Indians Dataset Serialize to JSON and HDF5\n",
    "from keras.models import Sequential\n",
    "from keras.layers import Dense\n",
    "from keras.models import model_from_json\n",
    "import numpy\n",
    "import os"
   ]
  },
  {
   "cell_type": "code",
   "execution_count": 2,
   "metadata": {},
   "outputs": [
    {
     "name": "stdout",
     "output_type": "stream",
     "text": [
      "WARNING:tensorflow:From C:\\Users\\samur\\Anaconda3\\envs\\tf_gpu\\lib\\site-packages\\keras\\backend\\tensorflow_backend.py:517: The name tf.placeholder is deprecated. Please use tf.compat.v1.placeholder instead.\n",
      "\n",
      "WARNING:tensorflow:From C:\\Users\\samur\\Anaconda3\\envs\\tf_gpu\\lib\\site-packages\\keras\\backend\\tensorflow_backend.py:4138: The name tf.random_uniform is deprecated. Please use tf.random.uniform instead.\n",
      "\n",
      "WARNING:tensorflow:From C:\\Users\\samur\\Anaconda3\\envs\\tf_gpu\\lib\\site-packages\\keras\\backend\\tensorflow_backend.py:245: The name tf.get_default_graph is deprecated. Please use tf.compat.v1.get_default_graph instead.\n",
      "\n",
      "WARNING:tensorflow:From C:\\Users\\samur\\Anaconda3\\envs\\tf_gpu\\lib\\site-packages\\keras\\backend\\tensorflow_backend.py:174: The name tf.get_default_session is deprecated. Please use tf.compat.v1.get_default_session instead.\n",
      "\n",
      "WARNING:tensorflow:From C:\\Users\\samur\\Anaconda3\\envs\\tf_gpu\\lib\\site-packages\\keras\\backend\\tensorflow_backend.py:181: The name tf.ConfigProto is deprecated. Please use tf.compat.v1.ConfigProto instead.\n",
      "\n",
      "WARNING:tensorflow:From C:\\Users\\samur\\Anaconda3\\envs\\tf_gpu\\lib\\site-packages\\keras\\backend\\tensorflow_backend.py:186: The name tf.Session is deprecated. Please use tf.compat.v1.Session instead.\n",
      "\n",
      "WARNING:tensorflow:From C:\\Users\\samur\\Anaconda3\\envs\\tf_gpu\\lib\\site-packages\\keras\\backend\\tensorflow_backend.py:190: The name tf.global_variables is deprecated. Please use tf.compat.v1.global_variables instead.\n",
      "\n",
      "WARNING:tensorflow:From C:\\Users\\samur\\Anaconda3\\envs\\tf_gpu\\lib\\site-packages\\keras\\backend\\tensorflow_backend.py:199: The name tf.is_variable_initialized is deprecated. Please use tf.compat.v1.is_variable_initialized instead.\n",
      "\n",
      "WARNING:tensorflow:From C:\\Users\\samur\\Anaconda3\\envs\\tf_gpu\\lib\\site-packages\\keras\\backend\\tensorflow_backend.py:206: The name tf.variables_initializer is deprecated. Please use tf.compat.v1.variables_initializer instead.\n",
      "\n",
      "WARNING:tensorflow:From C:\\Users\\samur\\Anaconda3\\envs\\tf_gpu\\lib\\site-packages\\keras\\backend\\tensorflow_backend.py:1834: The name tf.nn.fused_batch_norm is deprecated. Please use tf.compat.v1.nn.fused_batch_norm instead.\n",
      "\n",
      "WARNING:tensorflow:From C:\\Users\\samur\\Anaconda3\\envs\\tf_gpu\\lib\\site-packages\\keras\\backend\\tensorflow_backend.py:133: The name tf.placeholder_with_default is deprecated. Please use tf.compat.v1.placeholder_with_default instead.\n",
      "\n",
      "WARNING:tensorflow:From C:\\Users\\samur\\Anaconda3\\envs\\tf_gpu\\lib\\site-packages\\keras\\backend\\tensorflow_backend.py:3976: The name tf.nn.max_pool is deprecated. Please use tf.nn.max_pool2d instead.\n",
      "\n",
      "WARNING:tensorflow:From C:\\Users\\samur\\Anaconda3\\envs\\tf_gpu\\lib\\site-packages\\keras\\backend\\tensorflow_backend.py:3445: calling dropout (from tensorflow.python.ops.nn_ops) with keep_prob is deprecated and will be removed in a future version.\n",
      "Instructions for updating:\n",
      "Please use `rate` instead of `keep_prob`. Rate should be set to `rate = 1 - keep_prob`.\n"
     ]
    }
   ],
   "source": [
    "# load json and create model\n",
    "json_file = open('discriminator.json', 'r')\n",
    "loaded_model_json = json_file.read()\n",
    "json_file.close()\n",
    "loaded_model = model_from_json(loaded_model_json)\n",
    "# load weights into new model\n",
    "# loaded_model.load_weights(\"model.h5\")\n",
    "# print(\"Loaded model from disk\")"
   ]
  },
  {
   "cell_type": "code",
   "execution_count": 3,
   "metadata": {},
   "outputs": [
    {
     "name": "stdout",
     "output_type": "stream",
     "text": [
      "__________________________________________________________________________________________________\n",
      "Layer (type)                    Output Shape         Param #     Connected to                     \n",
      "==================================================================================================\n",
      "input_6 (InputLayer)            (None, 256)          0                                            \n",
      "__________________________________________________________________________________________________\n",
      "reshape_6 (Reshape)             (None, 128, 2, 1)    0           input_6[0][0]                    \n",
      "__________________________________________________________________________________________________\n",
      "1_conv1 (Conv2D)                (None, 128, 2, 16)   32          reshape_6[0][0]                  \n",
      "__________________________________________________________________________________________________\n",
      "1_conv2 (Conv2D)                (None, 128, 2, 16)   1552        1_conv1[0][0]                    \n",
      "__________________________________________________________________________________________________\n",
      "1_bn (BatchNormalization)       (None, 128, 2, 16)   64          1_conv2[0][0]                    \n",
      "__________________________________________________________________________________________________\n",
      "1_act1 (Activation)             (None, 128, 2, 16)   0           1_bn[0][0]                       \n",
      "__________________________________________________________________________________________________\n",
      "1_conv3 (Conv2D)                (None, 128, 2, 16)   1552        1_act1[0][0]                     \n",
      "__________________________________________________________________________________________________\n",
      "1_bn2 (BatchNormalization)      (None, 128, 2, 16)   64          1_conv3[0][0]                    \n",
      "__________________________________________________________________________________________________\n",
      "1_add (Add)                     (None, 128, 2, 16)   0           1_bn2[0][0]                      \n",
      "                                                                 1_conv1[0][0]                    \n",
      "__________________________________________________________________________________________________\n",
      "1_act2 (Activation)             (None, 128, 2, 16)   0           1_add[0][0]                      \n",
      "__________________________________________________________________________________________________\n",
      "max_pooling2d_12 (MaxPooling2D) (None, 64, 2, 16)    0           1_act2[0][0]                     \n",
      "__________________________________________________________________________________________________\n",
      "3_0_conv1 (Conv2D)              (None, 64, 2, 32)    544         max_pooling2d_12[0][0]           \n",
      "__________________________________________________________________________________________________\n",
      "3_0_conv2 (Conv2D)              (None, 64, 2, 32)    6176        3_0_conv1[0][0]                  \n",
      "__________________________________________________________________________________________________\n",
      "3_0_bn (BatchNormalization)     (None, 64, 2, 32)    128         3_0_conv2[0][0]                  \n",
      "__________________________________________________________________________________________________\n",
      "3_0_act1 (Activation)           (None, 64, 2, 32)    0           3_0_bn[0][0]                     \n",
      "__________________________________________________________________________________________________\n",
      "3_0_conv3 (Conv2D)              (None, 64, 2, 32)    6176        3_0_act1[0][0]                   \n",
      "__________________________________________________________________________________________________\n",
      "3_0_bn2 (BatchNormalization)    (None, 64, 2, 32)    128         3_0_conv3[0][0]                  \n",
      "__________________________________________________________________________________________________\n",
      "3_0_add (Add)                   (None, 64, 2, 32)    0           3_0_bn2[0][0]                    \n",
      "                                                                 3_0_conv1[0][0]                  \n",
      "__________________________________________________________________________________________________\n",
      "3_0_act2 (Activation)           (None, 64, 2, 32)    0           3_0_add[0][0]                    \n",
      "__________________________________________________________________________________________________\n",
      "max_pooling2d_13 (MaxPooling2D) (None, 32, 2, 32)    0           3_0_act2[0][0]                   \n",
      "__________________________________________________________________________________________________\n",
      "5_0_conv1 (Conv2D)              (None, 32, 2, 64)    2112        max_pooling2d_13[0][0]           \n",
      "__________________________________________________________________________________________________\n",
      "5_0_conv2 (Conv2D)              (None, 32, 2, 64)    24640       5_0_conv1[0][0]                  \n",
      "__________________________________________________________________________________________________\n",
      "5_0_bn (BatchNormalization)     (None, 32, 2, 64)    256         5_0_conv2[0][0]                  \n",
      "__________________________________________________________________________________________________\n",
      "5_0_act1 (Activation)           (None, 32, 2, 64)    0           5_0_bn[0][0]                     \n",
      "__________________________________________________________________________________________________\n",
      "5_0_conv3 (Conv2D)              (None, 32, 2, 64)    24640       5_0_act1[0][0]                   \n",
      "__________________________________________________________________________________________________\n",
      "5_0_bn2 (BatchNormalization)    (None, 32, 2, 64)    256         5_0_conv3[0][0]                  \n",
      "__________________________________________________________________________________________________\n",
      "5_0_add (Add)                   (None, 32, 2, 64)    0           5_0_bn2[0][0]                    \n",
      "                                                                 5_0_conv1[0][0]                  \n",
      "__________________________________________________________________________________________________\n",
      "5_0_act2 (Activation)           (None, 32, 2, 64)    0           5_0_add[0][0]                    \n",
      "__________________________________________________________________________________________________\n",
      "max_pooling2d_14 (MaxPooling2D) (None, 16, 1, 64)    0           5_0_act2[0][0]                   \n",
      "__________________________________________________________________________________________________\n",
      "conv2d_6 (Conv2D)               (None, 16, 1, 16)    1040        max_pooling2d_14[0][0]           \n",
      "__________________________________________________________________________________________________\n",
      "flatten_6 (Flatten)             (None, 256)          0           conv2d_6[0][0]                   \n",
      "__________________________________________________________________________________________________\n",
      "dense_6 (Dense)                 (None, 50)           12850       flatten_6[0][0]                  \n",
      "__________________________________________________________________________________________________\n",
      "dropout_6 (Dropout)             (None, 50)           0           dense_6[0][0]                    \n",
      "__________________________________________________________________________________________________\n",
      "sftmx_0 (Dense)                 (None, 1)            51          dropout_6[0][0]                  \n",
      "==================================================================================================\n",
      "Total params: 82,261\n",
      "Trainable params: 81,813\n",
      "Non-trainable params: 448\n",
      "__________________________________________________________________________________________________\n"
     ]
    }
   ],
   "source": [
    "loaded_model.summary()"
   ]
  },
  {
   "cell_type": "code",
   "execution_count": null,
   "metadata": {},
   "outputs": [],
   "source": []
  }
 ],
 "metadata": {
  "kernelspec": {
   "display_name": "Python 3",
   "language": "python",
   "name": "python3"
  },
  "language_info": {
   "codemirror_mode": {
    "name": "ipython",
    "version": 3
   },
   "file_extension": ".py",
   "mimetype": "text/x-python",
   "name": "python",
   "nbconvert_exporter": "python",
   "pygments_lexer": "ipython3",
   "version": "3.7.5"
  }
 },
 "nbformat": 4,
 "nbformat_minor": 4
}
